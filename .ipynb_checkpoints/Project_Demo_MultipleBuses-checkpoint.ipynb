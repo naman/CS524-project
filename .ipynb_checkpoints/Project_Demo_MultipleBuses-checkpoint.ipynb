{
 "cells": [
  {
   "cell_type": "markdown",
   "id": "07821839",
   "metadata": {},
   "source": [
    "### ECE/CS/ISyE 524 &mdash; Introduction to Optimization &mdash; Spring 2022 ###\n",
    "\n",
    "\n",
    "# Madison Bus Route Designing: Preliminary Report\n",
    "\n",
    "Team Members: Rabeeya Hamid, Ai Guan, Naman Gupta\n",
    "\n",
    "Data: 04/22/2022\n",
    "\n",
    "*****\n",
    "\n",
    "### Table of Contents\n",
    "\n",
    "1. [Problem Description](#1.-Problem-Description)\n",
    "2. [Data Collection](#2.-Data-Collection)\n",
    "3. [Mathematical Model](#3.-Mathematical-Model)\n",
    "4. [Preliminary Code Implementation](#4.-Code-Implementation)\n",
    "5. [Preliminary Results and Analysis](#5.-Results-and-Analysis)\n"
   ]
  },
  {
   "cell_type": "code",
   "execution_count": 30,
   "id": "cb18fb98",
   "metadata": {},
   "outputs": [],
   "source": [
    "using PyPlot"
   ]
  },
  {
   "cell_type": "markdown",
   "id": "e26e6c0c",
   "metadata": {},
   "source": [
    "## 1. Problem Description"
   ]
  },
  {
   "cell_type": "markdown",
   "id": "db013bd9",
   "metadata": {},
   "source": [
    "\n",
    "Based on the increasing need of public transportation, the City of Madison Metro Transit is proposing a major network redesign ([Transit Network Redesign](https://www.cityofmadison.com/metro/routes-schedules/transit-network-redesign)). Currently, they are surveying the students of UW-Madison and the residents of Madison for suggestions on their travel preferences, so that they can re-design the bus routes to meet the ridership demand and businesses. As University of Wisconsin-Madison students, our team thinks the redesign project would also have significant impact on our daily lives. \n",
    "\n",
    "The aim of the project is to model the routing design as a network optimization problem, so that we can propose the model as a part of their feedback survey. The family of network optimization problem includes assignment, critical path, max flow, shortest path, transportation, and min-cost flow problems. One of the primary results of the model is a network of arcs and nodes that illustrate the optimal routes for the nodes in a network ([Network Optimization](http://home.ubalt.edu/ntsbarsh/opre640a/partIII.htm#:~:text=The%20family%20of%20network%20optimization,called%20a%20vertex%2C%20or%20point)).\n",
    "\n",
    "The project is a transportation problem in the network optimization problem family, and the nodes represent the bus stops, and the arcs represent the transportation flow between two stations. The model consist of three parts: decision variables, constraints, and objective function. We would like to model the optimal routes to meet the demand of ridership for each bus stop in Madison. Therefore, the objective function of the problem is to maximize the number of passengers boarding each bus on all the bus stops in Madison,  subject to fuel limitation of each bus, the capacity of a bus, routing regulations and ridership demand for each bus stop. "
   ]
  },
  {
   "cell_type": "markdown",
   "id": "1b3079de",
   "metadata": {},
   "source": [
    "## 2. Data Collection"
   ]
  },
  {
   "cell_type": "markdown",
   "id": "f20fab31",
   "metadata": {},
   "source": [
    "The data utilized in the project is the publicly available data from the City of Madison website. Two datasets are selected corresponding to the \n",
    "   1.\tMetro Transit Ridership by Stop | City of Madison Open Data.  [Data Source](https://data-cityofmadison.opendata.arcgis.com/datasets/cityofmadison::metro-transit-ridership-by-stop)\n",
    "   2.\tMetro Transit Bus Route Patterns | City of Madison Open Data. [Data Source](https://data-cityofmadison.opendata.arcgis.com/datasets/cityofmadison::metro-transit-bus-route-patterns/about)\n",
    "   3.   Metro Transit Bus Stops | City of Madison Open Data. [Data Source](https://data-cityofmadison.opendata.arcgis.com/maps/metro-transit-bus-stops)\n",
    "    4. Metro Transit Trips | City of Madison Open Data. [Data Source](https://data-cityofmadison.opendata.arcgis.com/datasets/cityofmadison::metro-transit-bus-route-trips)\n",
    "\n",
    "* The first dataset contains a list of all the bus stops, their geographical location (longitude and latitude) and the ridership at that bus stop averaged over 12 days. We do not have distances between these bus stops, nor do we have connections between them, for which we propose the following approach. \n",
    "   *   We calculate the Geodesic Euclidean distance between the geographic position of the bus stops to define the distances between them. \n",
    "   *   These distances will be multiplied by a constant of proportionality to determine the fuel cost associated with each path. \n",
    "\n",
    "* The second dataset contains a list of present bus routes, the bus stops along the routes and the total ridership for the bus routes averaged over 12 days. \n",
    "    \n",
    "* The third dataset maps the bus stops to the bus routes taken by all the buses in Madison. \n",
    "* The fourth dataset maps the bus routes to the bus stops \n",
    "\n",
    "Further, we load all the data and calculate the euclidean distance between each bus stop in Madison. We give a brief demo - "
   ]
  },
  {
   "cell_type": "code",
   "execution_count": 31,
   "id": "2fd771a5",
   "metadata": {},
   "outputs": [],
   "source": [
    "# import Pkg;\n",
    "# using Pkg\n",
    "# Pkg.add(\"Cbc\");\n",
    "# Pkg.add(\"GraphRecipes\");\n",
    "# Pkg.add(\"LightGraphs\");\n",
    "# Pkg.add(\"SimpleWeightedGraphs\");\n",
    "# Pkg.add(\"SparseArrays\");\n",
    "# Pkg.add(\"CSV\");\n",
    "# Pkg.add(\"DataFrames\");\n",
    "# Pkg.add(\"Geodesy\");"
   ]
  },
  {
   "cell_type": "code",
   "execution_count": 32,
   "id": "2f579ded",
   "metadata": {},
   "outputs": [],
   "source": [
    "using JuMP, Plots, Cbc, GraphRecipes, LightGraphs, SimpleWeightedGraphs, SparseArrays\n",
    "\n",
    "using CSV\n",
    "using DataFrames\n",
    "\n",
    "# import data set as a dataframe\n",
    "\n",
    "# 1\n",
    "ridership_data = CSV.read(\"data/Metro_Transit_Ridership_by_Stop.csv\", DataFrame)\n",
    "# 2\n",
    "route_patterns_data = CSV.read(\"data/Metro_Transit_Bus_Route_Patterns.csv\", DataFrame)\n",
    "# 3\n",
    "stops_data = CSV.read(\"data/Metro_Transit_Bus_Stops.csv\", DataFrame)\n",
    "# 4\n",
    "weekday_data = CSV.read(\"data/Metro_Transit_Ridership_by_Route_Weekday.csv\", DataFrame)\n",
    ";"
   ]
  },
  {
   "cell_type": "code",
   "execution_count": 33,
   "id": "78b3b5d7",
   "metadata": {},
   "outputs": [
    {
     "data": {
      "text/plain": [
       "2142"
      ]
     },
     "execution_count": 33,
     "metadata": {},
     "output_type": "execute_result"
    }
   ],
   "source": [
    "N = size(ridership_data,1)"
   ]
  },
  {
   "cell_type": "markdown",
   "id": "b74f0cf2",
   "metadata": {},
   "source": [
    "### Calculating distances between all bus stops:"
   ]
  },
  {
   "cell_type": "code",
   "execution_count": 34,
   "id": "57481c46",
   "metadata": {},
   "outputs": [],
   "source": [
    "using Geodesy\n",
    "\n",
    "stop_locations = Vector{LatLon{Float64}}()\n",
    "intersections = []\n",
    "stop_ids = []\n",
    "\n",
    "for i in eachrow(ridership_data)\n",
    "    int = i.IntersectionID\n",
    "    if int ∉ intersections\n",
    "        push!(intersections, int)\n",
    "        x = LatLon(i.Lat, i.Lon)\n",
    "        push!(stop_locations, x)\n",
    "        push!(stop_ids, i.StopID)\n",
    "    end\n",
    "end\n",
    "\n",
    "N = length(stop_ids)\n",
    "\n",
    "distances = zeros(N,N)\n",
    "\n",
    "for i in 1:N\n",
    "    for j in 1:N\n",
    "        distances[i,j] = euclidean_distance(stop_locations[i], stop_locations[j])\n",
    "    end\n",
    "end\n"
   ]
  },
  {
   "cell_type": "code",
   "execution_count": 35,
   "id": "e2d51625",
   "metadata": {},
   "outputs": [
    {
     "name": "stdout",
     "output_type": "stream",
     "text": [
      "1028\n"
     ]
    }
   ],
   "source": [
    "println(N)"
   ]
  },
  {
   "cell_type": "markdown",
   "id": "e9e47917",
   "metadata": {},
   "source": [
    "The distance between each bus stop in Madison as a $n * n$ matrix."
   ]
  },
  {
   "cell_type": "code",
   "execution_count": 36,
   "id": "958c23be",
   "metadata": {
    "scrolled": true
   },
   "outputs": [
    {
     "data": {
      "text/plain": [
       "1028×1028 Matrix{Float64}:\n",
       "     0.0      770.656    974.321  …  12575.6    10562.3    12189.1\n",
       "   770.656      0.0      263.84      11806.3     9798.46   11418.5\n",
       "   974.321    263.84       0.0       11611.1     9590.25   11231.5\n",
       "   794.924    510.88     447.575     11931.2     9887.03   11565.5\n",
       "  1602.09     872.171    630.145     11003.2     8971.43   10632.2\n",
       "   611.097   1026.19    1287.46   …  12680.5    10712.0    12269.2\n",
       "   412.952    745.492    845.271     12423.9    10384.6    12053.9\n",
       "   567.934    439.384    703.178     12130.3    10144.8    11729.4\n",
       "   593.444    290.538    554.285     12031.1    10036.9    11635.1\n",
       "   317.611    779.899    908.545     12505.4    10470.9    12132.1\n",
       "   618.466    560.763    823.197  …  12181.4    10205.4    11775.3\n",
       "   266.902    616.788    771.358     12381.5    10355.7    12002.9\n",
       "   630.119    179.297    345.226     11949.0     9932.49   11565.9\n",
       "     ⋮                            ⋱      ⋮                 \n",
       "  8883.6     8113.12    7925.67       3712.57    1977.28    3305.88\n",
       " 12096.9    11333.2    11124.7        1021.15    1534.78    1398.14\n",
       " 10176.4     9412.28    9204.56       2520.06     387.022   2355.75\n",
       " 13570.1    12799.5    12611.9        1118.4     3284.07    1381.4\n",
       "  9224.36    8519.03    8272.53   …   4951.81    2966.99    4999.11\n",
       " 12822.3    12051.6    11866.6         701.703   2673.12     645.263\n",
       " 11427.4    10658.3    10462.5        1148.98    1139.21     930.805\n",
       " 10603.0     9843.47    9629.22       2321.62     373.337   2310.14\n",
       " 13601.0    12830.3    12647.0        1297.37    3424.22    1432.87\n",
       " 12575.6    11806.3    11611.1    …      0.0     2173.24     645.98\n",
       " 10562.3     9798.46    9590.25       2173.24       0.0     2069.61\n",
       " 12189.1    11418.5    11231.5         645.98    2069.61       0.0"
      ]
     },
     "execution_count": 36,
     "metadata": {},
     "output_type": "execute_result"
    }
   ],
   "source": [
    "distances"
   ]
  },
  {
   "cell_type": "markdown",
   "id": "f49f35e0",
   "metadata": {},
   "source": [
    "We map the bus stops (ids) to bus routes  that will help us model the optimal bus routes."
   ]
  },
  {
   "cell_type": "code",
   "execution_count": 37,
   "id": "29e72a64",
   "metadata": {},
   "outputs": [],
   "source": [
    "stop_route = Dict()\n",
    "\n",
    "for i in eachrow(stops_data)\n",
    "    if i.stop_id in stop_ids\n",
    "        if i.Route != \"None\"\n",
    "            stop_route[i.stop_id] = [parse(Int, d) for d in split(i.Route,\",\")] \n",
    "        end\n",
    "    end\n",
    "end"
   ]
  },
  {
   "cell_type": "code",
   "execution_count": 38,
   "id": "2a9437f6",
   "metadata": {},
   "outputs": [
    {
     "data": {
      "text/plain": [
       "27"
      ]
     },
     "execution_count": 38,
     "metadata": {},
     "output_type": "execute_result"
    }
   ],
   "source": [
    "bus_route = 80\n",
    "\n",
    "route_80_stops = []\n",
    "\n",
    "for (s, r) in stop_route\n",
    "    if bus_route in r\n",
    "        append!(route_80_stops, s)\n",
    "    end\n",
    "end\n",
    "\n",
    "# route_80_names = []\n",
    "\n",
    "# for i in eachrow(stops_data)\n",
    "#     if i.stop_id in route_80\n",
    "#         println(i.stop_id,\"   \",  i.stop_name)\n",
    "#         push!(route_80_names, i.stop_name)\n",
    "#     end\n",
    "# end\n",
    "\n",
    "length(route_80_stops)\n",
    "# length(route_80_names)\n",
    "\n",
    "# @show route_80_names"
   ]
  },
  {
   "cell_type": "code",
   "execution_count": 39,
   "id": "68d190a7",
   "metadata": {
    "scrolled": true
   },
   "outputs": [
    {
     "data": {
      "text/plain": [
       "27×27 Matrix{Float64}:\n",
       "    0.0     770.656   794.924   567.934  …  1827.86   1239.99   2310.75\n",
       "  770.656     0.0     510.88    439.384     2183.39   1640.39   2517.02\n",
       "  794.924   510.88      0.0     824.767     2521.94   1945.7    2923.67\n",
       "  567.934   439.384   824.767     0.0       1747.44   1201.03   2106.75\n",
       "  266.902   616.788   532.066   586.175     2069.93   1483.15   2528.2\n",
       "  597.23    555.365   218.343   749.55   …  2375.32   1792.04   2806.86\n",
       "  534.365   832.066  1129.34    401.62      1392.91    822.926  1816.26\n",
       "  445.0     517.212   827.651   133.242     1704.36   1141.25   2097.15\n",
       "  341.146   530.057   769.779   226.916     1752.25   1178.6    2167.21\n",
       " 1505.53   1934.47   2231.44   1495.12       355.108   294.172   955.483\n",
       " 2973.12   3106.69   3543.82   2719.45   …  1286.7    1797.75    684.221\n",
       " 2827.93   3046.85   3453.6    2637.34      1049.7    1608.67    530.603\n",
       " 2048.4    2431.34   2759.56   1994.2        252.249   815.247   602.739\n",
       "    ⋮                                    ⋱               ⋮      \n",
       " 2758.04   2962.5    3374.03   2555.81   …  1000.28   1546.98    450.96\n",
       " 3238.11   3426.11   3846.79   3025.93      1467.79   2025.11    928.862\n",
       " 2613.37   2869.61   3260.19   2451.31       813.68   1383.83    374.271\n",
       " 3316.49   3585.93   3975.91   3168.19      1493.63   2078.67   1074.92\n",
       " 3222.89   3388.11   3816.54   2993.68      1476.33   2021.34    912.785\n",
       " 3180.52   3311.18   3750.56   2926.03   …  1478.3    2000.38    885.447\n",
       " 3080.45   3331.92   3727.84   2916.8       1268.21   1847.22    817.367\n",
       " 1855.79   2289.15   2588.93   1849.8        248.113   649.767   802.741\n",
       "  769.48   1043.01   1376.86    603.67      1150.51    597.856  1563.19\n",
       " 1827.86   2183.39   2521.94   1747.44         0.0     587.884   616.543\n",
       " 1239.99   1640.39   1945.7    1201.03   …   587.884     0.0    1115.0\n",
       " 2310.75   2517.02   2923.67   2106.75       616.543  1115.0       0.0"
      ]
     },
     "execution_count": 39,
     "metadata": {},
     "output_type": "execute_result"
    }
   ],
   "source": [
    "using Geodesy\n",
    "\n",
    "# TODO: Create a function for generating a distance matrix\n",
    "\n",
    "# stops = Vector{LatLon{Float64}}()\n",
    "stops = []\n",
    "\n",
    "for i in eachrow(ridership_data)\n",
    "    if i.StopID in route_80_stops\n",
    "        x = LatLon(i.Lat, i.Lon)\n",
    "        if x ∉ stops\n",
    "            push!(stops, x)\n",
    "        end\n",
    "    end\n",
    "end\n",
    "\n",
    "N = length(stops)\n",
    "\n",
    "distances = zeros(N,N)\n",
    "\n",
    "for i in 1:N\n",
    "    for j in 1:N\n",
    "        distances[i,j] = euclidean_distance(stops[i], stops[j])\n",
    "    end\n",
    "end\n",
    "\n",
    "# DataFrame( distances, route_80_names[1:N], route_80_names[1:N])\n",
    "\n",
    "# using NamedArrays\n",
    "# d = NamedArray(distances, (route_80_names[1:N], route_80_names[1:N]), (\"Stop\", \"Stop\"))\n",
    "# @show d;\n",
    "\n",
    "distances\n",
    "\n"
   ]
  },
  {
   "cell_type": "markdown",
   "id": "b70b7767",
   "metadata": {},
   "source": [
    "Creating $n*n$ Adjacency Matrix on the basis of StopIDs. We assume a bus stop with StopID 5 is connected to StopID 6."
   ]
  },
  {
   "cell_type": "code",
   "execution_count": 40,
   "id": "dcca6291",
   "metadata": {
    "scrolled": true
   },
   "outputs": [
    {
     "data": {
      "text/plain": [
       "26×26 Matrix{Float64}:\n",
       " 0.0  1.0  0.0  0.0  0.0  0.0  0.0  0.0  …  0.0  0.0  0.0  0.0  0.0  0.0  0.0\n",
       " 1.0  0.0  1.0  0.0  0.0  0.0  0.0  0.0     0.0  0.0  0.0  0.0  0.0  0.0  0.0\n",
       " 0.0  1.0  0.0  1.0  0.0  0.0  0.0  0.0     0.0  0.0  0.0  0.0  0.0  0.0  0.0\n",
       " 0.0  0.0  1.0  0.0  1.0  0.0  0.0  0.0     0.0  0.0  0.0  0.0  0.0  0.0  0.0\n",
       " 0.0  0.0  0.0  1.0  0.0  1.0  0.0  0.0     0.0  0.0  0.0  0.0  0.0  0.0  0.0\n",
       " 0.0  0.0  0.0  0.0  1.0  0.0  1.0  0.0  …  0.0  0.0  0.0  0.0  0.0  0.0  0.0\n",
       " 0.0  0.0  0.0  0.0  0.0  1.0  0.0  1.0     0.0  0.0  0.0  0.0  0.0  0.0  0.0\n",
       " 0.0  0.0  0.0  0.0  0.0  0.0  1.0  0.0     0.0  0.0  0.0  0.0  0.0  0.0  0.0\n",
       " 0.0  0.0  0.0  0.0  0.0  0.0  0.0  1.0     0.0  0.0  0.0  0.0  0.0  0.0  0.0\n",
       " 0.0  0.0  0.0  0.0  0.0  0.0  0.0  0.0     0.0  0.0  0.0  0.0  0.0  0.0  0.0\n",
       " 0.0  0.0  0.0  0.0  0.0  0.0  0.0  0.0  …  0.0  0.0  0.0  0.0  0.0  0.0  0.0\n",
       " 0.0  0.0  0.0  0.0  0.0  0.0  0.0  0.0     0.0  0.0  0.0  0.0  0.0  0.0  0.0\n",
       " 0.0  0.0  0.0  0.0  0.0  0.0  0.0  0.0     0.0  0.0  0.0  0.0  0.0  0.0  0.0\n",
       " 0.0  0.0  0.0  0.0  0.0  0.0  0.0  0.0     0.0  0.0  0.0  0.0  0.0  0.0  0.0\n",
       " 0.0  0.0  0.0  0.0  0.0  0.0  0.0  0.0     0.0  0.0  0.0  0.0  0.0  0.0  0.0\n",
       " 0.0  0.0  0.0  0.0  0.0  0.0  0.0  0.0  …  0.0  0.0  0.0  0.0  0.0  0.0  0.0\n",
       " 0.0  0.0  0.0  0.0  0.0  0.0  0.0  0.0     0.0  0.0  0.0  0.0  0.0  0.0  0.0\n",
       " 0.0  0.0  0.0  0.0  0.0  0.0  0.0  0.0     0.0  0.0  0.0  0.0  0.0  0.0  0.0\n",
       " 0.0  0.0  0.0  0.0  0.0  0.0  0.0  0.0     1.0  0.0  0.0  0.0  0.0  0.0  0.0\n",
       " 0.0  0.0  0.0  0.0  0.0  0.0  0.0  0.0     0.0  1.0  0.0  0.0  0.0  0.0  0.0\n",
       " 0.0  0.0  0.0  0.0  0.0  0.0  0.0  0.0  …  1.0  0.0  1.0  0.0  0.0  0.0  0.0\n",
       " 0.0  0.0  0.0  0.0  0.0  0.0  0.0  0.0     0.0  1.0  0.0  1.0  0.0  0.0  0.0\n",
       " 0.0  0.0  0.0  0.0  0.0  0.0  0.0  0.0     0.0  0.0  1.0  0.0  1.0  0.0  0.0\n",
       " 0.0  0.0  0.0  0.0  0.0  0.0  0.0  0.0     0.0  0.0  0.0  1.0  0.0  1.0  0.0\n",
       " 0.0  0.0  0.0  0.0  0.0  0.0  0.0  0.0     0.0  0.0  0.0  0.0  1.0  0.0  1.0\n",
       " 0.0  0.0  0.0  0.0  0.0  0.0  0.0  0.0  …  0.0  0.0  0.0  0.0  0.0  1.0  0.0"
      ]
     },
     "execution_count": 40,
     "metadata": {},
     "output_type": "execute_result"
    }
   ],
   "source": [
    "# N = size(ridership_data,1)\n",
    "# N = 47\n",
    "Adj = zeros(N,N)\n",
    "\n",
    "index_stopid = Dict()\n",
    "\n",
    "for row in eachrow(ridership_data)\n",
    "    if row.StopID in route_80_stops\n",
    "        i = rownumber(row)\n",
    "        index_stopid[i] = row.StopID\n",
    "    end\n",
    "end\n",
    "\n",
    "for i in 1:N\n",
    "    if i + 1 < N\n",
    "        Adj[i, i + 1] = 1\n",
    "        Adj[i + 1, i] = 1\n",
    "    end\n",
    "end\n",
    "\n",
    "# Adj\n",
    "# reshape(Adj, (n-1, n-1))\n",
    "\n",
    "\n",
    "Adj = Adj[1:N-1,1:N-1]\n",
    "D = distances[1:N-1,1:N-1]\n",
    ";\n",
    "\n",
    "Adj"
   ]
  },
  {
   "cell_type": "code",
   "execution_count": 41,
   "id": "6364ff0b",
   "metadata": {
    "scrolled": true
   },
   "outputs": [
    {
     "data": {
      "text/plain": [
       "27-element Vector{Any}:\n",
       "  438\n",
       " 2041\n",
       " 2082\n",
       "   61\n",
       "   52\n",
       "   10\n",
       " 2240\n",
       "   75\n",
       "  706\n",
       " 2061\n",
       " 2027\n",
       " 2014\n",
       " 2091\n",
       "    ⋮\n",
       "    5\n",
       " 2007\n",
       " 2145\n",
       " 2026\n",
       " 2267\n",
       " 2071\n",
       " 2881\n",
       " 2018\n",
       "   39\n",
       " 2034\n",
       " 2039\n",
       " 2054"
      ]
     },
     "execution_count": 41,
     "metadata": {},
     "output_type": "execute_result"
    }
   ],
   "source": [
    "route_80_stops"
   ]
  },
  {
   "cell_type": "code",
   "execution_count": 42,
   "id": "63243357",
   "metadata": {},
   "outputs": [],
   "source": [
    "ridership = Dict()\n",
    "\n",
    "for i in eachrow(weekday_data)\n",
    "    if i.StopID in route_80_stops\n",
    "        ridership[i.StopID] =  i.DailyBoardings\n",
    "    end\n",
    "end\n"
   ]
  },
  {
   "cell_type": "code",
   "execution_count": 43,
   "id": "75aafdcf",
   "metadata": {
    "scrolled": true
   },
   "outputs": [
    {
     "data": {
      "text/plain": [
       "27-element Vector{Any}:\n",
       " 322.93\n",
       "  91.83\n",
       " 379.1\n",
       "   6.35\n",
       "   0.11\n",
       " 129.73\n",
       " 332.68\n",
       " 421.49\n",
       " 181.98\n",
       "  13.9\n",
       "   1.22\n",
       " 118.18\n",
       "   0.11\n",
       "   ⋮\n",
       " 105.51\n",
       " 652.24\n",
       " 664.91\n",
       " 102.48\n",
       " 248.7\n",
       "   0.89\n",
       "   2.33\n",
       "   4.67\n",
       "  16.9\n",
       "   0.11\n",
       "   4.56\n",
       "  83.09"
      ]
     },
     "execution_count": 43,
     "metadata": {},
     "output_type": "execute_result"
    }
   ],
   "source": [
    "r = collect(values(ridership))"
   ]
  },
  {
   "cell_type": "code",
   "execution_count": 44,
   "id": "0a5213b3",
   "metadata": {},
   "outputs": [],
   "source": [
    "n = N - 1\n",
    "\n",
    "using Random\n",
    "\n",
    "# n_i = rand(1:n)\n",
    "# n_e = rand(1:n)\n",
    "# # n_i  = 4\n",
    "# # n_e = 7\n",
    "\n",
    "# if n_i == n_e\n",
    "#     n_e = rand(1:n)\n",
    "# end\n",
    "\n",
    "### hard coding start and end nodes for now:\n",
    "\n",
    "n_i = [23, 8, 13]\n",
    "n_e = [26, 19, 6]\n",
    "\n",
    "f = [10000, 10000, 7000]\n",
    "\n",
    "r = r[1:N-1]\n",
    ";"
   ]
  },
  {
   "cell_type": "code",
   "execution_count": 45,
   "id": "80e80642",
   "metadata": {},
   "outputs": [
    {
     "data": {
      "text/plain": [
       "0"
      ]
     },
     "execution_count": 45,
     "metadata": {},
     "output_type": "execute_result"
    }
   ],
   "source": [
    "rand(0:1)"
   ]
  },
  {
   "cell_type": "markdown",
   "id": "69f96c67",
   "metadata": {},
   "source": [
    "\n",
    "## 3. Mathematical Model\n",
    "\n",
    "For the preliminary report, our focus is to generate an illustrative demo of the model. It is a smaller bus network which consists of 8 bus stations.\n",
    "\n",
    "### Parameters Given:\n",
    "- Number of bus stops ```n``` : number of nodes in our network\n",
    "- Adjacency Matrix ```Adj``` ($n \\times n$) : describes connections between bus stops\n",
    "- Distance Matrix ```D``` ($n \\times n$): Euclidean distances between all bus stops\n",
    "- Ridership vector ```r```($n \\times 1$): the ridership demand at every bus stop\n",
    "- Start node ```n_i```: the bus stop from where our bus starts\n",
    "- End node ```n_e```: the bus stop where our bus route ends\n",
    "- Distance (Fuel) limit ```f```: the distance our bus can travel in total\n",
    "- Number of buses ```num_buses```: the total number of buses running in our model"
   ]
  },
  {
   "cell_type": "code",
   "execution_count": 46,
   "id": "2438ddf4",
   "metadata": {},
   "outputs": [
    {
     "data": {
      "text/plain": [
       "3"
      ]
     },
     "execution_count": 46,
     "metadata": {},
     "output_type": "execute_result"
    }
   ],
   "source": [
    "num_buses = 3"
   ]
  },
  {
   "cell_type": "markdown",
   "id": "a267b70e",
   "metadata": {},
   "source": [
    "### Practice Data:"
   ]
  },
  {
   "cell_type": "code",
   "execution_count": 47,
   "id": "fbe513bf",
   "metadata": {},
   "outputs": [],
   "source": [
    "# n = 13\n",
    "\n",
    "# Adj = [0 0 0 0 1 0 1 1 0 1 0 1 1;\n",
    "#        0 0 1 0 0 1 0 0 1 0 1 0 0;\n",
    "#        1 0 0 0 0 0 1 0 0 0 1 1 0;\n",
    "#        0 0 0 0 1 0 0 1 1 0 1 0 1;\n",
    "#        0 0 0 0 0 0 1 0 0 0 0 0 0;\n",
    "#        0 0 0 1 0 0 0 0 0 1 0 0 0;\n",
    "#        0 0 0 0 0 0 0 0 0 0 0 1 0; \n",
    "#        1 0 0 1 0 0 1 0 1 0 1 0 1;\n",
    "#        0 1 0 0 0 1 0 0 0 0 0 0 0;\n",
    "#        1 0 0 1 1 0 1 1 0 0 1 0 0;\n",
    "#        1 0 0 0 0 0 1 0 0 0 0 0 0;\n",
    "#        0 0 0 0 1 0 0 1 1 0 0 0 1;\n",
    "#        0 0 0 0 0 0 1 0 0 0 1 0 0]\n",
    "\n",
    "# D = [0 4 6 3 1 1 8 1 4 1 8 4 1;\n",
    "#      5 0 2 6 5 5 4 6 1 4 2 8 9;\n",
    "#      1 8 0 4 2 7 2 3 4 2 7 2 3;\n",
    "#      7 2 3 0 4 2 8 9 2 9 2 2 3;\n",
    "#      2 3 9 4 0 5 1 2 6 3 2 8 5;\n",
    "#      1 4 1 3 1 0 8 8 4 2 7 9 1;\n",
    "#      5 8 2 6 5 2 0 6 2 1 2 1 9;\n",
    "#      1 8 7 4 2 1 2 0 2 3 5 8 7;\n",
    "#      7 2 3 1 4 2 8 9 0 9 2 2 6;\n",
    "#      2 3 9 4 1 5 1 2 6 0 2 8 4;\n",
    "#      1 4 1 3 1 1 8 8 4 2 0 9 2;\n",
    "#      2 3 9 4 2 5 1 2 6 3 2 0 8;\n",
    "#      1 4 1 3 1 2 8 8 4 2 7 9 0]\n",
    "\n",
    "# r = [4, 1, 8, 2, 9, 10, 5, 8, 5, 7, 9, 10, 11]\n",
    "\n",
    "# n_i = 2\n",
    "# n_e = 7\n",
    "\n",
    "# f = 20\n",
    "# ;"
   ]
  },
  {
   "cell_type": "markdown",
   "id": "857548b7",
   "metadata": {},
   "source": [
    "### Generating Adjacency Matrix:\n",
    "Random for now"
   ]
  },
  {
   "cell_type": "code",
   "execution_count": 48,
   "id": "f03d85bc",
   "metadata": {},
   "outputs": [
    {
     "data": {
      "text/plain": [
       "26×26 Matrix{Int64}:\n",
       " 0  0  0  0  0  0  0  0  0  0  0  0  0  0  0  0  0  0  0  0  0  0  0  1  0  1\n",
       " 0  0  0  0  0  0  0  0  0  0  0  0  0  0  0  0  0  0  0  0  0  0  0  0  0  1\n",
       " 0  0  0  0  0  0  0  0  0  0  0  0  0  0  0  0  0  0  0  0  0  0  0  0  0  0\n",
       " 0  0  0  0  0  0  0  0  1  0  0  0  1  0  1  0  0  0  0  0  0  0  0  0  0  0\n",
       " 0  0  0  0  0  0  0  1  0  0  0  0  0  0  0  0  1  0  0  0  0  0  0  0  0  0\n",
       " 0  0  0  0  0  0  0  0  0  0  0  1  0  0  0  0  0  0  1  0  0  0  0  0  0  0\n",
       " 0  0  0  0  0  0  0  0  0  1  0  0  0  0  1  0  0  0  0  0  1  0  0  0  1  1\n",
       " 0  0  0  0  0  0  0  0  0  0  0  0  0  0  0  0  0  0  1  0  0  0  0  0  0  0\n",
       " 0  0  0  0  0  0  0  0  0  0  0  0  0  0  0  0  0  0  0  0  0  0  0  0  0  0\n",
       " 0  0  0  0  0  0  0  0  0  0  0  0  0  0  0  0  0  0  0  0  0  0  0  0  0  0\n",
       " 1  0  0  0  0  0  0  0  0  1  0  1  0  0  0  0  0  0  0  0  0  0  0  0  0  0\n",
       " 0  0  0  0  0  0  0  0  0  0  0  0  0  0  0  0  0  1  0  0  0  0  0  0  0  1\n",
       " 0  0  0  0  0  0  0  0  0  0  1  0  0  1  0  0  0  0  0  0  0  1  0  0  1  0\n",
       " 0  0  0  0  0  0  0  0  0  0  0  0  0  0  0  0  0  0  0  0  0  0  0  0  0  0\n",
       " 0  1  0  0  0  0  0  0  0  0  0  0  0  0  0  0  0  0  0  0  0  0  0  0  0  0\n",
       " 0  0  1  0  0  0  0  0  0  1  0  0  1  0  0  0  0  0  0  0  0  0  0  0  0  0\n",
       " 1  0  0  0  0  0  0  0  0  0  0  0  0  0  0  0  0  0  0  0  0  0  0  0  0  0\n",
       " 0  0  0  0  0  0  0  0  0  0  0  0  0  0  0  0  0  0  0  0  0  0  0  0  1  0\n",
       " 0  0  0  0  1  0  0  0  0  0  0  0  0  0  0  0  0  0  0  0  0  0  0  0  0  0\n",
       " 0  0  0  0  0  1  0  0  0  0  1  0  0  0  0  0  1  0  0  0  0  0  0  1  1  0\n",
       " 0  0  0  0  0  0  0  0  0  0  1  0  0  0  0  1  0  0  0  0  0  0  0  0  0  0\n",
       " 1  0  0  0  0  0  0  0  0  0  0  0  0  1  1  0  0  0  0  0  0  0  0  0  0  0\n",
       " 1  0  0  0  0  0  0  1  0  0  0  0  1  0  0  0  0  0  1  0  0  0  0  0  0  0\n",
       " 0  0  0  0  0  0  0  0  0  0  1  0  0  0  0  0  0  0  0  0  1  0  0  0  0  0\n",
       " 0  0  0  0  0  0  0  1  0  0  0  0  0  0  0  0  0  0  1  1  0  0  0  0  0  0\n",
       " 0  0  0  0  0  0  0  0  0  0  0  0  0  0  0  0  0  0  0  0  0  0  0  0  1  0"
      ]
     },
     "execution_count": 48,
     "metadata": {},
     "output_type": "execute_result"
    }
   ],
   "source": [
    "using Graphs\n",
    "\n",
    "# dirGraph = Graphs.DiGraph(Adj) # converting adjacency matrix into a directed graph\n",
    "\n",
    "dirGraph = Graphs.SimpleDiGraph(n, n*2)\n",
    "\n",
    "Adj = Array(Graphs.adjacency_matrix(dirGraph))"
   ]
  },
  {
   "cell_type": "markdown",
   "id": "0568430d",
   "metadata": {},
   "source": [
    "### Removing cycles from the Adjacency Matrix:"
   ]
  },
  {
   "cell_type": "code",
   "execution_count": 49,
   "id": "7c075772",
   "metadata": {},
   "outputs": [
    {
     "data": {
      "text/plain": [
       "{26, 40} directed simple Int64 graph"
      ]
     },
     "execution_count": 49,
     "metadata": {},
     "output_type": "execute_result"
    }
   ],
   "source": [
    "# Create a RANDOM Graph!\n",
    "using Graphs\n",
    "\n",
    "# dirGraph = Graphs.DiGraph(Adj) # converting adjacency matrix into a directed graph\n",
    "\n",
    "dirGraph = Graphs.SimpleDiGraph(n, n*2)\n",
    "\n",
    "Adj = Array(Graphs.adjacency_matrix(dirGraph))\n",
    "\n",
    "cycles = Graphs.simplecycles(dirGraph)\n",
    "for i in 1:length(cycles)\n",
    "    Adj[cycles[i][1], cycles[i][2]] = 0\n",
    "end\n",
    "\n",
    "dirGraph = Graphs.DiGraph(Adj)"
   ]
  },
  {
   "cell_type": "markdown",
   "id": "0aa6f377",
   "metadata": {},
   "source": [
    "### Parameters Calculated:\n",
    "- Number of paths ```e```: number of edges in our network \n",
    "- Incidence matrix ```Inc```($n \\times e$): describes the edges in our network.\n",
    "- Edge costs ```d_e```($e \\times 1$): the distance corresponding to edges in the network\n",
    "- Rider intake ```r_e```($e \\times 1$): the riders taken up after traveling to each edge\n",
    "- Flow vector ```b``` ($n \\times \\text{num_buses}$): includes the start and end node"
   ]
  },
  {
   "cell_type": "markdown",
   "id": "a4e5bf41",
   "metadata": {},
   "source": [
    "### Calculating incidence matrix and number of edges:"
   ]
  },
  {
   "cell_type": "code",
   "execution_count": 50,
   "id": "c7ffa086",
   "metadata": {},
   "outputs": [
    {
     "data": {
      "text/plain": [
       "40"
      ]
     },
     "execution_count": 50,
     "metadata": {},
     "output_type": "execute_result"
    }
   ],
   "source": [
    "Inc = Array(Graphs.incidence_matrix(dirGraph))\n",
    "# Inc = Array(my_incidence_matrix(dirGraph)) # converting directed graph to an incidence matrix\n",
    "\n",
    "e = size(Inc)[2] # number of edges"
   ]
  },
  {
   "cell_type": "markdown",
   "id": "665f91bf",
   "metadata": {},
   "source": [
    "### Defining b vector using start and end nodes:"
   ]
  },
  {
   "cell_type": "code",
   "execution_count": 51,
   "id": "34a9eaf1",
   "metadata": {},
   "outputs": [],
   "source": [
    "n_i = [6, 26, 20]\n",
    "n_e = [1, 3, 24]\n",
    "\n",
    "# TODO: Fix b's dimension\n",
    "b = zeros(n, num_buses)\n",
    "#b = zeros(n - 1)\n",
    "\n",
    "for i in 1:num_buses\n",
    "    b[n_i[i], i] = -1\n",
    "    b[n_e[i], i] = 1\n",
    "end\n",
    "b = Int.(b)\n",
    ";"
   ]
  },
  {
   "cell_type": "markdown",
   "id": "8084e637",
   "metadata": {},
   "source": [
    "### Defining fuel vector:"
   ]
  },
  {
   "cell_type": "code",
   "execution_count": 52,
   "id": "b8b7caa4",
   "metadata": {},
   "outputs": [
    {
     "data": {
      "text/plain": [
       "3-element Vector{Int64}:\n",
       "   1000000\n",
       " 700000000\n",
       "   5000000"
      ]
     },
     "execution_count": 52,
     "metadata": {},
     "output_type": "execute_result"
    }
   ],
   "source": [
    "f = [1000000, 700000000, 5000000]"
   ]
  },
  {
   "cell_type": "markdown",
   "id": "df4c2175",
   "metadata": {},
   "source": [
    "## Plotting network:"
   ]
  },
  {
   "cell_type": "markdown",
   "id": "a9f7e6ac",
   "metadata": {
    "tags": []
   },
   "source": [
    "### Defining membership vector:"
   ]
  },
  {
   "cell_type": "code",
   "execution_count": 68,
   "id": "3dd96556",
   "metadata": {},
   "outputs": [],
   "source": [
    "membership = ones(Int, n,1)\n",
    "count = 0\n",
    "for i in 1:num_buses\n",
    "    membership[n_i[i]] = 2 + count\n",
    "    membership[n_e[i]] = 2 + count + 1\n",
    "    count = count + 2\n",
    "end\n",
    "membership\n",
    ";"
   ]
  },
  {
   "cell_type": "code",
   "execution_count": 72,
   "id": "0c9ef6e2",
   "metadata": {},
   "outputs": [
    {
     "data": {
      "image/svg+xml": [
       "<?xml version=\"1.0\" encoding=\"utf-8\"?>\n",
       "<svg xmlns=\"http://www.w3.org/2000/svg\" xmlns:xlink=\"http://www.w3.org/1999/xlink\" width=\"600\" height=\"400\" viewBox=\"0 0 2400 1600\">\n",
       "<defs>\n",
       "  <clipPath id=\"clip230\">\n",
       "    <rect x=\"0\" y=\"0\" width=\"2400\" height=\"1600\"/>\n",
       "  </clipPath>\n",
       "</defs>\n",
       "<path clip-path=\"url(#clip230)\" d=\"\n",
       "M0 1600 L2400 1600 L2400 0 L0 0  Z\n",
       "  \" fill=\"#ffffff\" fill-rule=\"evenodd\" fill-opacity=\"1\"/>\n",
       "<defs>\n",
       "  <clipPath id=\"clip231\">\n",
       "    <rect x=\"480\" y=\"0\" width=\"1681\" height=\"1600\"/>\n",
       "  </clipPath>\n",
       "</defs>\n",
       "<path clip-path=\"url(#clip230)\" d=\"\n",
       "M447.244 1552.76 L1952.76 1552.76 L1952.76 47.2441 L447.244 47.2441  Z\n",
       "  \" fill=\"#ffffff\" fill-rule=\"evenodd\" fill-opacity=\"1\"/>\n",
       "<defs>\n",
       "  <clipPath id=\"clip232\">\n",
       "    <rect x=\"447\" y=\"47\" width=\"1507\" height=\"1507\"/>\n",
       "  </clipPath>\n",
       "</defs>\n",
       "<polyline clip-path=\"url(#clip232)\" style=\"stroke:#000000; stroke-linecap:butt; stroke-linejoin:round; stroke-width:4; stroke-opacity:0.2; fill:none\" points=\"\n",
       "  1123.63,956.392 1199.52,1066.46 \n",
       "  \"/>\n",
       "<polyline clip-path=\"url(#clip232)\" style=\"stroke:#000000; stroke-linecap:butt; stroke-linejoin:round; stroke-width:4; stroke-opacity:0.2; fill:none\" points=\"\n",
       "  1193.9,1026.6 1199.52,1066.46 1164.27,1047.04 \n",
       "  \"/>\n",
       "<polyline clip-path=\"url(#clip232)\" style=\"stroke:#000000; stroke-linecap:butt; stroke-linejoin:round; stroke-width:4; stroke-opacity:0.2; fill:none\" points=\"\n",
       "  1199.52,1066.46 1123.63,956.392 \n",
       "  \"/>\n",
       "<polyline clip-path=\"url(#clip232)\" style=\"stroke:#000000; stroke-linecap:butt; stroke-linejoin:round; stroke-width:4; stroke-opacity:0.2; fill:none\" points=\"\n",
       "  1123.63,956.392 1238.14,868.14 \n",
       "  \"/>\n",
       "<polyline clip-path=\"url(#clip232)\" style=\"stroke:#000000; stroke-linecap:butt; stroke-linejoin:round; stroke-width:4; stroke-opacity:0.2; fill:none\" points=\"\n",
       "  1198.64,875.858 1238.14,868.14 1220.62,904.373 \n",
       "  \"/>\n",
       "<polyline clip-path=\"url(#clip232)\" style=\"stroke:#000000; stroke-linecap:butt; stroke-linejoin:round; stroke-width:4; stroke-opacity:0.2; fill:none\" points=\"\n",
       "  1238.14,868.14 1123.63,956.392 \n",
       "  \"/>\n",
       "<polyline clip-path=\"url(#clip232)\" style=\"stroke:#000000; stroke-linecap:butt; stroke-linejoin:round; stroke-width:4; stroke-opacity:0.2; fill:none\" points=\"\n",
       "  1123.63,956.392 909.813,1003.36 \n",
       "  \"/>\n",
       "<polyline clip-path=\"url(#clip232)\" style=\"stroke:#000000; stroke-linecap:butt; stroke-linejoin:round; stroke-width:4; stroke-opacity:0.2; fill:none\" points=\"\n",
       "  948.837,1013.22 909.813,1003.36 941.113,978.055 \n",
       "  \"/>\n",
       "<polyline clip-path=\"url(#clip232)\" style=\"stroke:#000000; stroke-linecap:butt; stroke-linejoin:round; stroke-width:4; stroke-opacity:0.2; fill:none\" points=\"\n",
       "  909.813,1003.36 1123.63,956.392 \n",
       "  \"/>\n",
       "<polyline clip-path=\"url(#clip232)\" style=\"stroke:#000000; stroke-linecap:butt; stroke-linejoin:round; stroke-width:4; stroke-opacity:0.2; fill:none\" points=\"\n",
       "  1123.63,956.392 1381.95,982.009 \n",
       "  \"/>\n",
       "<polyline clip-path=\"url(#clip232)\" style=\"stroke:#000000; stroke-linecap:butt; stroke-linejoin:round; stroke-width:4; stroke-opacity:0.2; fill:none\" points=\"\n",
       "  1347.9,960.544 1381.95,982.009 1344.35,996.369 \n",
       "  \"/>\n",
       "<polyline clip-path=\"url(#clip232)\" style=\"stroke:#000000; stroke-linecap:butt; stroke-linejoin:round; stroke-width:4; stroke-opacity:0.2; fill:none\" points=\"\n",
       "  1381.95,982.009 1123.63,956.392 \n",
       "  \"/>\n",
       "<polyline clip-path=\"url(#clip232)\" style=\"stroke:#000000; stroke-linecap:butt; stroke-linejoin:round; stroke-width:4; stroke-opacity:0.2; fill:none\" points=\"\n",
       "  1222.59,1069.82 1190.85,1291.72 \n",
       "  \"/>\n",
       "<polyline clip-path=\"url(#clip232)\" style=\"stroke:#000000; stroke-linecap:butt; stroke-linejoin:round; stroke-width:4; stroke-opacity:0.2; fill:none\" points=\"\n",
       "  1213.76,1258.63 1190.85,1291.72 1178.13,1253.54 \n",
       "  \"/>\n",
       "<polyline clip-path=\"url(#clip232)\" style=\"stroke:#000000; stroke-linecap:butt; stroke-linejoin:round; stroke-width:4; stroke-opacity:0.2; fill:none\" points=\"\n",
       "  1190.85,1291.72 1222.59,1069.82 \n",
       "  \"/>\n",
       "<polyline clip-path=\"url(#clip232)\" style=\"stroke:#000000; stroke-linecap:butt; stroke-linejoin:round; stroke-width:4; stroke-opacity:0.2; fill:none\" points=\"\n",
       "  1210.96,459.599 1430.2,560.355 \n",
       "  \"/>\n",
       "<polyline clip-path=\"url(#clip232)\" style=\"stroke:#000000; stroke-linecap:butt; stroke-linejoin:round; stroke-width:4; stroke-opacity:0.2; fill:none\" points=\"\n",
       "  1405,528.966 1430.2,560.355 1389.97,561.677 \n",
       "  \"/>\n",
       "<polyline clip-path=\"url(#clip232)\" style=\"stroke:#000000; stroke-linecap:butt; stroke-linejoin:round; stroke-width:4; stroke-opacity:0.2; fill:none\" points=\"\n",
       "  1430.2,560.355 1210.96,459.599 \n",
       "  \"/>\n",
       "<polyline clip-path=\"url(#clip232)\" style=\"stroke:#000000; stroke-linecap:butt; stroke-linejoin:round; stroke-width:4; stroke-opacity:0.2; fill:none\" points=\"\n",
       "  1210.96,459.599 964.847,411.575 \n",
       "  \"/>\n",
       "<polyline clip-path=\"url(#clip232)\" style=\"stroke:#000000; stroke-linecap:butt; stroke-linejoin:round; stroke-width:4; stroke-opacity:0.2; fill:none\" points=\"\n",
       "  996.733,436.136 964.847,411.575 1003.63,400.802 \n",
       "  \"/>\n",
       "<polyline clip-path=\"url(#clip232)\" style=\"stroke:#000000; stroke-linecap:butt; stroke-linejoin:round; stroke-width:4; stroke-opacity:0.2; fill:none\" points=\"\n",
       "  964.847,411.575 1210.96,459.599 \n",
       "  \"/>\n",
       "<polyline clip-path=\"url(#clip232)\" style=\"stroke:#000000; stroke-linecap:butt; stroke-linejoin:round; stroke-width:4; stroke-opacity:0.2; fill:none\" points=\"\n",
       "  1210.96,459.599 1134.72,630.347 \n",
       "  \"/>\n",
       "<polyline clip-path=\"url(#clip232)\" style=\"stroke:#000000; stroke-linecap:butt; stroke-linejoin:round; stroke-width:4; stroke-opacity:0.2; fill:none\" points=\"\n",
       "  1165.84,604.814 1134.72,630.347 1132.96,590.136 \n",
       "  \"/>\n",
       "<polyline clip-path=\"url(#clip232)\" style=\"stroke:#000000; stroke-linecap:butt; stroke-linejoin:round; stroke-width:4; stroke-opacity:0.2; fill:none\" points=\"\n",
       "  1134.72,630.347 1210.96,459.599 \n",
       "  \"/>\n",
       "<polyline clip-path=\"url(#clip232)\" style=\"stroke:#000000; stroke-linecap:butt; stroke-linejoin:round; stroke-width:4; stroke-opacity:0.2; fill:none\" points=\"\n",
       "  1467.47,814.419 1457.82,599.16 \n",
       "  \"/>\n",
       "<polyline clip-path=\"url(#clip232)\" style=\"stroke:#000000; stroke-linecap:butt; stroke-linejoin:round; stroke-width:4; stroke-opacity:0.2; fill:none\" points=\"\n",
       "  1441.45,635.93 1457.82,599.16 1477.42,634.317 \n",
       "  \"/>\n",
       "<polyline clip-path=\"url(#clip232)\" style=\"stroke:#000000; stroke-linecap:butt; stroke-linejoin:round; stroke-width:4; stroke-opacity:0.2; fill:none\" points=\"\n",
       "  1457.82,599.16 1467.47,814.419 \n",
       "  \"/>\n",
       "<polyline clip-path=\"url(#clip232)\" style=\"stroke:#000000; stroke-linecap:butt; stroke-linejoin:round; stroke-width:4; stroke-opacity:0.2; fill:none\" points=\"\n",
       "  1467.47,814.419 1656.12,835.29 \n",
       "  \"/>\n",
       "<polyline clip-path=\"url(#clip232)\" style=\"stroke:#000000; stroke-linecap:butt; stroke-linejoin:round; stroke-width:4; stroke-opacity:0.2; fill:none\" points=\"\n",
       "  1622.32,813.44 1656.12,835.29 1618.36,849.222 \n",
       "  \"/>\n",
       "<polyline clip-path=\"url(#clip232)\" style=\"stroke:#000000; stroke-linecap:butt; stroke-linejoin:round; stroke-width:4; stroke-opacity:0.2; fill:none\" points=\"\n",
       "  1656.12,835.29 1467.47,814.419 \n",
       "  \"/>\n",
       "<polyline clip-path=\"url(#clip232)\" style=\"stroke:#000000; stroke-linecap:butt; stroke-linejoin:round; stroke-width:4; stroke-opacity:0.2; fill:none\" points=\"\n",
       "  1467.47,814.419 1456.42,1078.59 \n",
       "  \"/>\n",
       "<polyline clip-path=\"url(#clip232)\" style=\"stroke:#000000; stroke-linecap:butt; stroke-linejoin:round; stroke-width:4; stroke-opacity:0.2; fill:none\" points=\"\n",
       "  1475.91,1043.37 1456.42,1078.59 1439.94,1041.86 \n",
       "  \"/>\n",
       "<polyline clip-path=\"url(#clip232)\" style=\"stroke:#000000; stroke-linecap:butt; stroke-linejoin:round; stroke-width:4; stroke-opacity:0.2; fill:none\" points=\"\n",
       "  1456.42,1078.59 1467.47,814.419 \n",
       "  \"/>\n",
       "<polyline clip-path=\"url(#clip232)\" style=\"stroke:#000000; stroke-linecap:butt; stroke-linejoin:round; stroke-width:4; stroke-opacity:0.2; fill:none\" points=\"\n",
       "  1467.47,814.419 1276.63,846.832 \n",
       "  \"/>\n",
       "<polyline clip-path=\"url(#clip232)\" style=\"stroke:#000000; stroke-linecap:butt; stroke-linejoin:round; stroke-width:4; stroke-opacity:0.2; fill:none\" points=\"\n",
       "  1315.14,858.55 1276.63,846.832 1309.11,823.058 \n",
       "  \"/>\n",
       "<polyline clip-path=\"url(#clip232)\" style=\"stroke:#000000; stroke-linecap:butt; stroke-linejoin:round; stroke-width:4; stroke-opacity:0.2; fill:none\" points=\"\n",
       "  1276.63,846.832 1467.47,814.419 \n",
       "  \"/>\n",
       "<polyline clip-path=\"url(#clip232)\" style=\"stroke:#000000; stroke-linecap:butt; stroke-linejoin:round; stroke-width:4; stroke-opacity:0.2; fill:none\" points=\"\n",
       "  1116,641.246 1208.79,813.466 \n",
       "  \"/>\n",
       "<polyline clip-path=\"url(#clip232)\" style=\"stroke:#000000; stroke-linecap:butt; stroke-linejoin:round; stroke-width:4; stroke-opacity:0.2; fill:none\" points=\"\n",
       "  1207.56,773.235 1208.79,813.466 1175.87,790.311 \n",
       "  \"/>\n",
       "<polyline clip-path=\"url(#clip232)\" style=\"stroke:#000000; stroke-linecap:butt; stroke-linejoin:round; stroke-width:4; stroke-opacity:0.2; fill:none\" points=\"\n",
       "  1208.79,813.466 1116,641.246 \n",
       "  \"/>\n",
       "<polyline clip-path=\"url(#clip232)\" style=\"stroke:#000000; stroke-linecap:butt; stroke-linejoin:round; stroke-width:4; stroke-opacity:0.2; fill:none\" points=\"\n",
       "  1116,641.246 905.469,710.352 \n",
       "  \"/>\n",
       "<polyline clip-path=\"url(#clip232)\" style=\"stroke:#000000; stroke-linecap:butt; stroke-linejoin:round; stroke-width:4; stroke-opacity:0.2; fill:none\" points=\"\n",
       "  945.287,716.227 905.469,710.352 934.059,682.022 \n",
       "  \"/>\n",
       "<polyline clip-path=\"url(#clip232)\" style=\"stroke:#000000; stroke-linecap:butt; stroke-linejoin:round; stroke-width:4; stroke-opacity:0.2; fill:none\" points=\"\n",
       "  905.469,710.352 1116,641.246 \n",
       "  \"/>\n",
       "<polyline clip-path=\"url(#clip232)\" style=\"stroke:#000000; stroke-linecap:butt; stroke-linejoin:round; stroke-width:4; stroke-opacity:0.2; fill:none\" points=\"\n",
       "  1435.43,1116.3 1487.66,1312.37 \n",
       "  \"/>\n",
       "<polyline clip-path=\"url(#clip232)\" style=\"stroke:#000000; stroke-linecap:butt; stroke-linejoin:round; stroke-width:4; stroke-opacity:0.2; fill:none\" points=\"\n",
       "  1495.79,1272.95 1487.66,1312.37 1461,1282.22 \n",
       "  \"/>\n",
       "<polyline clip-path=\"url(#clip232)\" style=\"stroke:#000000; stroke-linecap:butt; stroke-linejoin:round; stroke-width:4; stroke-opacity:0.2; fill:none\" points=\"\n",
       "  1487.66,1312.37 1435.43,1116.3 \n",
       "  \"/>\n",
       "<polyline clip-path=\"url(#clip232)\" style=\"stroke:#000000; stroke-linecap:butt; stroke-linejoin:round; stroke-width:4; stroke-opacity:0.2; fill:none\" points=\"\n",
       "  1435.43,1116.3 1394.03,1002.93 \n",
       "  \"/>\n",
       "<polyline clip-path=\"url(#clip232)\" style=\"stroke:#000000; stroke-linecap:butt; stroke-linejoin:round; stroke-width:4; stroke-opacity:0.2; fill:none\" points=\"\n",
       "  1389.47,1042.92 1394.03,1002.93 1423.29,1030.57 \n",
       "  \"/>\n",
       "<polyline clip-path=\"url(#clip232)\" style=\"stroke:#000000; stroke-linecap:butt; stroke-linejoin:round; stroke-width:4; stroke-opacity:0.2; fill:none\" points=\"\n",
       "  1394.03,1002.93 1435.43,1116.3 \n",
       "  \"/>\n",
       "<polyline clip-path=\"url(#clip232)\" style=\"stroke:#000000; stroke-linecap:butt; stroke-linejoin:round; stroke-width:4; stroke-opacity:0.2; fill:none\" points=\"\n",
       "  1166.26,1167.71 1138.94,973.207 \n",
       "  \"/>\n",
       "<polyline clip-path=\"url(#clip232)\" style=\"stroke:#000000; stroke-linecap:butt; stroke-linejoin:round; stroke-width:4; stroke-opacity:0.2; fill:none\" points=\"\n",
       "  1126.12,1011.36 1138.94,973.207 1161.77,1006.35 \n",
       "  \"/>\n",
       "<polyline clip-path=\"url(#clip232)\" style=\"stroke:#000000; stroke-linecap:butt; stroke-linejoin:round; stroke-width:4; stroke-opacity:0.2; fill:none\" points=\"\n",
       "  1138.94,973.207 1166.26,1167.71 \n",
       "  \"/>\n",
       "<polyline clip-path=\"url(#clip232)\" style=\"stroke:#000000; stroke-linecap:butt; stroke-linejoin:round; stroke-width:4; stroke-opacity:0.2; fill:none\" points=\"\n",
       "  1166.26,1167.71 1397.5,1106.56 \n",
       "  \"/>\n",
       "<polyline clip-path=\"url(#clip232)\" style=\"stroke:#000000; stroke-linecap:butt; stroke-linejoin:round; stroke-width:4; stroke-opacity:0.2; fill:none\" points=\"\n",
       "  1358.1,1098.36 1397.5,1106.56 1367.3,1133.17 \n",
       "  \"/>\n",
       "<polyline clip-path=\"url(#clip232)\" style=\"stroke:#000000; stroke-linecap:butt; stroke-linejoin:round; stroke-width:4; stroke-opacity:0.2; fill:none\" points=\"\n",
       "  1397.5,1106.56 1166.26,1167.71 \n",
       "  \"/>\n",
       "<polyline clip-path=\"url(#clip232)\" style=\"stroke:#000000; stroke-linecap:butt; stroke-linejoin:round; stroke-width:4; stroke-opacity:0.2; fill:none\" points=\"\n",
       "  1166.26,1167.71 991.007,1162.98 \n",
       "  \"/>\n",
       "<polyline clip-path=\"url(#clip232)\" style=\"stroke:#000000; stroke-linecap:butt; stroke-linejoin:round; stroke-width:4; stroke-opacity:0.2; fill:none\" points=\"\n",
       "  1026.51,1181.95 991.007,1162.98 1027.48,1145.96 \n",
       "  \"/>\n",
       "<polyline clip-path=\"url(#clip232)\" style=\"stroke:#000000; stroke-linecap:butt; stroke-linejoin:round; stroke-width:4; stroke-opacity:0.2; fill:none\" points=\"\n",
       "  991.007,1162.98 1166.26,1167.71 \n",
       "  \"/>\n",
       "<polyline clip-path=\"url(#clip232)\" style=\"stroke:#000000; stroke-linecap:butt; stroke-linejoin:round; stroke-width:4; stroke-opacity:0.2; fill:none\" points=\"\n",
       "  704.005,800.092 761.968,584.246 \n",
       "  \"/>\n",
       "<polyline clip-path=\"url(#clip232)\" style=\"stroke:#000000; stroke-linecap:butt; stroke-linejoin:round; stroke-width:4; stroke-opacity:0.2; fill:none\" points=\"\n",
       "  735.247,614.346 761.968,584.246 770.015,623.682 \n",
       "  \"/>\n",
       "<polyline clip-path=\"url(#clip232)\" style=\"stroke:#000000; stroke-linecap:butt; stroke-linejoin:round; stroke-width:4; stroke-opacity:0.2; fill:none\" points=\"\n",
       "  761.968,584.246 704.005,800.092 \n",
       "  \"/>\n",
       "<polyline clip-path=\"url(#clip232)\" style=\"stroke:#000000; stroke-linecap:butt; stroke-linejoin:round; stroke-width:4; stroke-opacity:0.2; fill:none\" points=\"\n",
       "  704.005,800.092 849.732,739.095 \n",
       "  \"/>\n",
       "<polyline clip-path=\"url(#clip232)\" style=\"stroke:#000000; stroke-linecap:butt; stroke-linejoin:round; stroke-width:4; stroke-opacity:0.2; fill:none\" points=\"\n",
       "  809.574,736.391 849.732,739.095 823.474,769.599 \n",
       "  \"/>\n",
       "<polyline clip-path=\"url(#clip232)\" style=\"stroke:#000000; stroke-linecap:butt; stroke-linejoin:round; stroke-width:4; stroke-opacity:0.2; fill:none\" points=\"\n",
       "  849.732,739.095 704.005,800.092 \n",
       "  \"/>\n",
       "<polyline clip-path=\"url(#clip232)\" style=\"stroke:#000000; stroke-linecap:butt; stroke-linejoin:round; stroke-width:4; stroke-opacity:0.2; fill:none\" points=\"\n",
       "  704.005,800.092 838.094,976.708 \n",
       "  \"/>\n",
       "<polyline clip-path=\"url(#clip232)\" style=\"stroke:#000000; stroke-linecap:butt; stroke-linejoin:round; stroke-width:4; stroke-opacity:0.2; fill:none\" points=\"\n",
       "  830.662,937.151 838.094,976.708 801.989,958.919 \n",
       "  \"/>\n",
       "<polyline clip-path=\"url(#clip232)\" style=\"stroke:#000000; stroke-linecap:butt; stroke-linejoin:round; stroke-width:4; stroke-opacity:0.2; fill:none\" points=\"\n",
       "  838.094,976.708 704.005,800.092 \n",
       "  \"/>\n",
       "<polyline clip-path=\"url(#clip232)\" style=\"stroke:#000000; stroke-linecap:butt; stroke-linejoin:round; stroke-width:4; stroke-opacity:0.2; fill:none\" points=\"\n",
       "  751.294,961.39 734.639,822.468 \n",
       "  \"/>\n",
       "<polyline clip-path=\"url(#clip232)\" style=\"stroke:#000000; stroke-linecap:butt; stroke-linejoin:round; stroke-width:4; stroke-opacity:0.2; fill:none\" points=\"\n",
       "  721.052,860.355 734.639,822.468 756.797,856.07 \n",
       "  \"/>\n",
       "<polyline clip-path=\"url(#clip232)\" style=\"stroke:#000000; stroke-linecap:butt; stroke-linejoin:round; stroke-width:4; stroke-opacity:0.2; fill:none\" points=\"\n",
       "  734.639,822.468 751.294,961.39 \n",
       "  \"/>\n",
       "<polyline clip-path=\"url(#clip232)\" style=\"stroke:#000000; stroke-linecap:butt; stroke-linejoin:round; stroke-width:4; stroke-opacity:0.2; fill:none\" points=\"\n",
       "  751.294,961.39 867.348,739.095 \n",
       "  \"/>\n",
       "<polyline clip-path=\"url(#clip232)\" style=\"stroke:#000000; stroke-linecap:butt; stroke-linejoin:round; stroke-width:4; stroke-opacity:0.2; fill:none\" points=\"\n",
       "  834.731,762.678 867.348,739.095 866.644,779.338 \n",
       "  \"/>\n",
       "<polyline clip-path=\"url(#clip232)\" style=\"stroke:#000000; stroke-linecap:butt; stroke-linejoin:round; stroke-width:4; stroke-opacity:0.2; fill:none\" points=\"\n",
       "  867.348,739.095 751.294,961.39 \n",
       "  \"/>\n",
       "<polyline clip-path=\"url(#clip232)\" style=\"stroke:#000000; stroke-linecap:butt; stroke-linejoin:round; stroke-width:4; stroke-opacity:0.2; fill:none\" points=\"\n",
       "  751.112,546.528 924.926,401.669 \n",
       "  \"/>\n",
       "<polyline clip-path=\"url(#clip232)\" style=\"stroke:#000000; stroke-linecap:butt; stroke-linejoin:round; stroke-width:4; stroke-opacity:0.2; fill:none\" points=\"\n",
       "  885.747,410.889 924.926,401.669 908.795,438.544 \n",
       "  \"/>\n",
       "<polyline clip-path=\"url(#clip232)\" style=\"stroke:#000000; stroke-linecap:butt; stroke-linejoin:round; stroke-width:4; stroke-opacity:0.2; fill:none\" points=\"\n",
       "  924.926,401.669 751.112,546.528 \n",
       "  \"/>\n",
       "<polyline clip-path=\"url(#clip232)\" style=\"stroke:#000000; stroke-linecap:butt; stroke-linejoin:round; stroke-width:4; stroke-opacity:0.2; fill:none\" points=\"\n",
       "  751.112,546.528 830.924,688.594 \n",
       "  \"/>\n",
       "<polyline clip-path=\"url(#clip232)\" style=\"stroke:#000000; stroke-linecap:butt; stroke-linejoin:round; stroke-width:4; stroke-opacity:0.2; fill:none\" points=\"\n",
       "  828.985,648.392 830.924,688.594 797.599,666.024 \n",
       "  \"/>\n",
       "<polyline clip-path=\"url(#clip232)\" style=\"stroke:#000000; stroke-linecap:butt; stroke-linejoin:round; stroke-width:4; stroke-opacity:0.2; fill:none\" points=\"\n",
       "  830.924,688.594 751.112,546.528 \n",
       "  \"/>\n",
       "<polyline clip-path=\"url(#clip232)\" style=\"stroke:#000000; stroke-linecap:butt; stroke-linejoin:round; stroke-width:4; stroke-opacity:0.2; fill:none\" points=\"\n",
       "  961.727,1138.26 1200.08,1065.49 \n",
       "  \"/>\n",
       "<polyline clip-path=\"url(#clip232)\" style=\"stroke:#000000; stroke-linecap:butt; stroke-linejoin:round; stroke-width:4; stroke-opacity:0.2; fill:none\" points=\"\n",
       "  1160.39,1058.79 1200.08,1065.49 1170.9,1093.22 \n",
       "  \"/>\n",
       "<polyline clip-path=\"url(#clip232)\" style=\"stroke:#000000; stroke-linecap:butt; stroke-linejoin:round; stroke-width:4; stroke-opacity:0.2; fill:none\" points=\"\n",
       "  1200.08,1065.49 961.727,1138.26 \n",
       "  \"/>\n",
       "<polyline clip-path=\"url(#clip232)\" style=\"stroke:#000000; stroke-linecap:butt; stroke-linejoin:round; stroke-width:4; stroke-opacity:0.2; fill:none\" points=\"\n",
       "  961.727,1138.26 789.047,971.436 \n",
       "  \"/>\n",
       "<polyline clip-path=\"url(#clip232)\" style=\"stroke:#000000; stroke-linecap:butt; stroke-linejoin:round; stroke-width:4; stroke-opacity:0.2; fill:none\" points=\"\n",
       "  802.431,1009.39 789.047,971.436 827.445,983.504 \n",
       "  \"/>\n",
       "<polyline clip-path=\"url(#clip232)\" style=\"stroke:#000000; stroke-linecap:butt; stroke-linejoin:round; stroke-width:4; stroke-opacity:0.2; fill:none\" points=\"\n",
       "  789.047,971.436 961.727,1138.26 \n",
       "  \"/>\n",
       "<polyline clip-path=\"url(#clip232)\" style=\"stroke:#000000; stroke-linecap:butt; stroke-linejoin:round; stroke-width:4; stroke-opacity:0.2; fill:none\" points=\"\n",
       "  1242.56,830.422 1213.19,1048.15 \n",
       "  \"/>\n",
       "<polyline clip-path=\"url(#clip232)\" style=\"stroke:#000000; stroke-linecap:butt; stroke-linejoin:round; stroke-width:4; stroke-opacity:0.2; fill:none\" points=\"\n",
       "  1235.84,1014.88 1213.19,1048.15 1200.16,1010.07 \n",
       "  \"/>\n",
       "<polyline clip-path=\"url(#clip232)\" style=\"stroke:#000000; stroke-linecap:butt; stroke-linejoin:round; stroke-width:4; stroke-opacity:0.2; fill:none\" points=\"\n",
       "  1213.19,1048.15 1242.56,830.422 \n",
       "  \"/>\n",
       "<polyline clip-path=\"url(#clip232)\" style=\"stroke:#000000; stroke-linecap:butt; stroke-linejoin:round; stroke-width:4; stroke-opacity:0.2; fill:none\" points=\"\n",
       "  662.317,679.741 714.246,558.111 \n",
       "  \"/>\n",
       "<polyline clip-path=\"url(#clip232)\" style=\"stroke:#000000; stroke-linecap:butt; stroke-linejoin:round; stroke-width:4; stroke-opacity:0.2; fill:none\" points=\"\n",
       "  683.556,584.152 714.246,558.111 716.665,598.288 \n",
       "  \"/>\n",
       "<polyline clip-path=\"url(#clip232)\" style=\"stroke:#000000; stroke-linecap:butt; stroke-linejoin:round; stroke-width:4; stroke-opacity:0.2; fill:none\" points=\"\n",
       "  714.246,558.111 662.317,679.741 \n",
       "  \"/>\n",
       "<polyline clip-path=\"url(#clip232)\" style=\"stroke:#000000; stroke-linecap:butt; stroke-linejoin:round; stroke-width:4; stroke-opacity:0.2; fill:none\" points=\"\n",
       "  662.317,679.741 888.324,821.117 \n",
       "  \"/>\n",
       "<polyline clip-path=\"url(#clip232)\" style=\"stroke:#000000; stroke-linecap:butt; stroke-linejoin:round; stroke-width:4; stroke-opacity:0.2; fill:none\" points=\"\n",
       "  867.35,786.765 888.324,821.117 848.258,817.286 \n",
       "  \"/>\n",
       "<polyline clip-path=\"url(#clip232)\" style=\"stroke:#000000; stroke-linecap:butt; stroke-linejoin:round; stroke-width:4; stroke-opacity:0.2; fill:none\" points=\"\n",
       "  888.324,821.117 662.317,679.741 \n",
       "  \"/>\n",
       "<polyline clip-path=\"url(#clip232)\" style=\"stroke:#000000; stroke-linecap:butt; stroke-linejoin:round; stroke-width:4; stroke-opacity:0.2; fill:none\" points=\"\n",
       "  1664.73,1190.62 1474.88,1109.2 \n",
       "  \"/>\n",
       "<polyline clip-path=\"url(#clip232)\" style=\"stroke:#000000; stroke-linecap:butt; stroke-linejoin:round; stroke-width:4; stroke-opacity:0.2; fill:none\" points=\"\n",
       "  1500.88,1139.93 1474.88,1109.2 1515.07,1106.85 \n",
       "  \"/>\n",
       "<polyline clip-path=\"url(#clip232)\" style=\"stroke:#000000; stroke-linecap:butt; stroke-linejoin:round; stroke-width:4; stroke-opacity:0.2; fill:none\" points=\"\n",
       "  1474.88,1109.2 1664.73,1190.62 \n",
       "  \"/>\n",
       "<polyline clip-path=\"url(#clip232)\" style=\"stroke:#000000; stroke-linecap:butt; stroke-linejoin:round; stroke-width:4; stroke-opacity:0.2; fill:none\" points=\"\n",
       "  1664.73,1190.62 1536.65,1094.37 \n",
       "  \"/>\n",
       "<polyline clip-path=\"url(#clip232)\" style=\"stroke:#000000; stroke-linecap:butt; stroke-linejoin:round; stroke-width:4; stroke-opacity:0.2; fill:none\" points=\"\n",
       "  1554.62,1130.39 1536.65,1094.37 1576.25,1101.61 \n",
       "  \"/>\n",
       "<polyline clip-path=\"url(#clip232)\" style=\"stroke:#000000; stroke-linecap:butt; stroke-linejoin:round; stroke-width:4; stroke-opacity:0.2; fill:none\" points=\"\n",
       "  1536.65,1094.37 1664.73,1190.62 \n",
       "  \"/>\n",
       "<polyline clip-path=\"url(#clip232)\" style=\"stroke:#000000; stroke-linecap:butt; stroke-linejoin:round; stroke-width:4; stroke-opacity:0.2; fill:none\" points=\"\n",
       "  929.558,825.134 1112.55,934.728 \n",
       "  \"/>\n",
       "<polyline clip-path=\"url(#clip232)\" style=\"stroke:#000000; stroke-linecap:butt; stroke-linejoin:round; stroke-width:4; stroke-opacity:0.2; fill:none\" points=\"\n",
       "  1090.92,900.789 1112.55,934.728 1072.42,931.674 \n",
       "  \"/>\n",
       "<polyline clip-path=\"url(#clip232)\" style=\"stroke:#000000; stroke-linecap:butt; stroke-linejoin:round; stroke-width:4; stroke-opacity:0.2; fill:none\" points=\"\n",
       "  1112.55,934.728 929.558,825.134 \n",
       "  \"/>\n",
       "<polyline clip-path=\"url(#clip232)\" style=\"stroke:#000000; stroke-linecap:butt; stroke-linejoin:round; stroke-width:4; stroke-opacity:0.2; fill:none\" points=\"\n",
       "  929.558,825.134 902.996,714.635 \n",
       "  \"/>\n",
       "<polyline clip-path=\"url(#clip232)\" style=\"stroke:#000000; stroke-linecap:butt; stroke-linejoin:round; stroke-width:4; stroke-opacity:0.2; fill:none\" points=\"\n",
       "  893.909,753.845 902.996,714.635 928.911,745.431 \n",
       "  \"/>\n",
       "<polyline clip-path=\"url(#clip232)\" style=\"stroke:#000000; stroke-linecap:butt; stroke-linejoin:round; stroke-width:4; stroke-opacity:0.2; fill:none\" points=\"\n",
       "  902.996,714.635 929.558,825.134 \n",
       "  \"/>\n",
       "<polyline clip-path=\"url(#clip232)\" style=\"stroke:#000000; stroke-linecap:butt; stroke-linejoin:round; stroke-width:4; stroke-opacity:0.2; fill:none\" points=\"\n",
       "  1529.16,1056.65 1242.25,1060.54 \n",
       "  \"/>\n",
       "<polyline clip-path=\"url(#clip232)\" style=\"stroke:#000000; stroke-linecap:butt; stroke-linejoin:round; stroke-width:4; stroke-opacity:0.2; fill:none\" points=\"\n",
       "  1278.49,1078.05 1242.25,1060.54 1278,1042.05 \n",
       "  \"/>\n",
       "<polyline clip-path=\"url(#clip232)\" style=\"stroke:#000000; stroke-linecap:butt; stroke-linejoin:round; stroke-width:4; stroke-opacity:0.2; fill:none\" points=\"\n",
       "  1242.25,1060.54 1529.16,1056.65 \n",
       "  \"/>\n",
       "<polyline clip-path=\"url(#clip232)\" style=\"stroke:#000000; stroke-linecap:butt; stroke-linejoin:round; stroke-width:4; stroke-opacity:0.2; fill:none\" points=\"\n",
       "  1529.16,1056.65 1653.53,860.18 \n",
       "  \"/>\n",
       "<polyline clip-path=\"url(#clip232)\" style=\"stroke:#000000; stroke-linecap:butt; stroke-linejoin:round; stroke-width:4; stroke-opacity:0.2; fill:none\" points=\"\n",
       "  1619.06,880.97 1653.53,860.18 1649.48,900.225 \n",
       "  \"/>\n",
       "<polyline clip-path=\"url(#clip232)\" style=\"stroke:#000000; stroke-linecap:butt; stroke-linejoin:round; stroke-width:4; stroke-opacity:0.2; fill:none\" points=\"\n",
       "  1653.53,860.18 1529.16,1056.65 \n",
       "  \"/>\n",
       "<polyline clip-path=\"url(#clip232)\" style=\"stroke:#000000; stroke-linecap:butt; stroke-linejoin:round; stroke-width:4; stroke-opacity:0.2; fill:none\" points=\"\n",
       "  1417.46,968.082 1717.62,966.104 \n",
       "  \"/>\n",
       "<polyline clip-path=\"url(#clip232)\" style=\"stroke:#000000; stroke-linecap:butt; stroke-linejoin:round; stroke-width:4; stroke-opacity:0.2; fill:none\" points=\"\n",
       "  1681.5,948.342 1717.62,966.104 1681.73,984.341 \n",
       "  \"/>\n",
       "<polyline clip-path=\"url(#clip232)\" style=\"stroke:#000000; stroke-linecap:butt; stroke-linejoin:round; stroke-width:4; stroke-opacity:0.2; fill:none\" points=\"\n",
       "  1717.62,966.104 1417.46,968.082 \n",
       "  \"/>\n",
       "<polyline clip-path=\"url(#clip232)\" style=\"stroke:#000000; stroke-linecap:butt; stroke-linejoin:round; stroke-width:4; stroke-opacity:0.2; fill:none\" points=\"\n",
       "  1417.46,968.082 1522.89,1018.93 \n",
       "  \"/>\n",
       "<polyline clip-path=\"url(#clip232)\" style=\"stroke:#000000; stroke-linecap:butt; stroke-linejoin:round; stroke-width:4; stroke-opacity:0.2; fill:none\" points=\"\n",
       "  1498.28,987.079 1522.89,1018.93 1482.65,1019.5 \n",
       "  \"/>\n",
       "<polyline clip-path=\"url(#clip232)\" style=\"stroke:#000000; stroke-linecap:butt; stroke-linejoin:round; stroke-width:4; stroke-opacity:0.2; fill:none\" points=\"\n",
       "  1522.89,1018.93 1417.46,968.082 \n",
       "  \"/>\n",
       "<polyline clip-path=\"url(#clip232)\" style=\"stroke:#000000; stroke-linecap:butt; stroke-linejoin:round; stroke-width:4; stroke-opacity:0.2; fill:none\" points=\"\n",
       "  1289.05,262.317 1207.26,437.935 \n",
       "  \"/>\n",
       "<polyline clip-path=\"url(#clip232)\" style=\"stroke:#000000; stroke-linecap:butt; stroke-linejoin:round; stroke-width:4; stroke-opacity:0.2; fill:none\" points=\"\n",
       "  1238.77,412.902 1207.26,437.935 1206.14,397.701 \n",
       "  \"/>\n",
       "<polyline clip-path=\"url(#clip232)\" style=\"stroke:#000000; stroke-linecap:butt; stroke-linejoin:round; stroke-width:4; stroke-opacity:0.2; fill:none\" points=\"\n",
       "  1207.26,437.935 1289.05,262.317 \n",
       "  \"/>\n",
       "<path clip-path=\"url(#clip232)\" d=\"\n",
       "M1762.7 974.673 L1750.19 953.01 L1725.18 953.01 L1712.67 974.673 L1725.18 996.337 L1750.19 996.337 L1762.7 974.673 L1762.7 974.673  Z\n",
       "  \" fill=\"#ffff00\" fill-rule=\"evenodd\" fill-opacity=\"1\"/>\n",
       "<polyline clip-path=\"url(#clip232)\" style=\"stroke:#000000; stroke-linecap:butt; stroke-linejoin:round; stroke-width:4; stroke-opacity:1; fill:none\" points=\"\n",
       "  1762.7,974.673 1750.19,953.01 1725.18,953.01 1712.67,974.673 1725.18,996.337 1750.19,996.337 1762.7,974.673 \n",
       "  \"/>\n",
       "<path clip-path=\"url(#clip232)\" d=\"\n",
       "M1148.64 956.392 L1136.14 934.728 L1111.12 934.728 L1098.61 956.392 L1111.12 978.055 L1136.14 978.055 L1148.64 956.392 L1148.64 956.392  Z\n",
       "  \" fill=\"#20b2aa\" fill-rule=\"evenodd\" fill-opacity=\"1\"/>\n",
       "<polyline clip-path=\"url(#clip232)\" style=\"stroke:#000000; stroke-linecap:butt; stroke-linejoin:round; stroke-width:4; stroke-opacity:1; fill:none\" points=\"\n",
       "  1148.64,956.392 1136.14,934.728 1111.12,934.728 1098.61,956.392 1111.12,978.055 1136.14,978.055 1148.64,956.392 \n",
       "  \"/>\n",
       "<path clip-path=\"url(#clip232)\" d=\"\n",
       "M1247.61 1069.82 L1235.1 1048.15 L1210.09 1048.15 L1197.58 1069.82 L1210.09 1091.48 L1235.1 1091.48 L1247.61 1069.82 L1247.61 1069.82  Z\n",
       "  \" fill=\"#0000ff\" fill-rule=\"evenodd\" fill-opacity=\"1\"/>\n",
       "<polyline clip-path=\"url(#clip232)\" style=\"stroke:#000000; stroke-linecap:butt; stroke-linejoin:round; stroke-width:4; stroke-opacity:1; fill:none\" points=\"\n",
       "  1247.61,1069.82 1235.1,1048.15 1210.09,1048.15 1197.58,1069.82 1210.09,1091.48 1235.1,1091.48 1247.61,1069.82 \n",
       "  \"/>\n",
       "<path clip-path=\"url(#clip232)\" d=\"\n",
       "M1469.3 579.289 L1456.79 557.626 L1431.77 557.626 L1419.27 579.289 L1431.77 600.953 L1456.79 600.953 L1469.3 579.289 L1469.3 579.289  Z\n",
       "  \" fill=\"#20b2aa\" fill-rule=\"evenodd\" fill-opacity=\"1\"/>\n",
       "<polyline clip-path=\"url(#clip232)\" style=\"stroke:#000000; stroke-linecap:butt; stroke-linejoin:round; stroke-width:4; stroke-opacity:1; fill:none\" points=\"\n",
       "  1469.3,579.289 1456.79,557.626 1431.77,557.626 1419.27,579.289 1431.77,600.953 1456.79,600.953 1469.3,579.289 \n",
       "  \"/>\n",
       "<path clip-path=\"url(#clip232)\" d=\"\n",
       "M1697.67 849.979 L1685.16 828.316 L1660.15 828.316 L1647.64 849.979 L1660.15 871.642 L1685.16 871.642 L1697.67 849.979 L1697.67 849.979  Z\n",
       "  \" fill=\"#20b2aa\" fill-rule=\"evenodd\" fill-opacity=\"1\"/>\n",
       "<polyline clip-path=\"url(#clip232)\" style=\"stroke:#000000; stroke-linecap:butt; stroke-linejoin:round; stroke-width:4; stroke-opacity:1; fill:none\" points=\"\n",
       "  1697.67,849.979 1685.16,828.316 1660.15,828.316 1647.64,849.979 1660.15,871.642 1685.16,871.642 1697.67,849.979 \n",
       "  \"/>\n",
       "<path clip-path=\"url(#clip232)\" d=\"\n",
       "M1235.98 459.599 L1223.47 437.935 L1198.46 437.935 L1185.95 459.599 L1198.46 481.262 L1223.47 481.262 L1235.98 459.599 L1235.98 459.599  Z\n",
       "  \" fill=\"#ffa500\" fill-rule=\"evenodd\" fill-opacity=\"1\"/>\n",
       "<polyline clip-path=\"url(#clip232)\" style=\"stroke:#000000; stroke-linecap:butt; stroke-linejoin:round; stroke-width:4; stroke-opacity:1; fill:none\" points=\"\n",
       "  1235.98,459.599 1223.47,437.935 1198.46,437.935 1185.95,459.599 1198.46,481.262 1223.47,481.262 1235.98,459.599 \n",
       "  \"/>\n",
       "<path clip-path=\"url(#clip232)\" d=\"\n",
       "M1492.49 814.419 L1479.98 792.755 L1454.97 792.755 L1442.46 814.419 L1454.97 836.082 L1479.98 836.082 L1492.49 814.419 L1492.49 814.419  Z\n",
       "  \" fill=\"#20b2aa\" fill-rule=\"evenodd\" fill-opacity=\"1\"/>\n",
       "<polyline clip-path=\"url(#clip232)\" style=\"stroke:#000000; stroke-linecap:butt; stroke-linejoin:round; stroke-width:4; stroke-opacity:1; fill:none\" points=\"\n",
       "  1492.49,814.419 1479.98,792.755 1454.97,792.755 1442.46,814.419 1454.97,836.082 1479.98,836.082 1492.49,814.419 \n",
       "  \"/>\n",
       "<path clip-path=\"url(#clip232)\" d=\"\n",
       "M972.76 397.867 L960.253 376.204 L935.238 376.204 L922.731 397.867 L935.238 419.531 L960.253 419.531 L972.76 397.867 L972.76 397.867  Z\n",
       "  \" fill=\"#20b2aa\" fill-rule=\"evenodd\" fill-opacity=\"1\"/>\n",
       "<polyline clip-path=\"url(#clip232)\" style=\"stroke:#000000; stroke-linecap:butt; stroke-linejoin:round; stroke-width:4; stroke-opacity:1; fill:none\" points=\"\n",
       "  972.76,397.867 960.253,376.204 935.238,376.204 922.731,397.867 935.238,419.531 960.253,419.531 972.76,397.867 \n",
       "  \"/>\n",
       "<path clip-path=\"url(#clip232)\" d=\"\n",
       "M1141.01 641.246 L1128.51 619.583 L1103.49 619.583 L1090.98 641.246 L1103.49 662.91 L1128.51 662.91 L1141.01 641.246 L1141.01 641.246  Z\n",
       "  \" fill=\"#20b2aa\" fill-rule=\"evenodd\" fill-opacity=\"1\"/>\n",
       "<polyline clip-path=\"url(#clip232)\" style=\"stroke:#000000; stroke-linecap:butt; stroke-linejoin:round; stroke-width:4; stroke-opacity:1; fill:none\" points=\"\n",
       "  1141.01,641.246 1128.51,619.583 1103.49,619.583 1090.98,641.246 1103.49,662.91 1128.51,662.91 1141.01,641.246 \n",
       "  \"/>\n",
       "<path clip-path=\"url(#clip232)\" d=\"\n",
       "M1478.99 1116.3 L1457.21 1078.59 L1413.66 1078.59 L1391.88 1116.3 L1413.66 1154.02 L1457.21 1154.02 L1478.99 1116.3 L1478.99 1116.3  Z\n",
       "  \" fill=\"#20b2aa\" fill-rule=\"evenodd\" fill-opacity=\"1\"/>\n",
       "<polyline clip-path=\"url(#clip232)\" style=\"stroke:#000000; stroke-linecap:butt; stroke-linejoin:round; stroke-width:4; stroke-opacity:1; fill:none\" points=\"\n",
       "  1478.99,1116.3 1457.21,1078.59 1413.66,1078.59 1391.88,1116.3 1413.66,1154.02 1457.21,1154.02 1478.99,1116.3 \n",
       "  \"/>\n",
       "<path clip-path=\"url(#clip232)\" d=\"\n",
       "M1209.81 1167.71 L1188.04 1129.99 L1144.49 1129.99 L1122.71 1167.71 L1144.49 1205.42 L1188.04 1205.42 L1209.81 1167.71 L1209.81 1167.71  Z\n",
       "  \" fill=\"#20b2aa\" fill-rule=\"evenodd\" fill-opacity=\"1\"/>\n",
       "<polyline clip-path=\"url(#clip232)\" style=\"stroke:#000000; stroke-linecap:butt; stroke-linejoin:round; stroke-width:4; stroke-opacity:1; fill:none\" points=\"\n",
       "  1209.81,1167.71 1188.04,1129.99 1144.49,1129.99 1122.71,1167.71 1144.49,1205.42 1188.04,1205.42 1209.81,1167.71 \n",
       "  \"/>\n",
       "<path clip-path=\"url(#clip232)\" d=\"\n",
       "M1208.91 1323.01 L1187.13 1285.29 L1143.58 1285.29 L1121.8 1323.01 L1143.58 1360.73 L1187.13 1360.73 L1208.91 1323.01 L1208.91 1323.01  Z\n",
       "  \" fill=\"#20b2aa\" fill-rule=\"evenodd\" fill-opacity=\"1\"/>\n",
       "<polyline clip-path=\"url(#clip232)\" style=\"stroke:#000000; stroke-linecap:butt; stroke-linejoin:round; stroke-width:4; stroke-opacity:1; fill:none\" points=\"\n",
       "  1208.91,1323.01 1187.13,1285.29 1143.58,1285.29 1121.8,1323.01 1143.58,1360.73 1187.13,1360.73 1208.91,1323.01 \n",
       "  \"/>\n",
       "<path clip-path=\"url(#clip232)\" d=\"\n",
       "M747.558 800.092 L725.782 762.374 L682.229 762.374 L660.452 800.092 L682.229 837.81 L725.782 837.81 L747.558 800.092 L747.558 800.092  Z\n",
       "  \" fill=\"#20b2aa\" fill-rule=\"evenodd\" fill-opacity=\"1\"/>\n",
       "<polyline clip-path=\"url(#clip232)\" style=\"stroke:#000000; stroke-linecap:butt; stroke-linejoin:round; stroke-width:4; stroke-opacity:1; fill:none\" points=\"\n",
       "  747.558,800.092 725.782,762.374 682.229,762.374 660.452,800.092 682.229,837.81 725.782,837.81 747.558,800.092 \n",
       "  \"/>\n",
       "<path clip-path=\"url(#clip232)\" d=\"\n",
       "M794.847 961.39 L773.071 923.672 L729.517 923.672 L707.741 961.39 L729.517 999.108 L773.071 999.108 L794.847 961.39 L794.847 961.39  Z\n",
       "  \" fill=\"#20b2aa\" fill-rule=\"evenodd\" fill-opacity=\"1\"/>\n",
       "<polyline clip-path=\"url(#clip232)\" style=\"stroke:#000000; stroke-linecap:butt; stroke-linejoin:round; stroke-width:4; stroke-opacity:1; fill:none\" points=\"\n",
       "  794.847,961.39 773.071,923.672 729.517,923.672 707.741,961.39 729.517,999.108 773.071,999.108 794.847,961.39 \n",
       "  \"/>\n",
       "<path clip-path=\"url(#clip232)\" d=\"\n",
       "M794.665 546.528 L772.888 508.81 L729.335 508.81 L707.558 546.528 L729.335 584.246 L772.888 584.246 L794.665 546.528 L794.665 546.528  Z\n",
       "  \" fill=\"#20b2aa\" fill-rule=\"evenodd\" fill-opacity=\"1\"/>\n",
       "<polyline clip-path=\"url(#clip232)\" style=\"stroke:#000000; stroke-linecap:butt; stroke-linejoin:round; stroke-width:4; stroke-opacity:1; fill:none\" points=\"\n",
       "  794.665,546.528 772.888,508.81 729.335,508.81 707.558,546.528 729.335,584.246 772.888,584.246 794.665,546.528 \n",
       "  \"/>\n",
       "<path clip-path=\"url(#clip232)\" d=\"\n",
       "M1005.28 1138.26 L983.503 1100.54 L939.95 1100.54 L918.174 1138.26 L939.95 1175.98 L983.503 1175.98 L1005.28 1138.26 L1005.28 1138.26  Z\n",
       "  \" fill=\"#20b2aa\" fill-rule=\"evenodd\" fill-opacity=\"1\"/>\n",
       "<polyline clip-path=\"url(#clip232)\" style=\"stroke:#000000; stroke-linecap:butt; stroke-linejoin:round; stroke-width:4; stroke-opacity:1; fill:none\" points=\"\n",
       "  1005.28,1138.26 983.503,1100.54 939.95,1100.54 918.174,1138.26 939.95,1175.98 983.503,1175.98 1005.28,1138.26 \n",
       "  \"/>\n",
       "<path clip-path=\"url(#clip232)\" d=\"\n",
       "M1286.11 830.422 L1264.33 792.704 L1220.78 792.704 L1199 830.422 L1220.78 868.14 L1264.33 868.14 L1286.11 830.422 L1286.11 830.422  Z\n",
       "  \" fill=\"#20b2aa\" fill-rule=\"evenodd\" fill-opacity=\"1\"/>\n",
       "<polyline clip-path=\"url(#clip232)\" style=\"stroke:#000000; stroke-linecap:butt; stroke-linejoin:round; stroke-width:4; stroke-opacity:1; fill:none\" points=\"\n",
       "  1286.11,830.422 1264.33,792.704 1220.78,792.704 1199,830.422 1220.78,868.14 1264.33,868.14 1286.11,830.422 \n",
       "  \"/>\n",
       "<path clip-path=\"url(#clip232)\" d=\"\n",
       "M1560.15 1337.68 L1538.38 1299.96 L1494.82 1299.96 L1473.05 1337.68 L1494.82 1375.4 L1538.38 1375.4 L1560.15 1337.68 L1560.15 1337.68  Z\n",
       "  \" fill=\"#20b2aa\" fill-rule=\"evenodd\" fill-opacity=\"1\"/>\n",
       "<polyline clip-path=\"url(#clip232)\" style=\"stroke:#000000; stroke-linecap:butt; stroke-linejoin:round; stroke-width:4; stroke-opacity:1; fill:none\" points=\"\n",
       "  1560.15,1337.68 1538.38,1299.96 1494.82,1299.96 1473.05,1337.68 1494.82,1375.4 1538.38,1375.4 1560.15,1337.68 \n",
       "  \"/>\n",
       "<path clip-path=\"url(#clip232)\" d=\"\n",
       "M705.87 679.741 L684.094 642.023 L640.541 642.023 L618.764 679.741 L640.541 717.459 L684.094 717.459 L705.87 679.741 L705.87 679.741  Z\n",
       "  \" fill=\"#20b2aa\" fill-rule=\"evenodd\" fill-opacity=\"1\"/>\n",
       "<polyline clip-path=\"url(#clip232)\" style=\"stroke:#000000; stroke-linecap:butt; stroke-linejoin:round; stroke-width:4; stroke-opacity:1; fill:none\" points=\"\n",
       "  705.87,679.741 684.094,642.023 640.541,642.023 618.764,679.741 640.541,717.459 684.094,717.459 705.87,679.741 \n",
       "  \"/>\n",
       "<path clip-path=\"url(#clip232)\" d=\"\n",
       "M910.65 701.377 L888.874 663.659 L845.321 663.659 L823.544 701.377 L845.321 739.095 L888.874 739.095 L910.65 701.377 L910.65 701.377  Z\n",
       "  \" fill=\"#800080\" fill-rule=\"evenodd\" fill-opacity=\"1\"/>\n",
       "<polyline clip-path=\"url(#clip232)\" style=\"stroke:#000000; stroke-linecap:butt; stroke-linejoin:round; stroke-width:4; stroke-opacity:1; fill:none\" points=\"\n",
       "  910.65,701.377 888.874,663.659 845.321,663.659 823.544,701.377 845.321,739.095 888.874,739.095 910.65,701.377 \n",
       "  \"/>\n",
       "<path clip-path=\"url(#clip232)\" d=\"\n",
       "M1708.28 1190.62 L1686.51 1152.9 L1642.95 1152.9 L1621.18 1190.62 L1642.95 1228.34 L1686.51 1228.34 L1708.28 1190.62 L1708.28 1190.62  Z\n",
       "  \" fill=\"#20b2aa\" fill-rule=\"evenodd\" fill-opacity=\"1\"/>\n",
       "<polyline clip-path=\"url(#clip232)\" style=\"stroke:#000000; stroke-linecap:butt; stroke-linejoin:round; stroke-width:4; stroke-opacity:1; fill:none\" points=\"\n",
       "  1708.28,1190.62 1686.51,1152.9 1642.95,1152.9 1621.18,1190.62 1642.95,1228.34 1686.51,1228.34 1708.28,1190.62 \n",
       "  \"/>\n",
       "<path clip-path=\"url(#clip232)\" d=\"\n",
       "M973.111 825.134 L951.335 787.416 L907.782 787.416 L886.005 825.134 L907.782 862.852 L951.335 862.852 L973.111 825.134 L973.111 825.134  Z\n",
       "  \" fill=\"#20b2aa\" fill-rule=\"evenodd\" fill-opacity=\"1\"/>\n",
       "<polyline clip-path=\"url(#clip232)\" style=\"stroke:#000000; stroke-linecap:butt; stroke-linejoin:round; stroke-width:4; stroke-opacity:1; fill:none\" points=\"\n",
       "  973.111,825.134 951.335,787.416 907.782,787.416 886.005,825.134 907.782,862.852 951.335,862.852 973.111,825.134 \n",
       "  \"/>\n",
       "<path clip-path=\"url(#clip232)\" d=\"\n",
       "M1572.71 1056.65 L1550.93 1018.93 L1507.38 1018.93 L1485.6 1056.65 L1507.38 1094.37 L1550.93 1094.37 L1572.71 1056.65 L1572.71 1056.65  Z\n",
       "  \" fill=\"#20b2aa\" fill-rule=\"evenodd\" fill-opacity=\"1\"/>\n",
       "<polyline clip-path=\"url(#clip232)\" style=\"stroke:#000000; stroke-linecap:butt; stroke-linejoin:round; stroke-width:4; stroke-opacity:1; fill:none\" points=\"\n",
       "  1572.71,1056.65 1550.93,1018.93 1507.38,1018.93 1485.6,1056.65 1507.38,1094.37 1550.93,1094.37 1572.71,1056.65 \n",
       "  \"/>\n",
       "<path clip-path=\"url(#clip232)\" d=\"\n",
       "M917.128 990.691 L895.351 952.973 L851.798 952.973 L830.021 990.691 L851.798 1028.41 L895.351 1028.41 L917.128 990.691 L917.128 990.691  Z\n",
       "  \" fill=\"#008000\" fill-rule=\"evenodd\" fill-opacity=\"1\"/>\n",
       "<polyline clip-path=\"url(#clip232)\" style=\"stroke:#000000; stroke-linecap:butt; stroke-linejoin:round; stroke-width:4; stroke-opacity:1; fill:none\" points=\"\n",
       "  917.128,990.691 895.351,952.973 851.798,952.973 830.021,990.691 851.798,1028.41 895.351,1028.41 917.128,990.691 \n",
       "  \"/>\n",
       "<path clip-path=\"url(#clip232)\" d=\"\n",
       "M1461.02 968.082 L1439.24 930.364 L1395.69 930.364 L1373.91 968.082 L1395.69 1005.8 L1439.24 1005.8 L1461.02 968.082 L1461.02 968.082  Z\n",
       "  \" fill=\"#20b2aa\" fill-rule=\"evenodd\" fill-opacity=\"1\"/>\n",
       "<polyline clip-path=\"url(#clip232)\" style=\"stroke:#000000; stroke-linecap:butt; stroke-linejoin:round; stroke-width:4; stroke-opacity:1; fill:none\" points=\"\n",
       "  1461.02,968.082 1439.24,930.364 1395.69,930.364 1373.91,968.082 1395.69,1005.8 1439.24,1005.8 1461.02,968.082 \n",
       "  \"/>\n",
       "<path clip-path=\"url(#clip232)\" d=\"\n",
       "M1332.61 262.317 L1310.83 224.599 L1267.28 224.599 L1245.5 262.317 L1267.28 300.035 L1310.83 300.035 L1332.61 262.317 L1332.61 262.317  Z\n",
       "  \" fill=\"#ff0000\" fill-rule=\"evenodd\" fill-opacity=\"1\"/>\n",
       "<polyline clip-path=\"url(#clip232)\" style=\"stroke:#000000; stroke-linecap:butt; stroke-linejoin:round; stroke-width:4; stroke-opacity:1; fill:none\" points=\"\n",
       "  1332.61,262.317 1310.83,224.599 1267.28,224.599 1245.5,262.317 1267.28,300.035 1310.83,300.035 1332.61,262.317 \n",
       "  \"/>\n",
       "<circle clip-path=\"url(#clip232)\" style=\"fill:#20b2aa; stroke:none; fill-opacity:1\" cx=\"1737.68\" cy=\"974.673\" r=\"2\"/>\n",
       "<circle clip-path=\"url(#clip232)\" style=\"fill:#20b2aa; stroke:none; fill-opacity:1\" cx=\"1123.63\" cy=\"956.392\" r=\"2\"/>\n",
       "<circle clip-path=\"url(#clip232)\" style=\"fill:#20b2aa; stroke:none; fill-opacity:1\" cx=\"1222.59\" cy=\"1069.82\" r=\"2\"/>\n",
       "<circle clip-path=\"url(#clip232)\" style=\"fill:#20b2aa; stroke:none; fill-opacity:1\" cx=\"1444.28\" cy=\"579.289\" r=\"2\"/>\n",
       "<circle clip-path=\"url(#clip232)\" style=\"fill:#20b2aa; stroke:none; fill-opacity:1\" cx=\"1672.65\" cy=\"849.979\" r=\"2\"/>\n",
       "<circle clip-path=\"url(#clip232)\" style=\"fill:#20b2aa; stroke:none; fill-opacity:1\" cx=\"1210.96\" cy=\"459.599\" r=\"2\"/>\n",
       "<circle clip-path=\"url(#clip232)\" style=\"fill:#20b2aa; stroke:none; fill-opacity:1\" cx=\"1467.47\" cy=\"814.419\" r=\"2\"/>\n",
       "<circle clip-path=\"url(#clip232)\" style=\"fill:#20b2aa; stroke:none; fill-opacity:1\" cx=\"947.746\" cy=\"397.867\" r=\"2\"/>\n",
       "<circle clip-path=\"url(#clip232)\" style=\"fill:#20b2aa; stroke:none; fill-opacity:1\" cx=\"1116\" cy=\"641.246\" r=\"2\"/>\n",
       "<circle clip-path=\"url(#clip232)\" style=\"fill:#20b2aa; stroke:none; fill-opacity:1\" cx=\"1435.43\" cy=\"1116.3\" r=\"2\"/>\n",
       "<circle clip-path=\"url(#clip232)\" style=\"fill:#20b2aa; stroke:none; fill-opacity:1\" cx=\"1166.26\" cy=\"1167.71\" r=\"2\"/>\n",
       "<circle clip-path=\"url(#clip232)\" style=\"fill:#20b2aa; stroke:none; fill-opacity:1\" cx=\"1165.35\" cy=\"1323.01\" r=\"2\"/>\n",
       "<circle clip-path=\"url(#clip232)\" style=\"fill:#20b2aa; stroke:none; fill-opacity:1\" cx=\"704.005\" cy=\"800.092\" r=\"2\"/>\n",
       "<circle clip-path=\"url(#clip232)\" style=\"fill:#20b2aa; stroke:none; fill-opacity:1\" cx=\"751.294\" cy=\"961.39\" r=\"2\"/>\n",
       "<circle clip-path=\"url(#clip232)\" style=\"fill:#20b2aa; stroke:none; fill-opacity:1\" cx=\"751.112\" cy=\"546.528\" r=\"2\"/>\n",
       "<circle clip-path=\"url(#clip232)\" style=\"fill:#20b2aa; stroke:none; fill-opacity:1\" cx=\"961.727\" cy=\"1138.26\" r=\"2\"/>\n",
       "<circle clip-path=\"url(#clip232)\" style=\"fill:#20b2aa; stroke:none; fill-opacity:1\" cx=\"1242.56\" cy=\"830.422\" r=\"2\"/>\n",
       "<circle clip-path=\"url(#clip232)\" style=\"fill:#20b2aa; stroke:none; fill-opacity:1\" cx=\"1516.6\" cy=\"1337.68\" r=\"2\"/>\n",
       "<circle clip-path=\"url(#clip232)\" style=\"fill:#20b2aa; stroke:none; fill-opacity:1\" cx=\"662.317\" cy=\"679.741\" r=\"2\"/>\n",
       "<circle clip-path=\"url(#clip232)\" style=\"fill:#20b2aa; stroke:none; fill-opacity:1\" cx=\"867.097\" cy=\"701.377\" r=\"2\"/>\n",
       "<circle clip-path=\"url(#clip232)\" style=\"fill:#20b2aa; stroke:none; fill-opacity:1\" cx=\"1664.73\" cy=\"1190.62\" r=\"2\"/>\n",
       "<circle clip-path=\"url(#clip232)\" style=\"fill:#20b2aa; stroke:none; fill-opacity:1\" cx=\"929.558\" cy=\"825.134\" r=\"2\"/>\n",
       "<circle clip-path=\"url(#clip232)\" style=\"fill:#20b2aa; stroke:none; fill-opacity:1\" cx=\"1529.16\" cy=\"1056.65\" r=\"2\"/>\n",
       "<circle clip-path=\"url(#clip232)\" style=\"fill:#20b2aa; stroke:none; fill-opacity:1\" cx=\"873.574\" cy=\"990.691\" r=\"2\"/>\n",
       "<circle clip-path=\"url(#clip232)\" style=\"fill:#20b2aa; stroke:none; fill-opacity:1\" cx=\"1417.46\" cy=\"968.082\" r=\"2\"/>\n",
       "<circle clip-path=\"url(#clip232)\" style=\"fill:#20b2aa; stroke:none; fill-opacity:1\" cx=\"1289.05\" cy=\"262.317\" r=\"2\"/>\n",
       "<path clip-path=\"url(#clip230)\" d=\"M1729.27 986.35 L1735.95 986.35 L1735.95 963.28 L1728.68 964.739 L1728.68 961.012 L1735.91 959.553 L1740 959.553 L1740 986.35 L1746.69 986.35 L1746.69 989.793 L1729.27 989.793 L1729.27 986.35 Z\" fill=\"#000000\" fill-rule=\"evenodd\" fill-opacity=\"1\" /><path clip-path=\"url(#clip230)\" d=\"M1118.95 968.068 L1133.23 968.068 L1133.23 971.512 L1114.03 971.512 L1114.03 968.068 Q1116.36 965.658 1120.37 961.607 Q1124.4 957.536 1125.43 956.361 Q1127.4 954.154 1128.17 952.634 Q1128.96 951.095 1128.96 949.617 Q1128.96 947.206 1127.26 945.687 Q1125.57 944.168 1122.86 944.168 Q1120.94 944.168 1118.79 944.837 Q1116.66 945.505 1114.23 946.862 L1114.23 942.73 Q1116.7 941.738 1118.85 941.231 Q1121 940.725 1122.78 940.725 Q1127.48 940.725 1130.27 943.074 Q1133.07 945.424 1133.07 949.353 Q1133.07 951.217 1132.36 952.898 Q1131.67 954.559 1129.83 956.827 Q1129.32 957.415 1126.61 960.23 Q1123.89 963.025 1118.95 968.068 Z\" fill=\"#000000\" fill-rule=\"evenodd\" fill-opacity=\"1\" /><path clip-path=\"url(#clip230)\" d=\"M1226.31 1068.63 Q1229.25 1069.26 1230.89 1071.25 Q1232.55 1073.23 1232.55 1076.15 Q1232.55 1080.62 1229.47 1083.07 Q1226.39 1085.52 1220.72 1085.52 Q1218.82 1085.52 1216.79 1085.14 Q1214.79 1084.78 1212.64 1084.03 L1212.64 1080.08 Q1214.34 1081.07 1216.37 1081.58 Q1218.39 1082.08 1220.6 1082.08 Q1224.45 1082.08 1226.45 1080.56 Q1228.48 1079.04 1228.48 1076.15 Q1228.48 1073.47 1226.59 1071.97 Q1224.73 1070.46 1221.39 1070.46 L1217.86 1070.46 L1217.86 1067.09 L1221.55 1067.09 Q1224.57 1067.09 1226.17 1065.9 Q1227.77 1064.68 1227.77 1062.41 Q1227.77 1060.09 1226.11 1058.85 Q1224.47 1057.59 1221.39 1057.59 Q1219.71 1057.59 1217.78 1057.96 Q1215.86 1058.32 1213.55 1059.09 L1213.55 1055.45 Q1215.88 1054.8 1217.91 1054.47 Q1219.95 1054.15 1221.75 1054.15 Q1226.41 1054.15 1229.13 1056.28 Q1231.84 1058.38 1231.84 1061.99 Q1231.84 1064.5 1230.4 1066.24 Q1228.96 1067.96 1226.31 1068.63 Z\" fill=\"#000000\" fill-rule=\"evenodd\" fill-opacity=\"1\" /><path clip-path=\"url(#clip230)\" d=\"M1446.91 567.734 L1436.58 583.877 L1446.91 583.877 L1446.91 567.734 M1445.84 564.169 L1450.99 564.169 L1450.99 583.877 L1455.3 583.877 L1455.3 587.28 L1450.99 587.28 L1450.99 594.409 L1446.91 594.409 L1446.91 587.28 L1433.26 587.28 L1433.26 583.33 L1445.84 564.169 Z\" fill=\"#000000\" fill-rule=\"evenodd\" fill-opacity=\"1\" /><path clip-path=\"url(#clip230)\" d=\"M1664.15 834.859 L1680.21 834.859 L1680.21 838.302 L1667.89 838.302 L1667.89 845.715 Q1668.78 845.412 1669.68 845.27 Q1670.57 845.108 1671.46 845.108 Q1676.52 845.108 1679.48 847.883 Q1682.44 850.658 1682.44 855.397 Q1682.44 860.278 1679.4 862.993 Q1676.36 865.686 1670.83 865.686 Q1668.93 865.686 1666.94 865.362 Q1664.98 865.038 1662.87 864.39 L1662.87 860.278 Q1664.69 861.271 1666.64 861.757 Q1668.58 862.243 1670.75 862.243 Q1674.25 862.243 1676.3 860.4 Q1678.34 858.557 1678.34 855.397 Q1678.34 852.237 1676.3 850.394 Q1674.25 848.551 1670.75 848.551 Q1669.11 848.551 1667.47 848.916 Q1665.85 849.28 1664.15 850.05 L1664.15 834.859 Z\" fill=\"#000000\" fill-rule=\"evenodd\" fill-opacity=\"1\" /><path clip-path=\"url(#clip230)\" d=\"M1211.32 457.968 Q1208.56 457.968 1206.94 459.852 Q1205.34 461.735 1205.34 465.017 Q1205.34 468.278 1206.94 470.182 Q1208.56 472.065 1211.32 472.065 Q1214.07 472.065 1215.67 470.182 Q1217.29 468.278 1217.29 465.017 Q1217.29 461.735 1215.67 459.852 Q1214.07 457.968 1211.32 457.968 M1219.44 445.147 L1219.44 448.874 Q1217.9 448.145 1216.32 447.76 Q1214.76 447.375 1213.22 447.375 Q1209.17 447.375 1207.02 450.109 Q1204.9 452.844 1204.59 458.373 Q1205.79 456.611 1207.59 455.679 Q1209.39 454.727 1211.56 454.727 Q1216.12 454.727 1218.75 457.502 Q1221.4 460.257 1221.4 465.017 Q1221.4 469.675 1218.65 472.491 Q1215.9 475.306 1211.32 475.306 Q1206.07 475.306 1203.3 471.296 Q1200.52 467.265 1200.52 459.629 Q1200.52 452.459 1203.93 448.205 Q1207.33 443.932 1213.06 443.932 Q1214.6 443.932 1216.16 444.235 Q1217.74 444.539 1219.44 445.147 Z\" fill=\"#000000\" fill-rule=\"evenodd\" fill-opacity=\"1\" /><path clip-path=\"url(#clip230)\" d=\"M1457.75 799.299 L1477.2 799.299 L1477.2 801.041 L1466.22 829.539 L1461.94 829.539 L1472.27 802.742 L1457.75 802.742 L1457.75 799.299 Z\" fill=\"#000000\" fill-rule=\"evenodd\" fill-opacity=\"1\" /><path clip-path=\"url(#clip230)\" d=\"M947.746 398.627 Q944.829 398.627 943.148 400.186 Q941.487 401.746 941.487 404.48 Q941.487 407.215 943.148 408.774 Q944.829 410.334 947.746 410.334 Q950.662 410.334 952.344 408.774 Q954.025 407.195 954.025 404.48 Q954.025 401.746 952.344 400.186 Q950.683 398.627 947.746 398.627 M943.654 396.885 Q941.021 396.237 939.543 394.434 Q938.084 392.632 938.084 390.039 Q938.084 386.413 940.657 384.307 Q943.249 382.2 947.746 382.2 Q952.262 382.2 954.835 384.307 Q957.407 386.413 957.407 390.039 Q957.407 392.632 955.929 394.434 Q954.47 396.237 951.857 396.885 Q954.815 397.574 956.455 399.579 Q958.116 401.584 958.116 404.48 Q958.116 408.876 955.422 411.225 Q952.749 413.575 947.746 413.575 Q942.743 413.575 940.049 411.225 Q937.375 408.876 937.375 404.48 Q937.375 401.584 939.036 399.579 Q940.697 397.574 943.654 396.885 M942.155 390.424 Q942.155 392.773 943.614 394.09 Q945.092 395.406 947.746 395.406 Q950.379 395.406 951.857 394.09 Q953.356 392.773 953.356 390.424 Q953.356 388.074 951.857 386.758 Q950.379 385.441 947.746 385.441 Q945.092 385.441 943.614 386.758 Q942.155 388.074 942.155 390.424 Z\" fill=\"#000000\" fill-rule=\"evenodd\" fill-opacity=\"1\" /><path clip-path=\"url(#clip230)\" d=\"M1107.51 655.738 L1107.51 652.012 Q1109.05 652.741 1110.63 653.126 Q1112.21 653.51 1113.73 653.51 Q1117.78 653.51 1119.91 650.796 Q1122.06 648.062 1122.36 642.512 Q1121.18 644.254 1119.38 645.186 Q1117.58 646.117 1115.39 646.117 Q1110.85 646.117 1108.2 643.383 Q1105.57 640.629 1105.57 635.869 Q1105.57 631.21 1108.32 628.395 Q1111.08 625.579 1115.66 625.579 Q1120.9 625.579 1123.66 629.61 Q1126.43 633.62 1126.43 641.277 Q1126.43 648.426 1123.03 652.7 Q1119.65 656.954 1113.91 656.954 Q1112.37 656.954 1110.79 656.65 Q1109.21 656.346 1107.51 655.738 M1115.66 642.917 Q1118.41 642.917 1120.01 641.034 Q1121.63 639.15 1121.63 635.869 Q1121.63 632.608 1120.01 630.724 Q1118.41 628.82 1115.66 628.82 Q1112.9 628.82 1111.28 630.724 Q1109.68 632.608 1109.68 635.869 Q1109.68 639.15 1111.28 641.034 Q1112.9 642.917 1115.66 642.917 Z\" fill=\"#000000\" fill-rule=\"evenodd\" fill-opacity=\"1\" /><path clip-path=\"url(#clip230)\" d=\"M1413.28 1127.98 L1419.97 1127.98 L1419.97 1104.91 L1412.7 1106.37 L1412.7 1102.64 L1419.93 1101.18 L1424.02 1101.18 L1424.02 1127.98 L1430.7 1127.98 L1430.7 1131.42 L1413.28 1131.42 L1413.28 1127.98 Z\" fill=\"#000000\" fill-rule=\"evenodd\" fill-opacity=\"1\" /><path clip-path=\"url(#clip230)\" d=\"M1447.72 1103.88 Q1444.56 1103.88 1442.96 1107 Q1441.38 1110.1 1441.38 1116.33 Q1441.38 1122.55 1442.96 1125.67 Q1444.56 1128.77 1447.72 1128.77 Q1450.9 1128.77 1452.48 1125.67 Q1454.08 1122.55 1454.08 1116.33 Q1454.08 1110.1 1452.48 1107 Q1450.9 1103.88 1447.72 1103.88 M1447.72 1100.64 Q1452.8 1100.64 1455.47 1104.67 Q1458.17 1108.68 1458.17 1116.33 Q1458.17 1123.97 1455.47 1128 Q1452.8 1132.01 1447.72 1132.01 Q1442.63 1132.01 1439.94 1128 Q1437.27 1123.97 1437.27 1116.33 Q1437.27 1108.68 1439.94 1104.67 Q1442.63 1100.64 1447.72 1100.64 Z\" fill=\"#000000\" fill-rule=\"evenodd\" fill-opacity=\"1\" /><path clip-path=\"url(#clip230)\" d=\"M1144.65 1179.38 L1151.33 1179.38 L1151.33 1156.31 L1144.06 1157.77 L1144.06 1154.05 L1151.29 1152.59 L1155.38 1152.59 L1155.38 1179.38 L1162.07 1179.38 L1162.07 1182.83 L1144.65 1182.83 L1144.65 1179.38 Z\" fill=\"#000000\" fill-rule=\"evenodd\" fill-opacity=\"1\" /><path clip-path=\"url(#clip230)\" d=\"M1171.04 1179.38 L1177.73 1179.38 L1177.73 1156.31 L1170.45 1157.77 L1170.45 1154.05 L1177.69 1152.59 L1181.78 1152.59 L1181.78 1179.38 L1188.46 1179.38 L1188.46 1182.83 L1171.04 1182.83 L1171.04 1179.38 Z\" fill=\"#000000\" fill-rule=\"evenodd\" fill-opacity=\"1\" /><path clip-path=\"url(#clip230)\" d=\"M1143.91 1334.68 L1150.59 1334.68 L1150.59 1311.61 L1143.32 1313.07 L1143.32 1309.35 L1150.55 1307.89 L1154.64 1307.89 L1154.64 1334.68 L1161.32 1334.68 L1161.32 1338.13 L1143.91 1338.13 L1143.91 1334.68 Z\" fill=\"#000000\" fill-rule=\"evenodd\" fill-opacity=\"1\" /><path clip-path=\"url(#clip230)\" d=\"M1173.11 1334.68 L1187.39 1334.68 L1187.39 1338.13 L1168.19 1338.13 L1168.19 1334.68 Q1170.52 1332.27 1174.53 1328.22 Q1178.56 1324.15 1179.59 1322.98 Q1181.56 1320.77 1182.33 1319.25 Q1183.12 1317.71 1183.12 1316.23 Q1183.12 1313.82 1181.42 1312.3 Q1179.74 1310.78 1177.02 1310.78 Q1175.1 1310.78 1172.95 1311.45 Q1170.82 1312.12 1168.39 1313.48 L1168.39 1309.35 Q1170.86 1308.35 1173.01 1307.85 Q1175.16 1307.34 1176.94 1307.34 Q1181.64 1307.34 1184.43 1309.69 Q1187.23 1312.04 1187.23 1315.97 Q1187.23 1317.83 1186.52 1319.51 Q1185.83 1321.17 1183.99 1323.44 Q1183.48 1324.03 1180.77 1326.85 Q1178.05 1329.64 1173.11 1334.68 Z\" fill=\"#000000\" fill-rule=\"evenodd\" fill-opacity=\"1\" /><path clip-path=\"url(#clip230)\" d=\"M682.141 811.769 L688.825 811.769 L688.825 788.699 L681.553 790.157 L681.553 786.43 L688.784 784.972 L692.875 784.972 L692.875 811.769 L699.559 811.769 L699.559 815.212 L682.141 815.212 L682.141 811.769 Z\" fill=\"#000000\" fill-rule=\"evenodd\" fill-opacity=\"1\" /><path clip-path=\"url(#clip230)\" d=\"M720.219 798.907 Q723.156 799.535 724.797 801.52 Q726.457 803.505 726.457 806.421 Q726.457 810.898 723.379 813.348 Q720.3 815.799 714.629 815.799 Q712.725 815.799 710.699 815.414 Q708.694 815.05 706.547 814.3 L706.547 810.351 Q708.249 811.343 710.274 811.85 Q712.3 812.356 714.507 812.356 Q718.356 812.356 720.361 810.837 Q722.386 809.318 722.386 806.421 Q722.386 803.748 720.503 802.249 Q718.639 800.73 715.297 800.73 L711.773 800.73 L711.773 797.368 L715.459 797.368 Q718.477 797.368 720.077 796.173 Q721.677 794.957 721.677 792.689 Q721.677 790.36 720.017 789.124 Q718.376 787.868 715.297 787.868 Q713.616 787.868 711.692 788.233 Q709.768 788.597 707.459 789.367 L707.459 785.721 Q709.788 785.073 711.813 784.749 Q713.859 784.425 715.662 784.425 Q720.32 784.425 723.034 786.552 Q725.749 788.658 725.749 792.263 Q725.749 794.775 724.31 796.517 Q722.872 798.239 720.219 798.907 Z\" fill=\"#000000\" fill-rule=\"evenodd\" fill-opacity=\"1\" /><path clip-path=\"url(#clip230)\" d=\"M728.933 973.067 L735.617 973.067 L735.617 949.997 L728.346 951.456 L728.346 947.729 L735.576 946.27 L739.668 946.27 L739.668 973.067 L746.352 973.067 L746.352 976.51 L728.933 976.51 L728.933 973.067 Z\" fill=\"#000000\" fill-rule=\"evenodd\" fill-opacity=\"1\" /><path clip-path=\"url(#clip230)\" d=\"M765.857 949.835 L755.527 965.978 L765.857 965.978 L765.857 949.835 M764.783 946.27 L769.928 946.27 L769.928 965.978 L774.242 965.978 L774.242 969.381 L769.928 969.381 L769.928 976.51 L765.857 976.51 L765.857 969.381 L752.205 969.381 L752.205 965.431 L764.783 946.27 Z\" fill=\"#000000\" fill-rule=\"evenodd\" fill-opacity=\"1\" /><path clip-path=\"url(#clip230)\" d=\"M729.399 558.204 L736.083 558.204 L736.083 535.134 L728.811 536.593 L728.811 532.866 L736.042 531.408 L740.134 531.408 L740.134 558.204 L746.818 558.204 L746.818 561.648 L729.399 561.648 L729.399 558.204 Z\" fill=\"#000000\" fill-rule=\"evenodd\" fill-opacity=\"1\" /><path clip-path=\"url(#clip230)\" d=\"M755.122 531.408 L771.184 531.408 L771.184 534.851 L758.869 534.851 L758.869 542.264 Q759.76 541.96 760.651 541.818 Q761.543 541.656 762.434 541.656 Q767.497 541.656 770.455 544.431 Q773.412 547.206 773.412 551.946 Q773.412 556.827 770.374 559.541 Q767.335 562.235 761.806 562.235 Q759.902 562.235 757.917 561.911 Q755.952 561.587 753.846 560.939 L753.846 556.827 Q755.669 557.82 757.613 558.306 Q759.558 558.792 761.725 558.792 Q765.229 558.792 767.275 556.949 Q769.32 555.105 769.32 551.946 Q769.32 548.786 767.275 546.943 Q765.229 545.1 761.725 545.1 Q760.084 545.1 758.444 545.464 Q756.823 545.829 755.122 546.599 L755.122 531.408 Z\" fill=\"#000000\" fill-rule=\"evenodd\" fill-opacity=\"1\" /><path clip-path=\"url(#clip230)\" d=\"M939.508 1149.94 L946.192 1149.94 L946.192 1126.87 L938.92 1128.33 L938.92 1124.6 L946.151 1123.14 L950.243 1123.14 L950.243 1149.94 L956.927 1149.94 L956.927 1153.38 L939.508 1153.38 L939.508 1149.94 Z\" fill=\"#000000\" fill-rule=\"evenodd\" fill-opacity=\"1\" /><path clip-path=\"url(#clip230)\" d=\"M974.447 1136.63 Q971.692 1136.63 970.072 1138.52 Q968.472 1140.4 968.472 1143.68 Q968.472 1146.94 970.072 1148.85 Q971.692 1150.73 974.447 1150.73 Q977.201 1150.73 978.801 1148.85 Q980.422 1146.94 980.422 1143.68 Q980.422 1140.4 978.801 1138.52 Q977.201 1136.63 974.447 1136.63 M982.569 1123.81 L982.569 1127.54 Q981.029 1126.81 979.45 1126.42 Q977.89 1126.04 976.351 1126.04 Q972.3 1126.04 970.153 1128.77 Q968.026 1131.51 967.722 1137.04 Q968.917 1135.27 970.72 1134.34 Q972.522 1133.39 974.69 1133.39 Q979.247 1133.39 981.88 1136.17 Q984.533 1138.92 984.533 1143.68 Q984.533 1148.34 981.779 1151.15 Q979.024 1153.97 974.447 1153.97 Q969.201 1153.97 966.426 1149.96 Q963.651 1145.93 963.651 1138.29 Q963.651 1131.12 967.054 1126.87 Q970.457 1122.6 976.189 1122.6 Q977.728 1122.6 979.287 1122.9 Q980.867 1123.2 982.569 1123.81 Z\" fill=\"#000000\" fill-rule=\"evenodd\" fill-opacity=\"1\" /><path clip-path=\"url(#clip230)\" d=\"M1220.8 842.099 L1227.49 842.099 L1227.49 819.029 L1220.22 820.487 L1220.22 816.76 L1227.45 815.302 L1231.54 815.302 L1231.54 842.099 L1238.22 842.099 L1238.22 845.542 L1220.8 845.542 L1220.8 842.099 Z\" fill=\"#000000\" fill-rule=\"evenodd\" fill-opacity=\"1\" /><path clip-path=\"url(#clip230)\" d=\"M1245.45 815.302 L1264.9 815.302 L1264.9 817.044 L1253.92 845.542 L1249.64 845.542 L1259.97 818.745 L1245.45 818.745 L1245.45 815.302 Z\" fill=\"#000000\" fill-rule=\"evenodd\" fill-opacity=\"1\" /><path clip-path=\"url(#clip230)\" d=\"M1494.49 1349.36 L1501.17 1349.36 L1501.17 1326.29 L1493.9 1327.75 L1493.9 1324.02 L1501.13 1322.56 L1505.23 1322.56 L1505.23 1349.36 L1511.91 1349.36 L1511.91 1352.8 L1494.49 1352.8 L1494.49 1349.36 Z\" fill=\"#000000\" fill-rule=\"evenodd\" fill-opacity=\"1\" /><path clip-path=\"url(#clip230)\" d=\"M1528.92 1338.44 Q1526.01 1338.44 1524.33 1340 Q1522.66 1341.56 1522.66 1344.3 Q1522.66 1347.03 1524.33 1348.59 Q1526.01 1350.15 1528.92 1350.15 Q1531.84 1350.15 1533.52 1348.59 Q1535.2 1347.01 1535.2 1344.3 Q1535.2 1341.56 1533.52 1340 Q1531.86 1338.44 1528.92 1338.44 M1524.83 1336.7 Q1522.2 1336.05 1520.72 1334.25 Q1519.26 1332.45 1519.26 1329.85 Q1519.26 1326.23 1521.83 1324.12 Q1524.43 1322.02 1528.92 1322.02 Q1533.44 1322.02 1536.01 1324.12 Q1538.59 1326.23 1538.59 1329.85 Q1538.59 1332.45 1537.11 1334.25 Q1535.65 1336.05 1533.04 1336.7 Q1535.99 1337.39 1537.63 1339.39 Q1539.29 1341.4 1539.29 1344.3 Q1539.29 1348.69 1536.6 1351.04 Q1533.93 1353.39 1528.92 1353.39 Q1523.92 1353.39 1521.23 1351.04 Q1518.55 1348.69 1518.55 1344.3 Q1518.55 1341.4 1520.21 1339.39 Q1521.88 1337.39 1524.83 1336.7 M1523.33 1330.24 Q1523.33 1332.59 1524.79 1333.91 Q1526.27 1335.22 1528.92 1335.22 Q1531.56 1335.22 1533.04 1333.91 Q1534.53 1332.59 1534.53 1330.24 Q1534.53 1327.89 1533.04 1326.57 Q1531.56 1325.26 1528.92 1325.26 Q1526.27 1325.26 1524.79 1326.57 Q1523.33 1327.89 1523.33 1330.24 Z\" fill=\"#000000\" fill-rule=\"evenodd\" fill-opacity=\"1\" /><path clip-path=\"url(#clip230)\" d=\"M640.25 691.418 L646.934 691.418 L646.934 668.348 L639.663 669.806 L639.663 666.079 L646.893 664.621 L650.985 664.621 L650.985 691.418 L657.669 691.418 L657.669 694.861 L640.25 694.861 L640.25 691.418 Z\" fill=\"#000000\" fill-rule=\"evenodd\" fill-opacity=\"1\" /><path clip-path=\"url(#clip230)\" d=\"M666.054 694.233 L666.054 690.506 Q667.594 691.235 669.173 691.62 Q670.753 692.005 672.272 692.005 Q676.323 692.005 678.45 689.291 Q680.597 686.556 680.901 681.007 Q679.726 682.749 677.923 683.68 Q676.121 684.612 673.933 684.612 Q669.396 684.612 666.743 681.878 Q664.11 679.123 664.11 674.363 Q664.11 669.705 666.864 666.889 Q669.619 664.074 674.196 664.074 Q679.442 664.074 682.197 668.105 Q684.972 672.115 684.972 679.771 Q684.972 686.921 681.569 691.195 Q678.187 695.448 672.455 695.448 Q670.915 695.448 669.335 695.144 Q667.756 694.841 666.054 694.233 M674.196 681.412 Q676.951 681.412 678.551 679.528 Q680.172 677.644 680.172 674.363 Q680.172 671.102 678.551 669.219 Q676.951 667.315 674.196 667.315 Q671.442 667.315 669.822 669.219 Q668.221 671.102 668.221 674.363 Q668.221 677.644 669.822 679.528 Q671.442 681.412 674.196 681.412 Z\" fill=\"#000000\" fill-rule=\"evenodd\" fill-opacity=\"1\" /><path clip-path=\"url(#clip230)\" d=\"M848.524 713.054 L862.803 713.054 L862.803 716.497 L843.602 716.497 L843.602 713.054 Q845.931 710.644 849.942 706.593 Q853.972 702.522 855.005 701.347 Q856.97 699.139 857.74 697.62 Q858.529 696.081 858.529 694.602 Q858.529 692.192 856.828 690.673 Q855.147 689.154 852.433 689.154 Q850.509 689.154 848.362 689.822 Q846.235 690.49 843.804 691.847 L843.804 687.716 Q846.275 686.723 848.422 686.217 Q850.569 685.71 852.352 685.71 Q857.051 685.71 859.846 688.06 Q862.641 690.409 862.641 694.339 Q862.641 696.202 861.932 697.883 Q861.244 699.544 859.4 701.813 Q858.894 702.4 856.18 705.215 Q853.466 708.011 848.524 713.054 Z\" fill=\"#000000\" fill-rule=\"evenodd\" fill-opacity=\"1\" /><path clip-path=\"url(#clip230)\" d=\"M880.141 688.951 Q876.981 688.951 875.381 692.07 Q873.801 695.169 873.801 701.408 Q873.801 707.626 875.381 710.745 Q876.981 713.844 880.141 713.844 Q883.321 713.844 884.901 710.745 Q886.501 707.626 886.501 701.408 Q886.501 695.169 884.901 692.07 Q883.321 688.951 880.141 688.951 M880.141 685.71 Q885.225 685.71 887.898 689.741 Q890.592 693.751 890.592 701.408 Q890.592 709.044 887.898 713.074 Q885.225 717.085 880.141 717.085 Q875.057 717.085 872.363 713.074 Q869.69 709.044 869.69 701.408 Q869.69 693.751 872.363 689.741 Q875.057 685.71 880.141 685.71 Z\" fill=\"#000000\" fill-rule=\"evenodd\" fill-opacity=\"1\" /><path clip-path=\"url(#clip230)\" d=\"M1646.69 1202.3 L1660.97 1202.3 L1660.97 1205.74 L1641.77 1205.74 L1641.77 1202.3 Q1644.1 1199.89 1648.11 1195.84 Q1652.14 1191.76 1653.18 1190.59 Q1655.14 1188.38 1655.91 1186.86 Q1656.7 1185.32 1656.7 1183.85 Q1656.7 1181.43 1655 1179.92 Q1653.32 1178.4 1650.6 1178.4 Q1648.68 1178.4 1646.53 1179.06 Q1644.41 1179.73 1641.97 1181.09 L1641.97 1176.96 Q1644.45 1175.97 1646.59 1175.46 Q1648.74 1174.95 1650.52 1174.95 Q1655.22 1174.95 1658.02 1177.3 Q1660.81 1179.65 1660.81 1183.58 Q1660.81 1185.45 1660.1 1187.13 Q1659.41 1188.79 1657.57 1191.06 Q1657.06 1191.64 1654.35 1194.46 Q1651.64 1197.25 1646.69 1202.3 Z\" fill=\"#000000\" fill-rule=\"evenodd\" fill-opacity=\"1\" /><path clip-path=\"url(#clip230)\" d=\"M1670.27 1202.3 L1676.95 1202.3 L1676.95 1179.23 L1669.68 1180.69 L1669.68 1176.96 L1676.91 1175.5 L1681.01 1175.5 L1681.01 1202.3 L1687.69 1202.3 L1687.69 1205.74 L1670.27 1205.74 L1670.27 1202.3 Z\" fill=\"#000000\" fill-rule=\"evenodd\" fill-opacity=\"1\" /><path clip-path=\"url(#clip230)\" d=\"M911.684 836.811 L925.963 836.811 L925.963 840.254 L906.762 840.254 L906.762 836.811 Q909.091 834.401 913.102 830.35 Q917.132 826.278 918.165 825.104 Q920.13 822.896 920.9 821.377 Q921.69 819.838 921.69 818.359 Q921.69 815.949 919.988 814.43 Q918.307 812.911 915.593 812.911 Q913.669 812.911 911.522 813.579 Q909.395 814.247 906.964 815.604 L906.964 811.472 Q909.436 810.48 911.583 809.974 Q913.729 809.467 915.512 809.467 Q920.211 809.467 923.006 811.817 Q925.801 814.166 925.801 818.096 Q925.801 819.959 925.092 821.64 Q924.404 823.301 922.56 825.57 Q922.054 826.157 919.34 828.972 Q916.626 831.767 911.684 836.811 Z\" fill=\"#000000\" fill-rule=\"evenodd\" fill-opacity=\"1\" /><path clip-path=\"url(#clip230)\" d=\"M938.075 836.811 L952.355 836.811 L952.355 840.254 L933.154 840.254 L933.154 836.811 Q935.483 834.401 939.493 830.35 Q943.524 826.278 944.557 825.104 Q946.522 822.896 947.291 821.377 Q948.081 819.838 948.081 818.359 Q948.081 815.949 946.38 814.43 Q944.699 812.911 941.985 812.911 Q940.06 812.911 937.913 813.579 Q935.787 814.247 933.356 815.604 L933.356 811.472 Q935.827 810.48 937.974 809.974 Q940.121 809.467 941.904 809.467 Q946.603 809.467 949.398 811.817 Q952.193 814.166 952.193 818.096 Q952.193 819.959 951.484 821.64 Q950.795 823.301 948.952 825.57 Q948.446 826.157 945.732 828.972 Q943.018 831.767 938.075 836.811 Z\" fill=\"#000000\" fill-rule=\"evenodd\" fill-opacity=\"1\" /><path clip-path=\"url(#clip230)\" d=\"M1510.87 1068.33 L1525.15 1068.33 L1525.15 1071.77 L1505.95 1071.77 L1505.95 1068.33 Q1508.27 1065.92 1512.28 1061.87 Q1516.32 1057.79 1517.35 1056.62 Q1519.31 1054.41 1520.08 1052.89 Q1520.87 1051.35 1520.87 1049.87 Q1520.87 1047.46 1519.17 1045.95 Q1517.49 1044.43 1514.78 1044.43 Q1512.85 1044.43 1510.7 1045.09 Q1508.58 1045.76 1506.15 1047.12 L1506.15 1042.99 Q1508.62 1042 1510.77 1041.49 Q1512.91 1040.98 1514.7 1040.98 Q1519.39 1040.98 1522.19 1043.33 Q1524.98 1045.68 1524.98 1049.61 Q1524.98 1051.47 1524.28 1053.16 Q1523.59 1054.82 1521.74 1057.09 Q1521.24 1057.67 1518.52 1060.49 Q1515.81 1063.28 1510.87 1068.33 Z\" fill=\"#000000\" fill-rule=\"evenodd\" fill-opacity=\"1\" /><path clip-path=\"url(#clip230)\" d=\"M1546.13 1055.46 Q1549.07 1056.09 1550.71 1058.08 Q1552.37 1060.06 1552.37 1062.98 Q1552.37 1067.46 1549.29 1069.91 Q1546.21 1072.36 1540.54 1072.36 Q1538.64 1072.36 1536.61 1071.97 Q1534.61 1071.61 1532.46 1070.86 L1532.46 1066.91 Q1534.16 1067.9 1536.19 1068.41 Q1538.21 1068.91 1540.42 1068.91 Q1544.27 1068.91 1546.27 1067.39 Q1548.3 1065.88 1548.3 1062.98 Q1548.3 1060.31 1546.41 1058.81 Q1544.55 1057.29 1541.21 1057.29 L1537.68 1057.29 L1537.68 1053.93 L1541.37 1053.93 Q1544.39 1053.93 1545.99 1052.73 Q1547.59 1051.52 1547.59 1049.25 Q1547.59 1046.92 1545.93 1045.68 Q1544.29 1044.43 1541.21 1044.43 Q1539.53 1044.43 1537.6 1044.79 Q1535.68 1045.16 1533.37 1045.92 L1533.37 1042.28 Q1535.7 1041.63 1537.72 1041.31 Q1539.77 1040.98 1541.57 1040.98 Q1546.23 1040.98 1548.95 1043.11 Q1551.66 1045.22 1551.66 1048.82 Q1551.66 1051.33 1550.22 1053.07 Q1548.78 1054.8 1546.13 1055.46 Z\" fill=\"#000000\" fill-rule=\"evenodd\" fill-opacity=\"1\" /><path clip-path=\"url(#clip230)\" d=\"M854.788 1002.37 L869.068 1002.37 L869.068 1005.81 L849.867 1005.81 L849.867 1002.37 Q852.196 999.957 856.206 995.906 Q860.237 991.835 861.27 990.66 Q863.235 988.453 864.004 986.934 Q864.794 985.394 864.794 983.916 Q864.794 981.505 863.093 979.986 Q861.412 978.467 858.698 978.467 Q856.773 978.467 854.626 979.136 Q852.5 979.804 850.069 981.161 L850.069 977.029 Q852.54 976.037 854.687 975.53 Q856.834 975.024 858.617 975.024 Q863.316 975.024 866.111 977.373 Q868.906 979.723 868.906 983.652 Q868.906 985.516 868.197 987.197 Q867.508 988.858 865.665 991.126 Q865.159 991.714 862.445 994.529 Q859.731 997.324 854.788 1002.37 Z\" fill=\"#000000\" fill-rule=\"evenodd\" fill-opacity=\"1\" /><path clip-path=\"url(#clip230)\" d=\"M888.897 979.136 L878.567 995.278 L888.897 995.278 L888.897 979.136 M887.824 975.571 L892.968 975.571 L892.968 995.278 L897.282 995.278 L897.282 998.681 L892.968 998.681 L892.968 1005.81 L888.897 1005.81 L888.897 998.681 L875.245 998.681 L875.245 994.731 L887.824 975.571 Z\" fill=\"#000000\" fill-rule=\"evenodd\" fill-opacity=\"1\" /><path clip-path=\"url(#clip230)\" d=\"M1399.33 979.758 L1413.61 979.758 L1413.61 983.202 L1394.4 983.202 L1394.4 979.758 Q1396.73 977.348 1400.74 973.297 Q1404.77 969.226 1405.81 968.051 Q1407.77 965.843 1408.54 964.324 Q1409.33 962.785 1409.33 961.306 Q1409.33 958.896 1407.63 957.377 Q1405.95 955.858 1403.24 955.858 Q1401.31 955.858 1399.16 956.526 Q1397.04 957.195 1394.61 958.552 L1394.61 954.42 Q1397.08 953.427 1399.23 952.921 Q1401.37 952.415 1403.15 952.415 Q1407.85 952.415 1410.65 954.764 Q1413.44 957.114 1413.44 961.043 Q1413.44 962.907 1412.73 964.588 Q1412.05 966.249 1410.2 968.517 Q1409.7 969.104 1406.98 971.92 Q1404.27 974.715 1399.33 979.758 Z\" fill=\"#000000\" fill-rule=\"evenodd\" fill-opacity=\"1\" /><path clip-path=\"url(#clip230)\" d=\"M1422.23 952.962 L1438.3 952.962 L1438.3 956.405 L1425.98 956.405 L1425.98 963.818 Q1426.87 963.514 1427.76 963.372 Q1428.65 963.21 1429.55 963.21 Q1434.61 963.21 1437.57 965.985 Q1440.52 968.76 1440.52 973.5 Q1440.52 978.381 1437.49 981.095 Q1434.45 983.789 1428.92 983.789 Q1427.01 983.789 1425.03 983.465 Q1423.06 983.141 1420.96 982.493 L1420.96 978.381 Q1422.78 979.373 1424.73 979.86 Q1426.67 980.346 1428.84 980.346 Q1432.34 980.346 1434.39 978.503 Q1436.43 976.659 1436.43 973.5 Q1436.43 970.34 1434.39 968.497 Q1432.34 966.654 1428.84 966.654 Q1427.2 966.654 1425.56 967.018 Q1423.94 967.383 1422.23 968.152 L1422.23 952.962 Z\" fill=\"#000000\" fill-rule=\"evenodd\" fill-opacity=\"1\" /><path clip-path=\"url(#clip230)\" d=\"M1270.41 273.994 L1284.69 273.994 L1284.69 277.437 L1265.49 277.437 L1265.49 273.994 Q1267.82 271.584 1271.83 267.533 Q1275.86 263.462 1276.89 262.287 Q1278.86 260.079 1279.63 258.56 Q1280.42 257.021 1280.42 255.542 Q1280.42 253.132 1278.71 251.613 Q1277.03 250.094 1274.32 250.094 Q1272.4 250.094 1270.25 250.762 Q1268.12 251.43 1265.69 252.787 L1265.69 248.656 Q1268.16 247.663 1270.31 247.157 Q1272.46 246.65 1274.24 246.65 Q1278.94 246.65 1281.73 249 Q1284.53 251.349 1284.53 255.279 Q1284.53 257.142 1283.82 258.823 Q1283.13 260.484 1281.29 262.753 Q1280.78 263.34 1278.07 266.155 Q1275.35 268.951 1270.41 273.994 Z\" fill=\"#000000\" fill-rule=\"evenodd\" fill-opacity=\"1\" /><path clip-path=\"url(#clip230)\" d=\"M1302.53 260.687 Q1299.78 260.687 1298.16 262.57 Q1296.56 264.454 1296.56 267.735 Q1296.56 270.996 1298.16 272.9 Q1299.78 274.784 1302.53 274.784 Q1305.29 274.784 1306.89 272.9 Q1308.51 270.996 1308.51 267.735 Q1308.51 264.454 1306.89 262.57 Q1305.29 260.687 1302.53 260.687 M1310.66 247.866 L1310.66 251.592 Q1309.12 250.863 1307.54 250.478 Q1305.98 250.094 1304.44 250.094 Q1300.39 250.094 1298.24 252.828 Q1296.11 255.562 1295.81 261.092 Q1297 259.33 1298.81 258.398 Q1300.61 257.446 1302.78 257.446 Q1307.33 257.446 1309.97 260.221 Q1312.62 262.975 1312.62 267.735 Q1312.62 272.394 1309.87 275.209 Q1307.11 278.025 1302.53 278.025 Q1297.29 278.025 1294.51 274.014 Q1291.74 269.984 1291.74 262.348 Q1291.74 255.177 1295.14 250.924 Q1298.54 246.65 1304.28 246.65 Q1305.82 246.65 1307.37 246.954 Q1308.95 247.258 1310.66 247.866 Z\" fill=\"#000000\" fill-rule=\"evenodd\" fill-opacity=\"1\" /></svg>\n"
      ]
     },
     "execution_count": 72,
     "metadata": {},
     "output_type": "execute_result"
    }
   ],
   "source": [
    "edgelabel_dict = Dict()\n",
    "for i in 1:n\n",
    "    for j in 1:n\n",
    "        edgelabel_dict[(i, j)] = D[i, j]\n",
    "    end\n",
    "end\n",
    "\n",
    "# membership = [1,2,1,1,1,1,3,1]\n",
    "nodecolor = [colorant\"lightseagreen\", colorant\"orange\", colorant\"yellow\", colorant\"red\", colorant\"blue\", colorant\"purple\", colorant\"green\"]\n",
    "# membership color\n",
    "nodefillc = nodecolor[membership]\n",
    "\n",
    "# # nodes size proportional to their degree\n",
    "# nodesize = [Graphs.outdegree(g, v) for v in Graphs.vertices(g)]\n",
    "# gplot(g, nodesize=nodesize)\n",
    "\n",
    "graph = graphplot(Adj, names=1:n, curvature_scalar=0.06, markersize=0.2, markercolor=nodefillc,           linecolor = :darkgrey,\n",
    "           linealpha = 0.2, curves=false)"
   ]
  },
  {
   "cell_type": "markdown",
   "id": "9eeacb39",
   "metadata": {},
   "source": [
    "## _Orange: $n_{i1}$ Yellow: $n_{e1}$ <br> Red: $n_{i2}$ Blue: $n_{e2}$ <br> Purple: $n_{i3}$ Green: $n_{e3}$_"
   ]
  },
  {
   "cell_type": "markdown",
   "id": "d8b085bc",
   "metadata": {},
   "source": [
    "### Defining edge costs, rider intake, and flow vector:"
   ]
  },
  {
   "cell_type": "code",
   "execution_count": 55,
   "id": "72f5ec12",
   "metadata": {},
   "outputs": [],
   "source": [
    "temp_D = D.*Adj\n",
    "temp_r = zeros((n,n))\n",
    "\n",
    "\n",
    "for i = 1:n\n",
    "        temp_r[i, :] = r.*Adj[i, :]\n",
    "end\n",
    "\n",
    "d_e = zeros(0)\n",
    "r_e = zeros(0)\n",
    "\n",
    "for i = 1:n\n",
    "    for j = 1:n\n",
    "        if temp_D[i, j] != 0\n",
    "            append!(d_e, temp_D[i, j])\n",
    "        end\n",
    "        if temp_r[i, j] != 0\n",
    "            append!(r_e, temp_r[i, j])\n",
    "        end\n",
    "    end    \n",
    "end"
   ]
  },
  {
   "cell_type": "code",
   "execution_count": 56,
   "id": "8928d81a",
   "metadata": {},
   "outputs": [],
   "source": [
    "cyc1 = floor.((Inc.+1)./2)\n",
    "cyc2 = -1*ceil.((Inc.-1)./2)\n",
    ";"
   ]
  },
  {
   "cell_type": "markdown",
   "id": "caa995ef",
   "metadata": {},
   "source": [
    "\n",
    "**Decision variable:** <br>\n",
    "\n",
    "$x$: all possible edges in the network, length = $e$ <br>\n",
    "    $$ x =   \\left\\{\n",
    "\\begin{array}{ll}\n",
    "      1 & \\text{If the bus travels on that edge}  \\\\\n",
    "      0 & \\text{If the bus doesn NOT travel on that edge} \\\\\n",
    "\\end{array} \n",
    "\\right.  $$\n",
    "\n",
    "**Objective function:** <br>\n",
    "$$ \\max_{x} \\text{    }r_e \\cdot x$$\n",
    "\n",
    "**Constraints:** <br>\n",
    "  s.t. \n",
    "$$ \\text{Inc}*x = b, $$\n",
    "$$ d_e \\cdot x <= f  $$\n"
   ]
  },
  {
   "cell_type": "markdown",
   "id": "63c1dcba",
   "metadata": {},
   "source": [
    "## 4. Code Implementation"
   ]
  },
  {
   "cell_type": "code",
   "execution_count": 75,
   "id": "9f3dac98",
   "metadata": {},
   "outputs": [
    {
     "name": "stdout",
     "output_type": "stream",
     "text": [
      "Set parameter Username\n",
      "Academic license - for non-commercial use only - expires 2023-03-15\n",
      "Set parameter NonConvex to value 2\n"
     ]
    },
    {
     "data": {
      "text/plain": [
       "INFEASIBLE_OR_UNBOUNDED::TerminationStatusCode = 6"
      ]
     },
     "execution_count": 75,
     "metadata": {},
     "output_type": "execute_result"
    }
   ],
   "source": [
    "using LinearAlgebra, Ipopt, Gurobi\n",
    "num_buses = 3\n",
    "bus_route = Model(with_optimizer(Gurobi.Optimizer,OutputFlag=0, NonConvex = 2))\n",
    "\n",
    "@variable(bus_route, X[1:e, 1:num_buses], Bin) # binary decision variable x that maps out the [path]\n",
    "\n",
    "for i in 1:num_buses\n",
    "    @constraint(bus_route, Inc*X[:, i] .== b[:, i]) # nodal conservation\n",
    "    @constraint(bus_route, d_e'*X[:, i] <= f[i]) # fuel constraint\n",
    "    @constraint(bus_route, cyc1*X[:, i] .<= 1) # can leave from one node once only\n",
    "    @constraint(bus_route, cyc2*X[:, i] .<= 1) # can enter one node once only\n",
    "    #@constraint(bus_route, cyc1*X[:, i] + cyc2*X[:, i] .<= 2) # can enter one node once only\n",
    "end\n",
    "\n",
    "\n",
    "for i in 1:num_buses\n",
    "    for j in 1:num_buses\n",
    "        if i != j\n",
    "            @constraint(bus_route, dot(X[:, i],X[:, j]) <= 0.9) # not share path\n",
    "        end\n",
    "    end\n",
    "end\n",
    "\n",
    "@objective(bus_route, Max, sum(r_e'*X[:, i] for i in 1:num_buses))  # maximize people getting on the bus\n",
    "    \n",
    "s = optimize!(bus_route)\n",
    "\n",
    "termination_status(bus_route)\n",
    "#print(bus_route)"
   ]
  },
  {
   "cell_type": "markdown",
   "id": "fbf5919a",
   "metadata": {},
   "source": [
    "## 5. Results and Analysis"
   ]
  },
  {
   "cell_type": "markdown",
   "id": "0361c06a",
   "metadata": {},
   "source": [
    "### Defining dictionary for converting edge index to path:"
   ]
  },
  {
   "cell_type": "code",
   "execution_count": 58,
   "id": "75856e6d",
   "metadata": {},
   "outputs": [
    {
     "name": "stdout",
     "output_type": "stream",
     "text": [
      "Pair{Any, Any}(1, (2, 3))\n",
      "Pair{Any, Any}(2, (2, 17))\n",
      "Pair{Any, Any}(3, (2, 24))\n",
      "Pair{Any, Any}(4, (2, 25))\n",
      "Pair{Any, Any}(5, (3, 12))\n",
      "Pair{Any, Any}(6, (6, 4))\n",
      "Pair{Any, Any}(7, (6, 8))\n",
      "Pair{Any, Any}(8, (6, 9))\n",
      "Pair{Any, Any}(9, (7, 4))\n",
      "Pair{Any, Any}(10, (7, 5))\n",
      "Pair{Any, Any}(11, (7, 10))\n",
      "Pair{Any, Any}(12, (7, 17))\n",
      "Pair{Any, Any}(13, (9, 17))\n",
      "Pair{Any, Any}(14, (9, 20))\n",
      "Pair{Any, Any}(15, (10, 18))\n",
      "Pair{Any, Any}(16, (10, 25))\n",
      "Pair{Any, Any}(17, (11, 2))\n",
      "Pair{Any, Any}(18, (11, 10))\n",
      "Pair{Any, Any}(19, (11, 16))\n",
      "Pair{Any, Any}(20, (13, 15))\n",
      "Pair{Any, Any}(21, (13, 20))\n",
      "Pair{Any, Any}(22, (13, 24))\n",
      "Pair{Any, Any}(23, (14, 13))\n",
      "Pair{Any, Any}(24, (14, 20))\n",
      "Pair{Any, Any}(25, (15, 8))\n",
      "Pair{Any, Any}(26, (15, 20))\n",
      "Pair{Any, Any}(27, (16, 3))\n",
      "Pair{Any, Any}(28, (16, 14))\n",
      "Pair{Any, Any}(29, (17, 3))\n",
      "Pair{Any, Any}(30, (19, 15))\n",
      "Pair{Any, Any}(31, (19, 22))\n",
      "Pair{Any, Any}(32, (21, 10))\n",
      "Pair{Any, Any}(33, (21, 23))\n",
      "Pair{Any, Any}(34, (22, 2))\n",
      "Pair{Any, Any}(35, (22, 20))\n",
      "Pair{Any, Any}(36, (23, 3))\n",
      "Pair{Any, Any}(37, (23, 5))\n",
      "Pair{Any, Any}(38, (25, 1))\n",
      "Pair{Any, Any}(39, (25, 23))\n",
      "Pair{Any, Any}(40, (26, 6))\n"
     ]
    }
   ],
   "source": [
    "edgeIndex2path = Dict()\n",
    "count = 1\n",
    "for i = 1:n\n",
    "    for j = 1:n\n",
    "        if Adj[i, j] != 0\n",
    "            edgeIndex2path[count] = (i, j)\n",
    "            count = count + 1\n",
    "        end\n",
    "    end\n",
    "end\n",
    "\n",
    "sorted_edges = sort(collect(pairs(edgeIndex2path)), by=x->x[1])\n",
    "\n",
    "for i in sorted_edges\n",
    "    println(i)\n",
    "end"
   ]
  },
  {
   "cell_type": "markdown",
   "id": "aa348f96",
   "metadata": {},
   "source": [
    "### Finding the optimal path taken:"
   ]
  },
  {
   "cell_type": "code",
   "execution_count": 59,
   "id": "0843e3b9",
   "metadata": {},
   "outputs": [
    {
     "data": {
      "text/plain": [
       "path_taken (generic function with 1 method)"
      ]
     },
     "execution_count": 59,
     "metadata": {},
     "output_type": "execute_result"
    }
   ],
   "source": [
    "function path_taken(opt_path)\n",
    "    # finding edges travelled using edgeIndex2path dictionary\n",
    "    path_taken_x = zeros(0)\n",
    "    path_taken_y = zeros(0)\n",
    "    for i = 1:e\n",
    "        if opt_path[i] != 0\n",
    "            temp = edgeIndex2path[i]\n",
    "            append!(path_taken_x, temp[1] )\n",
    "            append!(path_taken_y, temp[2] )\n",
    "        end\n",
    "    end\n",
    "\n",
    "    # defining dictionary with 1 for travelled edges, 0 for untravelled edges\n",
    "    for k = 1:length(path_taken_x)\n",
    "        for i in 1:n\n",
    "            for j in 1:n\n",
    "                if i == path_taken_x[k] && j == path_taken_y[k] \n",
    "                    travelled_edges_dict[(i, j)] = 1\n",
    "                elseif haskey(travelled_edges_dict, (i, j))\n",
    "                    if travelled_edges_dict[(i, j)] == 1\n",
    "                        travelled_edges_dict[(i, j)] = 1\n",
    "                    end\n",
    "                else \n",
    "                    travelled_edges_dict[(i, j)] = 0\n",
    "                end\n",
    "            end\n",
    "        end\n",
    "    end\n",
    "\n",
    "    # printing the edges travelled on\n",
    "\n",
    "    print(\"The bus travelled on these edges: \\n\")\n",
    "    for i = 1:n\n",
    "        for j = 1:n\n",
    "            if travelled_edges_dict[(i, j)] != 0\n",
    "                println((i, j))\n",
    "            end\n",
    "        end\n",
    "    end\n",
    "end"
   ]
  },
  {
   "cell_type": "markdown",
   "id": "26cf22df",
   "metadata": {},
   "source": [
    "# For Naman: Change index here to see path taken for different buses:"
   ]
  },
  {
   "cell_type": "code",
   "execution_count": 60,
   "id": "3439307a",
   "metadata": {},
   "outputs": [
    {
     "ename": "LoadError",
     "evalue": "Result index of attribute MathOptInterface.VariablePrimal(1) out of bounds. There are currently 0 solution(s) in the model.",
     "output_type": "error",
     "traceback": [
      "Result index of attribute MathOptInterface.VariablePrimal(1) out of bounds. There are currently 0 solution(s) in the model.",
      "",
      "Stacktrace:",
      "  [1] check_result_index_bounds",
      "    @ ~/.julia/packages/MathOptInterface/IIN1o/src/attributes.jl:170 [inlined]",
      "  [2] get(model::Gurobi.Optimizer, attr::MathOptInterface.VariablePrimal, x::MathOptInterface.VariableIndex)",
      "    @ Gurobi ~/.julia/packages/Gurobi/WjZv8/src/MOI_wrapper/MOI_wrapper.jl:2896",
      "  [3] get(b::MathOptInterface.Bridges.LazyBridgeOptimizer{Gurobi.Optimizer}, attr::MathOptInterface.VariablePrimal, index::MathOptInterface.VariableIndex)",
      "    @ MathOptInterface.Bridges ~/.julia/packages/MathOptInterface/IIN1o/src/Bridges/bridge_optimizer.jl:1068",
      "  [4] get(model::MathOptInterface.Utilities.CachingOptimizer{MathOptInterface.Bridges.LazyBridgeOptimizer{Gurobi.Optimizer}, MathOptInterface.Utilities.UniversalFallback{MathOptInterface.Utilities.Model{Float64}}}, attr::MathOptInterface.VariablePrimal, index::MathOptInterface.VariableIndex)",
      "    @ MathOptInterface.Utilities ~/.julia/packages/MathOptInterface/IIN1o/src/Utilities/cachingoptimizer.jl:862",
      "  [5] _moi_get_result(::MathOptInterface.Utilities.CachingOptimizer{MathOptInterface.Bridges.LazyBridgeOptimizer{Gurobi.Optimizer}, MathOptInterface.Utilities.UniversalFallback{MathOptInterface.Utilities.Model{Float64}}}, ::MathOptInterface.VariablePrimal, ::Vararg{Any})",
      "    @ JuMP ~/.julia/packages/JuMP/lnUbA/src/JuMP.jl:1226",
      "  [6] get(model::Model, attr::MathOptInterface.VariablePrimal, v::VariableRef)",
      "    @ JuMP ~/.julia/packages/JuMP/lnUbA/src/JuMP.jl:1275",
      "  [7] value(v::VariableRef; result::Int64)",
      "    @ JuMP ~/.julia/packages/JuMP/lnUbA/src/variables.jl:1001",
      "  [8] value",
      "    @ ~/.julia/packages/JuMP/lnUbA/src/variables.jl:1001 [inlined]",
      "  [9] _broadcast_getindex_evalf",
      "    @ ./broadcast.jl:670 [inlined]",
      " [10] _broadcast_getindex",
      "    @ ./broadcast.jl:643 [inlined]",
      " [11] getindex",
      "    @ ./broadcast.jl:597 [inlined]",
      " [12] macro expansion",
      "    @ ./broadcast.jl:961 [inlined]",
      " [13] macro expansion",
      "    @ ./simdloop.jl:77 [inlined]",
      " [14] copyto!",
      "    @ ./broadcast.jl:960 [inlined]",
      " [15] copyto!",
      "    @ ./broadcast.jl:913 [inlined]",
      " [16] copy",
      "    @ ./broadcast.jl:885 [inlined]",
      " [17] materialize(bc::Base.Broadcast.Broadcasted{Base.Broadcast.DefaultArrayStyle{2}, Nothing, typeof(value), Tuple{Matrix{VariableRef}}})",
      "    @ Base.Broadcast ./broadcast.jl:860",
      " [18] top-level scope",
      "    @ In[60]:1",
      " [19] eval",
      "    @ ./boot.jl:373 [inlined]",
      " [20] include_string(mapexpr::typeof(REPL.softscope), mod::Module, code::String, filename::String)",
      "    @ Base ./loading.jl:1196"
     ]
    }
   ],
   "source": [
    "opt_path = value.(X)\n",
    "travelled_edges_dict = Dict()\n",
    "for i in 1:num_buses\n",
    "    path_taken(opt_path[:, i])\n",
    "end"
   ]
  },
  {
   "cell_type": "markdown",
   "id": "cc765296",
   "metadata": {},
   "source": [
    "### Finding nodes travelled:"
   ]
  },
  {
   "cell_type": "code",
   "execution_count": 61,
   "id": "a0f0ee21",
   "metadata": {},
   "outputs": [
    {
     "data": {
      "text/plain": [
       "nodes_travelled (generic function with 1 method)"
      ]
     },
     "execution_count": 61,
     "metadata": {},
     "output_type": "execute_result"
    }
   ],
   "source": [
    "function nodes_travelled(opt_path, bus_no)\n",
    "    nodes = 1:n\n",
    "    opt_path_bus = opt_path[:, bus_no]\n",
    "    temp_path = zeros((n,n))\n",
    "\n",
    "    # defining temporary variable temp_path to store nodes travelled to for on each edge index\n",
    "    # (zeros need to be filtered out) \n",
    "    for i = 1:n\n",
    "            temp_path[i, :] = nodes.*Adj[i, :]\n",
    "    end\n",
    "\n",
    "    path = zeros(0)\n",
    "\n",
    "    # filtering out zeros\n",
    "    for i = 1:n\n",
    "        for j = 1:n\n",
    "            if temp_path[i, j] != 0\n",
    "                append!(path, temp_path[i, j])\n",
    "            end\n",
    "        end    \n",
    "    end\n",
    "\n",
    "\n",
    "    # finding actual nodes travelled to using optimal edge vector x\n",
    "    temp_path = path.*opt_path_bus\n",
    "\n",
    "\n",
    "    path = zeros(0)\n",
    "\n",
    "    # filtering out zeros again\n",
    "    for p in temp_path\n",
    "        if p != 0\n",
    "            append!(path, p)\n",
    "        end\n",
    "    end\n",
    "\n",
    "    # defining membership based on nodes travelled to, 1 for not travelled to, 2 for travelled to\n",
    "    for i = 1:n\n",
    "        for p in path \n",
    "            if round(Int, p) == i\n",
    "                membership[i] = 2\n",
    "            end\n",
    "        end\n",
    "    end\n",
    "\n",
    "    # start node is also travelled to \n",
    "    membership[n_i[bus_no]] = 2\n",
    "end"
   ]
  },
  {
   "cell_type": "code",
   "execution_count": 62,
   "id": "eadd381f",
   "metadata": {},
   "outputs": [
    {
     "ename": "LoadError",
     "evalue": "UndefVarError: opt_path not defined",
     "output_type": "error",
     "traceback": [
      "UndefVarError: opt_path not defined",
      "",
      "Stacktrace:",
      " [1] top-level scope",
      "   @ ./In[62]:3",
      " [2] eval",
      "   @ ./boot.jl:373 [inlined]",
      " [3] include_string(mapexpr::typeof(REPL.softscope), mod::Module, code::String, filename::String)",
      "   @ Base ./loading.jl:1196"
     ]
    }
   ],
   "source": [
    "membership = ones(n)\n",
    "for i in 1:num_buses\n",
    "    nodes_travelled(opt_path, i)\n",
    "end\n",
    "\n",
    "# convert to int for indexing\n",
    "for i = 1:n\n",
    "    membership[i] = convert(Int, membership[i])\n",
    "end\n",
    "\n",
    "# assigning colours, yellow for travelled to, seagreen for not\n",
    "int_membership = Int.(membership)\n",
    "nodecolor = [colorant\"lightseagreen\", colorant\"orange\", colorant\"yellow\"]\n",
    "nodefillc = nodecolor[int_membership]\n",
    ";"
   ]
  },
  {
   "cell_type": "code",
   "execution_count": 63,
   "id": "82cb111a",
   "metadata": {},
   "outputs": [
    {
     "ename": "LoadError",
     "evalue": "UndefVarError: travelled_edges_dict not defined",
     "output_type": "error",
     "traceback": [
      "UndefVarError: travelled_edges_dict not defined",
      "",
      "Stacktrace:",
      " [1] top-level scope",
      "   @ :0",
      " [2] eval",
      "   @ ./boot.jl:373 [inlined]",
      " [3] include_string(mapexpr::typeof(REPL.softscope), mod::Module, code::String, filename::String)",
      "   @ Base ./loading.jl:1196"
     ]
    }
   ],
   "source": [
    "travelled_edges_dict"
   ]
  },
  {
   "cell_type": "markdown",
   "id": "5f0e5e4e",
   "metadata": {},
   "source": [
    "### Plotting final network:\n",
    "Yellow bus stops: are included in route\n",
    "Seagreen bus stops: are NOT included in route\n",
    "Paths with 1: are included in route\n",
    "Paths with 0: are NOT included in route"
   ]
  },
  {
   "cell_type": "code",
   "execution_count": 64,
   "id": "98ba056e",
   "metadata": {},
   "outputs": [
    {
     "ename": "LoadError",
     "evalue": "UndefVarError: travelled_edges_dict not defined",
     "output_type": "error",
     "traceback": [
      "UndefVarError: travelled_edges_dict not defined",
      "",
      "Stacktrace:",
      " [1] top-level scope",
      "   @ In[64]:2",
      " [2] eval",
      "   @ ./boot.jl:373 [inlined]",
      " [3] include_string(mapexpr::typeof(REPL.softscope), mod::Module, code::String, filename::String)",
      "   @ Base ./loading.jl:1196"
     ]
    }
   ],
   "source": [
    "# edges are 1 for travelled on, 0 for not travelled on\n",
    "graph = graphplot(Adj, names=1:n, curvature_scalar=0.11, edgelabel=travelled_edges_dict, markercolor=nodefillc, markersize = 0.2,linecolor = :darkgrey,\n",
    "           linealpha = 0.2, curves=false)\n"
   ]
  },
  {
   "cell_type": "markdown",
   "id": "aef3fbdb",
   "metadata": {},
   "source": [
    "The bus travelled on these edges: \n",
    "(1, 5)\n",
    "(2, 3)\n",
    "(3, 1)\n",
    "(5, 7)"
   ]
  },
  {
   "cell_type": "markdown",
   "id": "a02aac1d",
   "metadata": {},
   "source": [
    "### Fuel used, and people picked up:"
   ]
  },
  {
   "cell_type": "code",
   "execution_count": 65,
   "id": "ec4ffacd",
   "metadata": {},
   "outputs": [
    {
     "ename": "LoadError",
     "evalue": "UndefVarError: opt_path not defined",
     "output_type": "error",
     "traceback": [
      "UndefVarError: opt_path not defined",
      "",
      "Stacktrace:",
      " [1] top-level scope",
      "   @ In[65]:1",
      " [2] eval",
      "   @ ./boot.jl:373 [inlined]",
      " [3] include_string(mapexpr::typeof(REPL.softscope), mod::Module, code::String, filename::String)",
      "   @ Base ./loading.jl:1196"
     ]
    }
   ],
   "source": [
    "println(\"Fuel used: \", dot(d_e, opt_path))\n",
    "println(\"People picked up: \", dot(r_e, opt_path) + r[n_i]) "
   ]
  },
  {
   "cell_type": "markdown",
   "id": "ed411897",
   "metadata": {},
   "source": [
    "# Next Steps"
   ]
  },
  {
   "cell_type": "markdown",
   "id": "be9f96fe",
   "metadata": {},
   "source": [
    "Next, we will work on improving the mathematic model and show the solution to the optimization problem via suitable plots. \n",
    "\n",
    "* **Merge the optimization model with bus data**: We will further analyze the real bus network of Madison and utilize the full dataset of Madison metro transit to develop the model.  \n",
    "\n",
    "* **Include reasonable estimations of unknown constraint variables**: We will include estimates of fuel value (considering the distances matrix), start and end nodes (considering the network map). \n",
    "\n",
    "* **Run X different buses simultaneously**: We will run X (around ~three) different buses simultaneously in the Madison bus system. We will ideally want that these bus routes do not overlap (or try and minimize overlap).\n",
    "\n",
    "* **Cycle constraint**: We want to make sure that no cycles exists in the network, for this we will have to add a constraint such that no bus travels on the same edge/path twice.\n",
    "\n",
    "* **Bus capacity constraint**: Currently we're assuming that the number of people entering and leaving the bus are always equal so we aren't taking into account bus capacity, and we aren't keeping track of passengers at evert bus stop. It will be interesting to see if we can implement a probability function for people leaving at a bus stop, and then use that to place a limit on the bus capacity. Which will limit the number of people we can take up at each bus stop. \n",
    "\n",
    "* **Sensitvity analysis:** Once we have our final results, we want to do a sensitivity analysis to analyze the fuel and capacity constraints.  "
   ]
  }
 ],
 "metadata": {
  "kernelspec": {
   "display_name": "Julia 1.7.1",
   "language": "julia",
   "name": "julia-1.7"
  },
  "language_info": {
   "file_extension": ".jl",
   "mimetype": "application/julia",
   "name": "julia",
   "version": "1.7.2"
  }
 },
 "nbformat": 4,
 "nbformat_minor": 5
}
