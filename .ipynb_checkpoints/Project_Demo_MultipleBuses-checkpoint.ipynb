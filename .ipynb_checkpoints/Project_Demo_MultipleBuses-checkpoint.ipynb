{
 "cells": [
  {
   "cell_type": "code",
   "execution_count": 1,
   "id": "edb654cd",
   "metadata": {},
   "outputs": [],
   "source": [
    "using JuMP, Plots, Cbc, GraphRecipes, LightGraphs, Distributions, SimpleWeightedGraphs, SparseArrays, CSV, Random, DataFrames, JLD, Geodesy"
   ]
  },
  {
   "cell_type": "code",
   "execution_count": 2,
   "id": "2fd771a5",
   "metadata": {},
   "outputs": [],
   "source": [
    "# import Pkg;\n",
    "# using Pkg\n",
    "# Pkg.add(\"Cbc\");\n",
    "# Pkg.add(\"GraphRecipes\");\n",
    "# Pkg.add(\"LightGraphs\");\n",
    "# Pkg.add(\"SimpleWeightedGraphs\");\n",
    "# Pkg.add(\"SparseArrays\");\n",
    "# Pkg.add(\"CSV\");\n",
    "# Pkg.add(\"DataFrames\");\n",
    "# Pkg.add(\"Geodesy\");\n",
    "# Pkg.add(\"JLD\")\n",
    "# Pkg.add(\"Random\")"
   ]
  },
  {
   "cell_type": "markdown",
   "id": "07821839",
   "metadata": {},
   "source": [
    "### ECE/CS/ISyE 524 &mdash; Introduction to Optimization &mdash; Spring 2022 ###\n",
    "\n",
    "\n",
    " Madison Bus Route Designing: Preliminary Report\n",
    "=====\n",
    "\n",
    "Team Members: Rabeeya Hamid, Ai Guan, Naman Gupta\n",
    "\n",
    "Data: 04/22/2022\n",
    "\n",
    "*****\n",
    "\n",
    "### Table of Contents\n",
    "\n",
    "1. [Problem Description](#1.-Problem-Description:)\n",
    "2. [Data Collection](#2.-Data-Collection:)\n",
    "3. [Mathematical Model](#3.-Mathematical-Model:)\n",
    "4. [Code Implementation](#4.-Code-Implementation:)\n",
    "5. [Results and Analysis](#5.-Results-and-Analysis:)\n",
    "6. [Further Work](#6.-Further-Work:)\n"
   ]
  },
  {
   "cell_type": "markdown",
   "id": "e26e6c0c",
   "metadata": {},
   "source": [
    "# 1. Problem Description:"
   ]
  },
  {
   "cell_type": "markdown",
   "id": "db013bd9",
   "metadata": {},
   "source": [
    "\n",
    "Based on the increasing need of public transportation, the City of Madison Metro Transit is proposing a major network redesign ([Transit Network Redesign](https://www.cityofmadison.com/metro/routes-schedules/transit-network-redesign)). Currently, they are surveying the students of UW-Madison and the residents of Madison for suggestions on their travel preferences, so that they can re-design the bus routes to meet the ridership demand and businesses. As University of Wisconsin-Madison students, our team thinks the redesign project would also have significant impact on our daily lives. \n",
    "\n",
    "The aim of the project is to model the routing design as a network optimization problem, so that we can propose the model as a part of their feedback survey. The family of network optimization problem includes assignment, critical path, max flow, shortest path, transportation, and min-cost flow problems. One of the primary results of the model is a network of arcs and nodes that illustrate the optimal routes for the nodes in a network ([Network Optimization](http://home.ubalt.edu/ntsbarsh/opre640a/partIII.htm#:~:text=The%20family%20of%20network%20optimization,called%20a%20vertex%2C%20or%20point)).\n",
    "\n",
    "The project is a transportation problem in the network optimization problem family, and the nodes represent the bus stops, and the arcs represent the transportation flow between two stations. The model consist of three parts: decision variables, constraints, and objective function. We would like to model the optimal routes to meet the demand of ridership for each bus stop in Madison. Therefore, the objective function of the problem is to maximize the number of passengers boarding each bus on all the bus stops in Madison,  subject to fuel limitation of each bus, the capacity of a bus, routing regulations and ridership demand for each bus stop. "
   ]
  },
  {
   "cell_type": "markdown",
   "id": "1b41a658",
   "metadata": {},
   "source": [
    "-----"
   ]
  },
  {
   "cell_type": "markdown",
   "id": "1b3079de",
   "metadata": {},
   "source": [
    "# 2. Data Collection:"
   ]
  },
  {
   "cell_type": "markdown",
   "id": "f20fab31",
   "metadata": {},
   "source": [
    "The data utilized in the project is the publicly available data from the City of Madison website. Two datasets are selected corresponding to the \n",
    "   1.\tMetro Transit Ridership by Stop | City of Madison Open Data.  [Data Source](https://data-cityofmadison.opendata.arcgis.com/datasets/cityofmadison::metro-transit-ridership-by-stop)\n",
    "   2.\tMetro Transit Bus Route Patterns | City of Madison Open Data. [Data Source](https://data-cityofmadison.opendata.arcgis.com/datasets/cityofmadison::metro-transit-bus-route-patterns/about)\n",
    "   3.   Metro Transit Bus Stops | City of Madison Open Data. [Data Source](https://data-cityofmadison.opendata.arcgis.com/maps/metro-transit-bus-stops)\n",
    "    4. Metro Transit Trips | City of Madison Open Data. [Data Source](https://data-cityofmadison.opendata.arcgis.com/datasets/cityofmadison::metro-transit-bus-route-trips)\n",
    "\n",
    "* The first dataset contains a list of all the bus stops, their geographical location (longitude and latitude) and the ridership at that bus stop averaged over 12 days. We do not have distances between these bus stops, nor do we have connections between them, for which we propose the following approach. \n",
    "   *   We calculate the Geodesic Euclidean distance between the geographic position of the bus stops to define the distances between them. \n",
    "   *   These distances will be multiplied by a constant of proportionality to determine the fuel cost associated with each path. \n",
    "\n",
    "* The second dataset contains a list of present bus routes, the bus stops along the routes and the total ridership for the bus routes averaged over 12 days. \n",
    "    \n",
    "* The third dataset maps the bus stops to the bus routes taken by all the buses in Madison. \n",
    "* The fourth dataset maps the bus routes to the bus stops \n",
    "\n",
    "Further, we load all the data and calculate the euclidean distance between each bus stop in Madison. We give a brief demo - "
   ]
  },
  {
   "cell_type": "markdown",
   "id": "f02c378b",
   "metadata": {},
   "source": [
    "## Importing datasets:\n",
    "Importing all four data sets as dataframes."
   ]
  },
  {
   "cell_type": "code",
   "execution_count": 3,
   "id": "2f579ded",
   "metadata": {},
   "outputs": [],
   "source": [
    "# import data set as a dataframe\n",
    "\n",
    "# 1\n",
    "ridership_data = CSV.read(\"data/Metro_Transit_Ridership_by_Stop.csv\", DataFrame)\n",
    "# 2\n",
    "route_patterns_data = CSV.read(\"data/Metro_Transit_Bus_Route_Patterns.csv\", DataFrame)\n",
    "# 3\n",
    "stops_data = CSV.read(\"data/Metro_Transit_Bus_Stops.csv\", DataFrame)\n",
    "# 4\n",
    "weekday_data = CSV.read(\"data/Metro_Transit_Ridership_by_Route_Weekday.csv\", DataFrame)\n",
    ";"
   ]
  },
  {
   "cell_type": "markdown",
   "id": "b74f0cf2",
   "metadata": {},
   "source": [
    "## Calculating distances between all bus stops:"
   ]
  },
  {
   "cell_type": "markdown",
   "id": "e9e47917",
   "metadata": {},
   "source": [
    "The distance between each bus stop in Madison as a $n * n$ matrix."
   ]
  },
  {
   "cell_type": "markdown",
   "id": "f49f35e0",
   "metadata": {},
   "source": [
    "We map the bus stops (ids) to bus routes  that will help us model the optimal bus routes."
   ]
  },
  {
   "cell_type": "markdown",
   "id": "42e9c32d",
   "metadata": {},
   "source": [
    "### Creating a vector of bus stops within routes:"
   ]
  },
  {
   "cell_type": "code",
   "execution_count": 4,
   "id": "2a9437f6",
   "metadata": {},
   "outputs": [
    {
     "name": "stdout",
     "output_type": "stream",
     "text": [
      "Number of bus stops: 1744"
     ]
    }
   ],
   "source": [
    "# bus_route = [80, 15, 4, 2, 7, 10, 17]\n",
    "route_stops = []\n",
    "\n",
    "for i in eachrow(stops_data)\n",
    "     if i.Route != \"None\"\n",
    "        push!(route_stops, i.stop_id)\n",
    "    end \n",
    "end\n",
    "\n",
    "print(\"Number of bus stops: \", length(route_stops))"
   ]
  },
  {
   "cell_type": "markdown",
   "id": "42f9a7e0",
   "metadata": {},
   "source": [
    "### Storing locations and calculating Euclidian distances between all nodes:"
   ]
  },
  {
   "cell_type": "code",
   "execution_count": 5,
   "id": "42ba9dc1-e55a-4f46-8d77-4b631cd7d0f7",
   "metadata": {},
   "outputs": [],
   "source": [
    "stops = []\n",
    "\n",
    "stop_locations = Vector{LatLon{Float64}}()\n",
    "intersections = []\n",
    "stop_ids = []\n",
    "\n",
    "for i in eachrow(ridership_data)\n",
    "    int = i.IntersectionID\n",
    "    if i.StopID in route_stops\n",
    "        if int ∉ intersections\n",
    "            push!(intersections, int)\n",
    "            x = LatLon(i.Lat, i.Lon)\n",
    "            push!(stop_locations, x)\n",
    "            push!(stop_ids, i.StopID)\n",
    "        end\n",
    "    end\n",
    "end\n",
    "\n",
    "N = length(stop_ids)\n",
    "\n",
    "distances = zeros(N,N)\n",
    "\n",
    "for i in 1:N\n",
    "    for j in 1:N\n",
    "        distances[i,j] = euclidean_distance(stop_locations[i], stop_locations[j])\n",
    "    end\n",
    "end\n",
    "\n",
    "distances\n",
    "stop_locations\n",
    "\n",
    "lat = [x.lat for x in stop_locations][1:N-2]\n",
    "long = [x.lon for x in stop_locations][1:N-2]\n",
    ";"
   ]
  },
  {
   "cell_type": "markdown",
   "id": "c153a34b",
   "metadata": {},
   "source": [
    "## Creating ridership data:"
   ]
  },
  {
   "cell_type": "code",
   "execution_count": 6,
   "id": "09cfd396",
   "metadata": {},
   "outputs": [
    {
     "name": "stdout",
     "output_type": "stream",
     "text": [
      "Number of bus stops in data: 799"
     ]
    }
   ],
   "source": [
    "ridership = Dict()\n",
    "\n",
    "for i in eachrow(weekday_data)\n",
    "    if i.StopID in stop_ids\n",
    "        ridership[i.StopID] = i.DailyBoardings\n",
    "    end\n",
    "end\n",
    "r = collect(values(ridership))\n",
    "\n",
    "remove =  N - length(r)\n",
    "\n",
    "n = N - remove\n",
    "print(\"Number of bus stops in data: \", n)"
   ]
  },
  {
   "cell_type": "markdown",
   "id": "efe58dc3",
   "metadata": {},
   "source": [
    "### Assigning distances matrix:"
   ]
  },
  {
   "cell_type": "code",
   "execution_count": 7,
   "id": "8dd1653f",
   "metadata": {},
   "outputs": [],
   "source": [
    "D = distances[1:n,1:n]\n",
    ";"
   ]
  },
  {
   "cell_type": "markdown",
   "id": "a5fc1ba7",
   "metadata": {},
   "source": [
    "## Creating adjacency matrix: "
   ]
  },
  {
   "cell_type": "markdown",
   "id": "b70b7767",
   "metadata": {},
   "source": [
    "Naman: Update description here. <br>\n",
    "Creating $n*n$ Adjacency Matrix on the basis of StopIDs. We assume a bus stop with StopID 5 is connected to StopID 6."
   ]
  },
  {
   "cell_type": "markdown",
   "id": "43936beb",
   "metadata": {},
   "source": [
    "### Loading adjacency matrix:"
   ]
  },
  {
   "cell_type": "code",
   "execution_count": 8,
   "id": "ad0866a2",
   "metadata": {},
   "outputs": [],
   "source": [
    "Adj = load(\"Adj.jld\")[\"Adj Matrix\"]\n",
    ";\n",
    "### do not run the next cell"
   ]
  },
  {
   "cell_type": "markdown",
   "id": "06d336cc",
   "metadata": {},
   "source": [
    "### Code for adding (random direction) edges between close bus stops:\n",
    "\n",
    "We allow our buses to travel to close (distance<500) bus stops, but don't allow it to travel to bus stops that are far away (d>1000). For choosing the direction when adding an edge, we use a discrete random variable between 0 and 1. Which is also why we have commented out this code and saved the ```Adj``` matrix, since running it again would change the matrix. "
   ]
  },
  {
   "cell_type": "code",
   "execution_count": 9,
   "id": "dcca6291",
   "metadata": {
    "scrolled": true
   },
   "outputs": [],
   "source": [
    "# Adj = zeros(N,N)\n",
    "\n",
    "# index_stopid = Dict()\n",
    "\n",
    "# for row in eachrow(ridership_data)\n",
    "#     if row.StopID in route_stops\n",
    "#         i = rownumber(row)\n",
    "#         index_stopid[i] = row.StopID\n",
    "#     end\n",
    "# end\n",
    "# index_stopid\n",
    "# for i in 1:N\n",
    "#     if i + 1 < N\n",
    "#         Adj[i, i + 1] = 1\n",
    "#         # Adj[i + 1, i] = 1\n",
    "#     end\n",
    "# end\n",
    "\n",
    "\n",
    "# for i in 1:N\n",
    "#     for j in 1:N\n",
    "#         if i != j\n",
    "#         d = distances[i,j]\n",
    "#             if d > 1000\n",
    "#                 Adj[i, j] = 0\n",
    "#                 Adj[j, i] = 0\n",
    "#             end\n",
    "#                 if d < 400\n",
    "#                     p = rand((0,1))\n",
    "#                     Adj[i, j] = p\n",
    "#                     Adj[j, i] = 1-p\n",
    "#                 end\n",
    "#         end\n",
    "#     end\n",
    "# end\n",
    "\n",
    "# Adj = Adj[1:n,1:n]\n",
    "# ;"
   ]
  },
  {
   "cell_type": "markdown",
   "id": "857548b7",
   "metadata": {},
   "source": [
    "### Converting adjacency matrix into a directed graph:"
   ]
  },
  {
   "cell_type": "code",
   "execution_count": 10,
   "id": "f03d85bc",
   "metadata": {},
   "outputs": [
    {
     "data": {
      "text/plain": [
       "{799, 835} directed simple Int64 graph"
      ]
     },
     "execution_count": 10,
     "metadata": {},
     "output_type": "execute_result"
    }
   ],
   "source": [
    "using Graphs\n",
    "\n",
    "dirGraph = Graphs.DiGraph(Adj) # converting adjacency matrix into a directed graph"
   ]
  },
  {
   "cell_type": "markdown",
   "id": "0568430d",
   "metadata": {},
   "source": [
    "### Removing cycles from the Adjacency Matrix:"
   ]
  },
  {
   "cell_type": "code",
   "execution_count": 11,
   "id": "7c075772",
   "metadata": {
    "scrolled": false
   },
   "outputs": [],
   "source": [
    "# cycles = Graphs.simplecycles(dirGraph)\n",
    "# for i in 1:length(cycles)\n",
    "#     Adj[cycles[i][1], cycles[i][2]] nn = 0\n",
    "# end\n",
    "\n",
    "# dirGraph = Graphs.DiGraph(Adj)"
   ]
  },
  {
   "cell_type": "markdown",
   "id": "3f344671",
   "metadata": {},
   "source": [
    "### Saving Adjacency Matrix:"
   ]
  },
  {
   "cell_type": "code",
   "execution_count": 12,
   "id": "f204b4c4",
   "metadata": {},
   "outputs": [],
   "source": [
    "# save(\"Adj.jld\", \"Adj Matrix\", Adj)\n",
    "# ;"
   ]
  },
  {
   "cell_type": "markdown",
   "id": "efe34fee",
   "metadata": {},
   "source": [
    "----"
   ]
  },
  {
   "cell_type": "markdown",
   "id": "69f96c67",
   "metadata": {},
   "source": [
    "\n",
    "# 3. Mathematical Model:\n",
    "\n",
    "\n",
    "### Parameters Given:\n",
    "##### From Data:\n",
    "- Number of bus stops ```n``` : number of nodes in our network\n",
    "- Adjacency Matrix ```Adj``` ($n \\times n$) : describes connections between bus stops\n",
    "- Distance Matrix ```D``` ($n \\times n$): Euclidean distances between all bus stops\n",
    "- Ridership vector ```r```($n \\times 1$): the ridership demand at every bus stop \n",
    "\n",
    "\n",
    "##### Assigned ourselves: \n",
    "- Number of buses ```num_buses```: the total number of buses running in our model\n",
    "- Start node ```n_i```($1 \\times \\text{num_buses}$): the bus stops from where our buses start, unique for every bus.\n",
    "- End node ```n_e```($1 \\times \\text{num_buses}$): the bus stops where our bus routes end, unique for every bus.\n",
    "- Distance (Fuel) limit ```f```($1 \\times \\text{num_buses}$): the distances each of our buses can travel in total/the fuel that each bus is allowed to use. Unique for every bus."
   ]
  },
  {
   "cell_type": "markdown",
   "id": "946b584c",
   "metadata": {},
   "source": [
    "## Loading ```Adj``` matrix:"
   ]
  },
  {
   "cell_type": "code",
   "execution_count": 13,
   "id": "b77fe5c8",
   "metadata": {},
   "outputs": [],
   "source": [
    "Adj = load(\"Adj.jld\")[\"Adj Matrix\"]\n",
    ";"
   ]
  },
  {
   "cell_type": "markdown",
   "id": "744e0d04",
   "metadata": {},
   "source": [
    "### Assigning number of buses:"
   ]
  },
  {
   "cell_type": "code",
   "execution_count": 14,
   "id": "6a8dfd38",
   "metadata": {},
   "outputs": [],
   "source": [
    "num_buses = 3\n",
    ";"
   ]
  },
  {
   "cell_type": "markdown",
   "id": "665f91bf",
   "metadata": {},
   "source": [
    "\n",
    "## Assigning ```b``` vector using start and end nodes:"
   ]
  },
  {
   "cell_type": "code",
   "execution_count": 15,
   "id": "34a9eaf1",
   "metadata": {},
   "outputs": [],
   "source": [
    "using Random\n",
    "\n",
    "# n_i = rand(1:n,3,1)\n",
    "# n_e = rand(1:n,3,1)\n",
    "\n",
    "### hard coding start and end nodes for now:\n",
    "\n",
    "n_i = [10, 274, 505]\n",
    "n_e = [1, 276, 586]\n",
    "\n",
    "b = zeros(n, num_buses)\n",
    "for i in 1:num_buses\n",
    "    b[n_i[i], i] = -1\n",
    "    b[n_e[i], i] = 1\n",
    "end\n",
    "b = Int.(b)\n",
    ";"
   ]
  },
  {
   "cell_type": "markdown",
   "id": "1b3fedb4",
   "metadata": {},
   "source": [
    "### Storing start and end nodes in a CSV file:"
   ]
  },
  {
   "cell_type": "code",
   "execution_count": 16,
   "id": "ae07d338",
   "metadata": {},
   "outputs": [],
   "source": [
    "start_end = hcat(n_i, n_e) \n",
    "\n",
    "CSV.write(\"start2end.csv\",  DataFrame(start_end, :auto), writeheader=[\"start_node\", \"end_node\"])\n",
    ";"
   ]
  },
  {
   "cell_type": "markdown",
   "id": "8084e637",
   "metadata": {},
   "source": [
    "## Defining fuel vector ```f```:"
   ]
  },
  {
   "cell_type": "code",
   "execution_count": 17,
   "id": "b8b7caa4",
   "metadata": {},
   "outputs": [],
   "source": [
    "f = [1e10, 1e10, 1e10]\n",
    ";"
   ]
  },
  {
   "cell_type": "markdown",
   "id": "0aa6f377",
   "metadata": {},
   "source": [
    "### Parameters to be calculated:\n",
    "- Number of paths ```e```: number of edges in our network \n",
    "- Incidence matrix ```Inc```($n \\times e$): describes the edges in our network.\n",
    "- Edge costs ```d_e```($e \\times 1$): the distance corresponding to edges in the network\n",
    "- Rider intake ```r_e```($e \\times 1$): the riders taken up after traveling to each edge\n",
    "- Flow vector ```b``` ($n \\times \\text{num_buses}$): includes the start and end node"
   ]
  },
  {
   "cell_type": "markdown",
   "id": "a4e5bf41",
   "metadata": {},
   "source": [
    "## Calculating incidence matrix ```Inc``` and number of edges ```e```:"
   ]
  },
  {
   "cell_type": "code",
   "execution_count": 18,
   "id": "c7ffa086",
   "metadata": {},
   "outputs": [
    {
     "data": {
      "text/plain": [
       "835"
      ]
     },
     "execution_count": 18,
     "metadata": {},
     "output_type": "execute_result"
    }
   ],
   "source": [
    "Inc = Array(Graphs.incidence_matrix(dirGraph))\n",
    "# Inc = Array(my_incidence_matrix(dirGraph)) # converting directed graph to an incidence matrix\n",
    "\n",
    "e = size(Inc)[2] # number of edges"
   ]
  },
  {
   "cell_type": "markdown",
   "id": "d8b085bc",
   "metadata": {},
   "source": [
    "## Defining edge costs ```d_e``` and rider intake ```r_e```:"
   ]
  },
  {
   "cell_type": "code",
   "execution_count": 19,
   "id": "72f5ec12",
   "metadata": {},
   "outputs": [],
   "source": [
    "temp_D = D.*Adj\n",
    "temp_r = zeros((n,n))\n",
    "\n",
    "for i = 1:n\n",
    "        temp_r[i, :] = r.*Adj[i, :]\n",
    "end\n",
    "\n",
    "d_e = zeros(0)\n",
    "r_e = zeros(0)\n",
    "\n",
    "for i = 1:n\n",
    "    for j = 1:n\n",
    "        if temp_D[i, j] != 0\n",
    "            append!(d_e, temp_D[i, j])\n",
    "        end\n",
    "        if temp_r[i, j] != 0\n",
    "            append!(r_e, temp_r[i, j])\n",
    "        end\n",
    "    end    \n",
    "end"
   ]
  },
  {
   "cell_type": "markdown",
   "id": "e257dd67",
   "metadata": {},
   "source": [
    "## Final Mathematical Model:"
   ]
  },
  {
   "cell_type": "markdown",
   "id": "caa995ef",
   "metadata": {},
   "source": [
    "\n",
    "**Decision variable:** <br>\n",
    "\n",
    "$X$: all possible edges in the network, for each bus. Shape = $e \\times \\text{num_buses}$ <br>\n",
    "    $$ X[e_i, k_i] =   \\left\\{\n",
    "\\begin{array}{ll}\n",
    "      1 & \\text{If the bus $k_i$ travels on edge $e_i$}  \\\\\n",
    "      0 & \\text{If the bus $k_i$ does NOT travel on edge $e_i$} \\\\\n",
    "\\end{array} \n",
    "\\right.  $$\n",
    "\n",
    "**Objective function:** Maximize people getting on the bus, for all buses <br>\n",
    "$$ \\max_{x} \\Sigma_{k = 1}^{\\text{num_buses}}\\text{    }r_e \\cdot X[:, k]$$\n",
    "\n",
    "**Constraints:** <br>\n",
    "  s.t. <br>\n",
    "For every bus in ```num_buses``` (```X[:, k] = x```): <br> <br>\n",
    "Nodal conservation:\n",
    "$$ \\text{Inc}*x = b, $$\n",
    "Fuel Constraint:\n",
    "$$ d_e \\cdot x <= f  $$\n",
    "Bus can only leave a bus stop once:\n",
    "$$ \\Sigma_{j} x_ij \\leq 1\\forall i \\in [1, n] $$ \n",
    "Bus can only enter a bus stop once: \n",
    "$$ \\Sigma_{i} x_ij \\leq 1\\forall j \\in [1, n] $$\n",
    "\n",
    "For all buses:\n",
    "$$X[:, k_1] \\cdot X[:, k_2]  \\cdot..... \\cdot X[:,k_{end}] = 0$$\n",
    "Bus routes can not overlap with other buses. "
   ]
  },
  {
   "cell_type": "markdown",
   "id": "7d99120c",
   "metadata": {},
   "source": [
    "----"
   ]
  },
  {
   "cell_type": "markdown",
   "id": "63c1dcba",
   "metadata": {},
   "source": [
    "# 4. Code Implementation:"
   ]
  },
  {
   "cell_type": "code",
   "execution_count": 20,
   "id": "9f3dac98",
   "metadata": {},
   "outputs": [
    {
     "name": "stdout",
     "output_type": "stream",
     "text": [
      "Set parameter Username\n",
      "\n",
      "--------------------------------------------\n",
      "Warning: your license will expire in 4 days\n",
      "--------------------------------------------\n",
      "\n",
      "Academic license - for non-commercial use only - expires 2022-05-14\n",
      "Set parameter NonConvex to value 2\n"
     ]
    },
    {
     "data": {
      "text/plain": [
       "OPTIMAL::TerminationStatusCode = 1"
      ]
     },
     "execution_count": 20,
     "metadata": {},
     "output_type": "execute_result"
    }
   ],
   "source": [
    "using LinearAlgebra, Ipopt, Gurobi\n",
    "bus_route = Model(with_optimizer(Gurobi.Optimizer,OutputFlag=0, NonConvex = 2))\n",
    "\n",
    "@variable(bus_route, X[1:e, 1:num_buses], Bin) # binary decision variable x that maps out the [path]\n",
    "\n",
    "for i in 1:num_buses\n",
    "    @constraint(bus_route, Inc*X[:, i] .== b[:, i]) # nodal conservation\n",
    "    @constraint(bus_route, d_e'*X[:, i] <= f[i]) # fuel constraint\n",
    "    @constraint(bus_route, (floor.((Inc.+1)./2))*X[:, i] .<= 1) # can leave from one node once only\n",
    "    @constraint(bus_route, (-1*ceil.((Inc.-1)./2))*X[:, i] .<= 1) # can enter one node once only\n",
    "end\n",
    "\n",
    "\n",
    "for i in 1:num_buses\n",
    "    for j in 1:num_buses\n",
    "        if i != j\n",
    "            @constraint(bus_route, dot(X[:, i],X[:, j]) <= 0.9) # not share path\n",
    "        end\n",
    "    end\n",
    "end\n",
    "\n",
    "@objective(bus_route, Max, sum(r_e'*X[:, i] for i in 1:num_buses))  # maximize people getting on the bus\n",
    "    \n",
    "s = optimize!(bus_route)\n",
    "\n",
    "termination_status(bus_route)\n",
    "#print(bus_route)"
   ]
  },
  {
   "cell_type": "markdown",
   "id": "9495f01d",
   "metadata": {},
   "source": [
    "----"
   ]
  },
  {
   "cell_type": "markdown",
   "id": "fbf5919a",
   "metadata": {},
   "source": [
    "# 5. Results and Analysis:"
   ]
  },
  {
   "cell_type": "markdown",
   "id": "0361c06a",
   "metadata": {},
   "source": [
    "## Defining dictionary for converting edge index to path:\n",
    "To make it easier to map the optimal decision variable to the path it takes. "
   ]
  },
  {
   "cell_type": "code",
   "execution_count": 21,
   "id": "75856e6d",
   "metadata": {
    "scrolled": false
   },
   "outputs": [],
   "source": [
    "edgeIndex2path = Dict()\n",
    "count = 1\n",
    "for i = 1:n\n",
    "    for j = 1:n\n",
    "        if Adj[i, j] != 0\n",
    "            edgeIndex2path[count] = (i, j)\n",
    "            count = count + 1\n",
    "        end\n",
    "    end\n",
    "end\n",
    "\n",
    "sorted_edges = sort(collect(pairs(edgeIndex2path)), by=x->x[1])\n",
    ";\n",
    "\n",
    "# for i in sorted_edges\n",
    "#     println(i)\n",
    "# end"
   ]
  },
  {
   "cell_type": "markdown",
   "id": "aa348f96",
   "metadata": {},
   "source": [
    "## Defining function for finding the path taken:\n",
    "Takes as input our decison variable and gives as output a dictionary which has all possible edges as keys and 0s and 1s as values. Where 0 signifies that our bus did not travel on that edge, and 1 signifies that it did travel on that edge."
   ]
  },
  {
   "cell_type": "code",
   "execution_count": 22,
   "id": "0843e3b9",
   "metadata": {},
   "outputs": [
    {
     "data": {
      "text/plain": [
       "path_taken (generic function with 1 method)"
      ]
     },
     "execution_count": 22,
     "metadata": {},
     "output_type": "execute_result"
    }
   ],
   "source": [
    "function path_taken(opt_path)\n",
    "    # finding edges travelled using edgeIndex2path dictionary\n",
    "    path_taken_x = zeros(0)\n",
    "    path_taken_y = zeros(0)\n",
    "    for i = 1:e\n",
    "        if opt_path[i] != 0\n",
    "            temp = edgeIndex2path[i]\n",
    "            append!(path_taken_x, temp[1] )\n",
    "            append!(path_taken_y, temp[2] )\n",
    "        end\n",
    "    end\n",
    "    travelled_edges_dict = Dict()\n",
    "    # defining dictionary with 1 for travelled edges, 0 for untravelled edges\n",
    "    for k = 1:length(path_taken_x)\n",
    "        for i in 1:n\n",
    "            for j in 1:n\n",
    "                if i == path_taken_x[k] && j == path_taken_y[k] \n",
    "                    travelled_edges_dict[(i, j)] = 1\n",
    "                elseif haskey(travelled_edges_dict, (i, j))\n",
    "                    if travelled_edges_dict[(i, j)] == 1\n",
    "                        travelled_edges_dict[(i, j)] = 1\n",
    "                    end\n",
    "                else \n",
    "                    travelled_edges_dict[(i, j)] = 0\n",
    "                end\n",
    "            end\n",
    "        end\n",
    "    end\n",
    "\n",
    "    # printing the edges travelled on\n",
    "\n",
    "    print(\"The bus travelled on these edges: \\n\")\n",
    "    for i = 1:n\n",
    "        for j = 1:n\n",
    "            if travelled_edges_dict[(i, j)] != 0\n",
    "                println((i, j))\n",
    "            end\n",
    "        end\n",
    "    end\n",
    "return travelled_edges_dict\n",
    "end"
   ]
  },
  {
   "cell_type": "markdown",
   "id": "26cf22df",
   "metadata": {},
   "source": [
    "## Printing paths travelled for every bus:"
   ]
  },
  {
   "cell_type": "code",
   "execution_count": 23,
   "id": "3439307a",
   "metadata": {},
   "outputs": [
    {
     "name": "stdout",
     "output_type": "stream",
     "text": [
      "The bus travelled on these edges: \n",
      "(9, 14)\n",
      "(10, 9)\n",
      "(14, 45)\n",
      "(36, 47)\n",
      "(45, 84)\n",
      "(47, 1)\n",
      "(69, 36)\n",
      "(84, 69)\n",
      "The bus travelled on these edges: \n",
      "(201, 229)\n",
      "(225, 201)\n",
      "(229, 276)\n",
      "(245, 294)\n",
      "(274, 245)\n",
      "(294, 225)\n",
      "The bus travelled on these edges: \n",
      "(505, 600)\n",
      "(521, 608)\n",
      "(600, 521)\n",
      "(608, 586)\n"
     ]
    }
   ],
   "source": [
    "opt_path = value.(X)\n",
    "num_buses = 3\n",
    "dicts = []\n",
    "\n",
    "for i in 1:num_buses\n",
    "    dict1 = path_taken(opt_path[:, i])\n",
    "    push!(dicts, dict1)\n",
    "end"
   ]
  },
  {
   "cell_type": "markdown",
   "id": "cc765296",
   "metadata": {},
   "source": [
    "## Defining function for finding nodes travelled to: NOT USING\n"
   ]
  },
  {
   "cell_type": "code",
   "execution_count": 24,
   "id": "a0f0ee21",
   "metadata": {},
   "outputs": [
    {
     "data": {
      "text/plain": [
       "nodes_travelled (generic function with 1 method)"
      ]
     },
     "execution_count": 24,
     "metadata": {},
     "output_type": "execute_result"
    }
   ],
   "source": [
    "function nodes_travelled(opt_path, bus_no)\n",
    "    nodes = 1:n\n",
    "    opt_path_bus = opt_path[:, bus_no]\n",
    "    temp_path = zeros((n,n))\n",
    "\n",
    "    # defining temporary variable temp_path to store nodes travelled to for on each edge index\n",
    "    # (zeros need to be filtered out) \n",
    "    for i = 1:n\n",
    "            temp_path[i, :] = nodes.*Adj[i, :]\n",
    "    end\n",
    "\n",
    "    path = zeros(0)\n",
    "\n",
    "    # filtering out zeros\n",
    "    for i = 1:n\n",
    "        for j = 1:n\n",
    "            if temp_path[i, j] != 0\n",
    "                append!(path, temp_path[i, j])\n",
    "            end\n",
    "        end    \n",
    "    end\n",
    "\n",
    "\n",
    "    # finding actual nodes travelled to using optimal edge vector x\n",
    "    temp_path = path.*opt_path_bus\n",
    "\n",
    "\n",
    "    path = zeros(0)\n",
    "\n",
    "    # filtering out zeros again\n",
    "    for p in temp_path\n",
    "        if p != 0\n",
    "            append!(path, p)\n",
    "        end\n",
    "    end\n",
    "\n",
    "    # defining membership based on nodes travelled to, 1 for not travelled to, 2 for travelled to\n",
    "    for i = 1:n\n",
    "        for p in path \n",
    "            if round(Int, p) == i\n",
    "                membership[i] = bus_no + 1\n",
    "            end\n",
    "        end\n",
    "    end\n",
    "\n",
    "    # start node is also travelled to \n",
    "    membership[n_i[bus_no]] = bus_no + 1\n",
    "end"
   ]
  },
  {
   "cell_type": "markdown",
   "id": "940af100",
   "metadata": {},
   "source": [
    "## Exporting data for visualization in python:\n",
    "Export longitude lattitude for the connections between bus stops (total and optimal), and the longitude lattitude of the bus stops as well. "
   ]
  },
  {
   "cell_type": "code",
   "execution_count": 25,
   "id": "82cb111a",
   "metadata": {},
   "outputs": [
    {
     "data": {
      "text/plain": [
       "\"BusStops.csv\""
      ]
     },
     "execution_count": 25,
     "metadata": {},
     "output_type": "execute_result"
    }
   ],
   "source": [
    "sources = Dict() # Stores connections \n",
    "\n",
    "all_sources = [] ## vector for all possible connections\n",
    "for i in sorted_edges\n",
    "    source = i[2][1]\n",
    "    sink = i[2][2]\n",
    "    x = lat[source], long[source], lat[sink], long[sink], source, sink\n",
    "    \n",
    "    push!(all_sources, x)\n",
    "    \n",
    "end\n",
    "\n",
    "sources[1] = all_sources # append to sources\n",
    "\n",
    "# for each dictionary, create a matrix which stores the long and lat of nodes travelled on\n",
    "\n",
    "idx = 2\n",
    "for dict in dicts   \n",
    "    loc = []\n",
    "    for (key, value) in dict\n",
    "        if value != 0\n",
    "            i = key\n",
    "            source = i[1]\n",
    "            sink = i[2]\n",
    "            x = lat[source], long[source], lat[sink], long[sink], source, sink\n",
    "            push!(loc, x)\n",
    "        end\n",
    "    end\n",
    "    sources[idx] = loc\n",
    "    idx +=1\n",
    "end\n",
    "\n",
    "\n",
    "# store all four as seperate CSV files:\n",
    "A = sources\n",
    "for (k,v) in A\n",
    "    CSV.write(\"Connections\"* string(k)*\".csv\",  DataFrame(v), writeheader=[\"start_lat\", \"start_lon\", \"end_lat\", \"end_lon\", \"start_node\", \"end_node\"])\n",
    "end\n",
    "\n",
    "\n",
    "\n",
    "# store longitude and lattitude of all bus stops\n",
    "\n",
    "count = 1\n",
    "busstops = []\n",
    "for x in stop_locations\n",
    "    push!(busstops, (count, x.lat, x.lon))\n",
    "    count+=1\n",
    "end\n",
    "\n",
    "B = busstops[1:N-2]\n",
    "\n",
    "CSV.write(\"BusStops.csv\", DataFrame(B), writeheader=[\"node\", \"lon\", \"lat\"])"
   ]
  },
  {
   "cell_type": "markdown",
   "id": "24daa259",
   "metadata": {},
   "source": [
    "## Bus route visualization:\n"
   ]
  },
  {
   "cell_type": "markdown",
   "id": "a02aac1d",
   "metadata": {},
   "source": [
    "## Further stats:\n",
    "\n",
    "like fuel used, people picked up, number of nodes travelled etc"
   ]
  },
  {
   "cell_type": "code",
   "execution_count": 26,
   "id": "ec4ffacd",
   "metadata": {
    "scrolled": true
   },
   "outputs": [],
   "source": [
    "# println(\"Fuel used: \", dot(d_e, opt_path))\n",
    "# println(\"People picked up: \", dot(r_e, opt_path) + r[n_i]) "
   ]
  },
  {
   "cell_type": "markdown",
   "id": "6a78c487",
   "metadata": {},
   "source": [
    "-----"
   ]
  },
  {
   "cell_type": "markdown",
   "id": "c500d9f6",
   "metadata": {},
   "source": [
    "# 6. Further Work:"
   ]
  }
 ],
 "metadata": {
  "kernelspec": {
   "display_name": "Julia 1.7.2",
   "language": "julia",
   "name": "julia-1.7"
  },
  "language_info": {
   "file_extension": ".jl",
   "mimetype": "application/julia",
   "name": "julia",
   "version": "1.7.2"
  }
 },
 "nbformat": 4,
 "nbformat_minor": 5
}
