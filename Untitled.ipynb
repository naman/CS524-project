{
 "cells": [
  {
   "cell_type": "code",
   "execution_count": 19,
   "id": "e9412fec-c1a8-46b4-8363-9d9a1fe0a0d3",
   "metadata": {},
   "outputs": [
    {
     "data": {
      "application/vnd.plotly.v1+json": {
       "config": {
        "plotlyServerURL": "https://plot.ly"
       },
       "data": [
        {
         "hoverinfo": "text",
         "lat": [
          -89.407019,
          -89.400235,
          -89.397315,
          -89.405625,
          -89.403744,
          -89.399689,
          -89.392419,
          -89.401358,
          -89.401184,
          -89.39913,
          -89.404119,
          -89.409433,
          -89.403999,
          -89.404071,
          -89.398039,
          -89.407051,
          -89.410405,
          -89.403854,
          -89.3914,
          -89.396803,
          -89.403805,
          -89.40307,
          -89.403831,
          -89.406479,
          -89.392872,
          -89.390357,
          -89.393712,
          -89.399231,
          -89.396135,
          -89.406253,
          -89.390277,
          -89.388354,
          -89.397473,
          -89.384707,
          -89.383802,
          -89.326231,
          -89.357055,
          -89.349162,
          -89.343158,
          -89.347619,
          -89.354118,
          -89.376695,
          -89.385494,
          -89.370083,
          -89.355489,
          -89.366954,
          -89.369346,
          -89.35142,
          -89.329604,
          -89.359165,
          -89.360575,
          -89.378724,
          -89.335432,
          -89.378801,
          -89.350738,
          -89.359354,
          -89.35359,
          -89.386107,
          -89.381564,
          -89.345137,
          -89.352591,
          -89.357265,
          -89.375129,
          -89.351865,
          -89.362594,
          -89.357781,
          -89.373573,
          -89.341378,
          -89.365346,
          -89.362013,
          -89.368721,
          -89.363518,
          -89.373012,
          -89.366583,
          -89.346548,
          -89.343202,
          -89.382342,
          -89.356518,
          -89.423976,
          -89.433693,
          -89.434878,
          -89.429817,
          -89.436434,
          -89.428136,
          -89.433704,
          -89.438266,
          -89.433568,
          -89.441761,
          -89.437322,
          -89.435668,
          -89.438598,
          -89.428301,
          -89.413023,
          -89.450399,
          -89.47383,
          -89.467913,
          -89.426722,
          -89.447056,
          -89.420364,
          -89.438444,
          -89.456624,
          -89.43397,
          -89.464546,
          -89.443898,
          -89.428972,
          -89.3948,
          -89.35855,
          -89.497947,
          -89.520026,
          -89.481637,
          -89.502157,
          -89.518262,
          -89.488765,
          -89.509374,
          -89.512543,
          -89.509348,
          -89.51728,
          -89.512563,
          -89.502575,
          -89.517531,
          -89.507003
         ],
         "lon": [
          43.071061,
          43.075897,
          43.071827,
          43.07607,
          43.070977,
          43.070914,
          43.074073,
          43.073353,
          43.038541,
          43.054058,
          43.062942,
          43.073506,
          43.065159,
          43.041663,
          43.038506,
          43.073505,
          43.075181,
          43.073403,
          43.074849,
          43.074837,
          43.059929,
          43.03858,
          43.044443,
          43.075047,
          43.071687,
          43.07025,
          43.07481,
          43.051775,
          43.073288,
          43.07408,
          43.07477,
          43.074745,
          43.073913,
          43.076046,
          43.073372,
          43.098138,
          43.093708,
          43.10016,
          43.106729,
          43.106774,
          43.095915,
          43.075898,
          43.073724,
          43.077878,
          43.091766,
          43.080257,
          43.085012,
          43.096919,
          43.098615,
          43.0874,
          43.085865,
          43.07876,
          43.099848,
          43.074391,
          43.098507,
          43.091982,
          43.094233,
          43.074933,
          43.076388,
          43.106881,
          43.095276,
          43.114269,
          43.081273,
          43.106876,
          43.090108,
          43.088874,
          43.07695,
          43.099981,
          43.081232,
          43.083716,
          43.078962,
          43.08245,
          43.08238,
          43.087276,
          43.100083,
          43.104027,
          43.074989,
          43.090551,
          43.076457,
          43.089334,
          43.086257,
          43.078849,
          43.086191,
          43.080289,
          43.086348,
          43.089087,
          43.084275,
          43.086637,
          43.089721,
          43.090519,
          43.086325,
          43.07703,
          43.076409,
          43.075163,
          43.074208,
          43.074097,
          43.07894,
          43.0754,
          43.076434,
          43.074878,
          43.075451,
          43.073376,
          43.074673,
          43.075113,
          43.084239,
          43.039,
          43.11295,
          43.075183,
          43.072384,
          43.075164,
          43.076728,
          43.074948,
          43.075156,
          43.075087,
          43.063945,
          43.079964,
          43.064351,
          43.075148,
          43.081137,
          43.068066,
          43.081154
         ],
         "marker": {
          "color": "rgb(255, 0, 0)",
          "line": {
           "color": "rgba(68, 68, 68, 0)",
           "width": 3
          },
          "size": 2
         },
         "mode": "markers",
         "text": [
          1,
          2,
          3,
          4,
          5,
          6,
          7,
          8,
          9,
          10,
          11,
          12,
          13,
          14,
          15,
          16,
          17,
          18,
          19,
          20,
          21,
          22,
          23,
          24,
          25,
          26,
          27,
          28,
          29,
          30,
          31,
          32,
          33,
          34,
          35,
          36,
          37,
          38,
          39,
          40,
          41,
          42,
          43,
          44,
          45,
          46,
          47,
          48,
          49,
          50,
          51,
          52,
          53,
          54,
          55,
          56,
          57,
          58,
          59,
          60,
          61,
          62,
          63,
          64,
          65,
          66,
          67,
          68,
          69,
          70,
          71,
          72,
          73,
          74,
          75,
          76,
          77,
          78,
          79,
          80,
          81,
          82,
          83,
          84,
          85,
          86,
          87,
          88,
          89,
          90,
          91,
          92,
          93,
          94,
          95,
          96,
          97,
          98,
          99,
          100,
          101,
          102,
          103,
          104,
          105,
          106,
          107,
          108,
          109,
          110,
          111,
          112,
          113,
          114,
          115,
          116,
          117,
          118,
          119,
          120,
          121
         ],
         "type": "scattergeo"
        },
        {
         "lat": [
          43.075897,
          43.073288
         ],
         "line": {
          "color": "red",
          "width": 1
         },
         "lon": [
          -89.400235,
          -89.396135
         ],
         "mode": "lines",
         "type": "scattergeo"
        },
        {
         "lat": [
          43.075897,
          43.073724
         ],
         "line": {
          "color": "red",
          "width": 1
         },
         "lon": [
          -89.400235,
          -89.385494
         ],
         "mode": "lines",
         "type": "scattergeo"
        },
        {
         "lat": [
          43.075897,
          43.090108
         ],
         "line": {
          "color": "red",
          "width": 1
         },
         "lon": [
          -89.400235,
          -89.362594
         ],
         "mode": "lines",
         "type": "scattergeo"
        },
        {
         "lat": [
          43.071827,
          43.099848
         ],
         "line": {
          "color": "red",
          "width": 1
         },
         "lon": [
          -89.397315,
          -89.335432
         ],
         "mode": "lines",
         "type": "scattergeo"
        },
        {
         "lat": [
          43.071827,
          43.076728
         ],
         "line": {
          "color": "red",
          "width": 1
         },
         "lon": [
          -89.397315,
          -89.502157
         ],
         "mode": "lines",
         "type": "scattergeo"
        },
        {
         "lat": [
          43.070977,
          43.07876
         ],
         "line": {
          "color": "red",
          "width": 1
         },
         "lon": [
          -89.403744,
          -89.378724
         ],
         "mode": "lines",
         "type": "scattergeo"
        },
        {
         "lat": [
          43.070914,
          43.0754
         ],
         "line": {
          "color": "red",
          "width": 1
         },
         "lon": [
          -89.399689,
          -89.447056
         ],
         "mode": "lines",
         "type": "scattergeo"
        },
        {
         "lat": [
          43.074073,
          43.065159
         ],
         "line": {
          "color": "red",
          "width": 1
         },
         "lon": [
          -89.392419,
          -89.403999
         ],
         "mode": "lines",
         "type": "scattergeo"
        },
        {
         "lat": [
          43.074073,
          43.076728
         ],
         "line": {
          "color": "red",
          "width": 1
         },
         "lon": [
          -89.392419,
          -89.502157
         ],
         "mode": "lines",
         "type": "scattergeo"
        },
        {
         "lat": [
          43.054058,
          43.038541
         ],
         "line": {
          "color": "red",
          "width": 1
         },
         "lon": [
          -89.39913,
          -89.401184
         ],
         "mode": "lines",
         "type": "scattergeo"
        },
        {
         "lat": [
          43.073506,
          43.074933
         ],
         "line": {
          "color": "red",
          "width": 1
         },
         "lon": [
          -89.409433,
          -89.386107
         ],
         "mode": "lines",
         "type": "scattergeo"
        },
        {
         "lat": [
          43.073506,
          43.099981
         ],
         "line": {
          "color": "red",
          "width": 1
         },
         "lon": [
          -89.409433,
          -89.341378
         ],
         "mode": "lines",
         "type": "scattergeo"
        },
        {
         "lat": [
          43.073505,
          43.085012
         ],
         "line": {
          "color": "red",
          "width": 1
         },
         "lon": [
          -89.407051,
          -89.369346
         ],
         "mode": "lines",
         "type": "scattergeo"
        },
        {
         "lat": [
          43.073505,
          43.090551
         ],
         "line": {
          "color": "red",
          "width": 1
         },
         "lon": [
          -89.407051,
          -89.356518
         ],
         "mode": "lines",
         "type": "scattergeo"
        },
        {
         "lat": [
          43.073505,
          43.075163
         ],
         "line": {
          "color": "red",
          "width": 1
         },
         "lon": [
          -89.407051,
          -89.450399
         ],
         "mode": "lines",
         "type": "scattergeo"
        },
        {
         "lat": [
          43.073403,
          43.084239
         ],
         "line": {
          "color": "red",
          "width": 1
         },
         "lon": [
          -89.403854,
          -89.428972
         ],
         "mode": "lines",
         "type": "scattergeo"
        },
        {
         "lat": [
          43.073403,
          43.081137
         ],
         "line": {
          "color": "red",
          "width": 1
         },
         "lon": [
          -89.403854,
          -89.502575
         ],
         "mode": "lines",
         "type": "scattergeo"
        },
        {
         "lat": [
          43.074849,
          43.090551
         ],
         "line": {
          "color": "red",
          "width": 1
         },
         "lon": [
          -89.3914,
          -89.356518
         ],
         "mode": "lines",
         "type": "scattergeo"
        },
        {
         "lat": [
          43.074837,
          43.074073
         ],
         "line": {
          "color": "red",
          "width": 1
         },
         "lon": [
          -89.396803,
          -89.392419
         ],
         "mode": "lines",
         "type": "scattergeo"
        },
        {
         "lat": [
          43.074837,
          43.041663
         ],
         "line": {
          "color": "red",
          "width": 1
         },
         "lon": [
          -89.396803,
          -89.404071
         ],
         "mode": "lines",
         "type": "scattergeo"
        },
        {
         "lat": [
          43.074837,
          43.081232
         ],
         "line": {
          "color": "red",
          "width": 1
         },
         "lon": [
          -89.396803,
          -89.365346
         ],
         "mode": "lines",
         "type": "scattergeo"
        },
        {
         "lat": [
          43.074837,
          43.074208
         ],
         "line": {
          "color": "red",
          "width": 1
         },
         "lon": [
          -89.396803,
          -89.47383
         ],
         "mode": "lines",
         "type": "scattergeo"
        },
        {
         "lat": [
          43.074837,
          43.11295
         ],
         "line": {
          "color": "red",
          "width": 1
         },
         "lon": [
          -89.396803,
          -89.35855
         ],
         "mode": "lines",
         "type": "scattergeo"
        },
        {
         "lat": [
          43.059929,
          43.065159
         ],
         "line": {
          "color": "red",
          "width": 1
         },
         "lon": [
          -89.403805,
          -89.403999
         ],
         "mode": "lines",
         "type": "scattergeo"
        },
        {
         "lat": [
          43.03858,
          43.071061
         ],
         "line": {
          "color": "red",
          "width": 1
         },
         "lon": [
          -89.40307,
          -89.407019
         ],
         "mode": "lines",
         "type": "scattergeo"
        },
        {
         "lat": [
          43.03858,
          43.096919
         ],
         "line": {
          "color": "red",
          "width": 1
         },
         "lon": [
          -89.40307,
          -89.35142
         ],
         "mode": "lines",
         "type": "scattergeo"
        },
        {
         "lat": [
          43.03858,
          43.081154
         ],
         "line": {
          "color": "red",
          "width": 1
         },
         "lon": [
          -89.40307,
          -89.507003
         ],
         "mode": "lines",
         "type": "scattergeo"
        },
        {
         "lat": [
          43.044443,
          43.098138
         ],
         "line": {
          "color": "red",
          "width": 1
         },
         "lon": [
          -89.403831,
          -89.326231
         ],
         "mode": "lines",
         "type": "scattergeo"
        },
        {
         "lat": [
          43.044443,
          43.106774
         ],
         "line": {
          "color": "red",
          "width": 1
         },
         "lon": [
          -89.403831,
          -89.347619
         ],
         "mode": "lines",
         "type": "scattergeo"
        },
        {
         "lat": [
          43.044443,
          43.074391
         ],
         "line": {
          "color": "red",
          "width": 1
         },
         "lon": [
          -89.403831,
          -89.378801
         ],
         "mode": "lines",
         "type": "scattergeo"
        },
        {
         "lat": [
          43.075047,
          43.07876
         ],
         "line": {
          "color": "red",
          "width": 1
         },
         "lon": [
          -89.406479,
          -89.378724
         ],
         "mode": "lines",
         "type": "scattergeo"
        },
        {
         "lat": [
          43.075047,
          43.076388
         ],
         "line": {
          "color": "red",
          "width": 1
         },
         "lon": [
          -89.406479,
          -89.381564
         ],
         "mode": "lines",
         "type": "scattergeo"
        },
        {
         "lat": [
          43.071687,
          43.079964
         ],
         "line": {
          "color": "red",
          "width": 1
         },
         "lon": [
          -89.392872,
          -89.509348
         ],
         "mode": "lines",
         "type": "scattergeo"
        },
        {
         "lat": [
          43.051775,
          43.075898
         ],
         "line": {
          "color": "red",
          "width": 1
         },
         "lon": [
          -89.399231,
          -89.376695
         ],
         "mode": "lines",
         "type": "scattergeo"
        },
        {
         "lat": [
          43.073288,
          43.038506
         ],
         "line": {
          "color": "red",
          "width": 1
         },
         "lon": [
          -89.396135,
          -89.398039
         ],
         "mode": "lines",
         "type": "scattergeo"
        },
        {
         "lat": [
          43.073288,
          43.07894
         ],
         "line": {
          "color": "red",
          "width": 1
         },
         "lon": [
          -89.396135,
          -89.426722
         ],
         "mode": "lines",
         "type": "scattergeo"
        },
        {
         "lat": [
          43.07477,
          43.098138
         ],
         "line": {
          "color": "red",
          "width": 1
         },
         "lon": [
          -89.390277,
          -89.326231
         ],
         "mode": "lines",
         "type": "scattergeo"
        },
        {
         "lat": [
          43.074745,
          43.074989
         ],
         "line": {
          "color": "red",
          "width": 1
         },
         "lon": [
          -89.388354,
          -89.382342
         ],
         "mode": "lines",
         "type": "scattergeo"
        },
        {
         "lat": [
          43.073372,
          43.076728
         ],
         "line": {
          "color": "red",
          "width": 1
         },
         "lon": [
          -89.383802,
          -89.502157
         ],
         "mode": "lines",
         "type": "scattergeo"
        },
        {
         "lat": [
          43.093708,
          43.081232
         ],
         "line": {
          "color": "red",
          "width": 1
         },
         "lon": [
          -89.357055,
          -89.365346
         ],
         "mode": "lines",
         "type": "scattergeo"
        },
        {
         "lat": [
          43.093708,
          43.074097
         ],
         "line": {
          "color": "red",
          "width": 1
         },
         "lon": [
          -89.357055,
          -89.467913
         ],
         "mode": "lines",
         "type": "scattergeo"
        },
        {
         "lat": [
          43.093708,
          43.074948
         ],
         "line": {
          "color": "red",
          "width": 1
         },
         "lon": [
          -89.357055,
          -89.518262
         ],
         "mode": "lines",
         "type": "scattergeo"
        },
        {
         "lat": [
          43.106729,
          43.074745
         ],
         "line": {
          "color": "red",
          "width": 1
         },
         "lon": [
          -89.343158,
          -89.388354
         ],
         "mode": "lines",
         "type": "scattergeo"
        },
        {
         "lat": [
          43.106729,
          43.073724
         ],
         "line": {
          "color": "red",
          "width": 1
         },
         "lon": [
          -89.343158,
          -89.385494
         ],
         "mode": "lines",
         "type": "scattergeo"
        },
        {
         "lat": [
          43.106729,
          43.100083
         ],
         "line": {
          "color": "red",
          "width": 1
         },
         "lon": [
          -89.343158,
          -89.346548
         ],
         "mode": "lines",
         "type": "scattergeo"
        },
        {
         "lat": [
          43.106774,
          43.095915
         ],
         "line": {
          "color": "red",
          "width": 1
         },
         "lon": [
          -89.347619,
          -89.354118
         ],
         "mode": "lines",
         "type": "scattergeo"
        },
        {
         "lat": [
          43.095915,
          43.075047
         ],
         "line": {
          "color": "red",
          "width": 1
         },
         "lon": [
          -89.354118,
          -89.406479
         ],
         "mode": "lines",
         "type": "scattergeo"
        },
        {
         "lat": [
          43.075898,
          43.041663
         ],
         "line": {
          "color": "red",
          "width": 1
         },
         "lon": [
          -89.376695,
          -89.404071
         ],
         "mode": "lines",
         "type": "scattergeo"
        },
        {
         "lat": [
          43.075898,
          43.064351
         ],
         "line": {
          "color": "red",
          "width": 1
         },
         "lon": [
          -89.376695,
          -89.51728
         ],
         "mode": "lines",
         "type": "scattergeo"
        },
        {
         "lat": [
          43.073724,
          43.095276
         ],
         "line": {
          "color": "red",
          "width": 1
         },
         "lon": [
          -89.385494,
          -89.352591
         ],
         "mode": "lines",
         "type": "scattergeo"
        },
        {
         "lat": [
          43.073724,
          43.081273
         ],
         "line": {
          "color": "red",
          "width": 1
         },
         "lon": [
          -89.385494,
          -89.375129
         ],
         "mode": "lines",
         "type": "scattergeo"
        },
        {
         "lat": [
          43.073724,
          43.089721
         ],
         "line": {
          "color": "red",
          "width": 1
         },
         "lon": [
          -89.385494,
          -89.437322
         ],
         "mode": "lines",
         "type": "scattergeo"
        },
        {
         "lat": [
          43.077878,
          43.054058
         ],
         "line": {
          "color": "red",
          "width": 1
         },
         "lon": [
          -89.370083,
          -89.39913
         ],
         "mode": "lines",
         "type": "scattergeo"
        },
        {
         "lat": [
          43.077878,
          43.07894
         ],
         "line": {
          "color": "red",
          "width": 1
         },
         "lon": [
          -89.370083,
          -89.426722
         ],
         "mode": "lines",
         "type": "scattergeo"
        },
        {
         "lat": [
          43.080257,
          43.070977
         ],
         "line": {
          "color": "red",
          "width": 1
         },
         "lon": [
          -89.366954,
          -89.403744
         ],
         "mode": "lines",
         "type": "scattergeo"
        },
        {
         "lat": [
          43.085012,
          43.074073
         ],
         "line": {
          "color": "red",
          "width": 1
         },
         "lon": [
          -89.369346,
          -89.392419
         ],
         "mode": "lines",
         "type": "scattergeo"
        },
        {
         "lat": [
          43.085012,
          43.098507
         ],
         "line": {
          "color": "red",
          "width": 1
         },
         "lon": [
          -89.369346,
          -89.350738
         ],
         "mode": "lines",
         "type": "scattergeo"
        },
        {
         "lat": [
          43.085012,
          43.106881
         ],
         "line": {
          "color": "red",
          "width": 1
         },
         "lon": [
          -89.369346,
          -89.345137
         ],
         "mode": "lines",
         "type": "scattergeo"
        },
        {
         "lat": [
          43.085012,
          43.087276
         ],
         "line": {
          "color": "red",
          "width": 1
         },
         "lon": [
          -89.369346,
          -89.366583
         ],
         "mode": "lines",
         "type": "scattergeo"
        },
        {
         "lat": [
          43.085012,
          43.076434
         ],
         "line": {
          "color": "red",
          "width": 1
         },
         "lon": [
          -89.369346,
          -89.420364
         ],
         "mode": "lines",
         "type": "scattergeo"
        },
        {
         "lat": [
          43.096919,
          43.087276
         ],
         "line": {
          "color": "red",
          "width": 1
         },
         "lon": [
          -89.35142,
          -89.366583
         ],
         "mode": "lines",
         "type": "scattergeo"
        },
        {
         "lat": [
          43.085865,
          43.074878
         ],
         "line": {
          "color": "red",
          "width": 1
         },
         "lon": [
          -89.360575,
          -89.438444
         ],
         "mode": "lines",
         "type": "scattergeo"
        },
        {
         "lat": [
          43.074391,
          43.07876
         ],
         "line": {
          "color": "red",
          "width": 1
         },
         "lon": [
          -89.378801,
          -89.378724
         ],
         "mode": "lines",
         "type": "scattergeo"
        },
        {
         "lat": [
          43.098507,
          43.074745
         ],
         "line": {
          "color": "red",
          "width": 1
         },
         "lon": [
          -89.350738,
          -89.388354
         ],
         "mode": "lines",
         "type": "scattergeo"
        },
        {
         "lat": [
          43.091982,
          43.090108
         ],
         "line": {
          "color": "red",
          "width": 1
         },
         "lon": [
          -89.359354,
          -89.362594
         ],
         "mode": "lines",
         "type": "scattergeo"
        },
        {
         "lat": [
          43.091982,
          43.083716
         ],
         "line": {
          "color": "red",
          "width": 1
         },
         "lon": [
          -89.359354,
          -89.362013
         ],
         "mode": "lines",
         "type": "scattergeo"
        },
        {
         "lat": [
          43.094233,
          43.106881
         ],
         "line": {
          "color": "red",
          "width": 1
         },
         "lon": [
          -89.35359,
          -89.345137
         ],
         "mode": "lines",
         "type": "scattergeo"
        },
        {
         "lat": [
          43.094233,
          43.075451
         ],
         "line": {
          "color": "red",
          "width": 1
         },
         "lon": [
          -89.35359,
          -89.456624
         ],
         "mode": "lines",
         "type": "scattergeo"
        },
        {
         "lat": [
          43.074933,
          43.098138
         ],
         "line": {
          "color": "red",
          "width": 1
         },
         "lon": [
          -89.386107,
          -89.326231
         ],
         "mode": "lines",
         "type": "scattergeo"
        },
        {
         "lat": [
          43.074933,
          43.074391
         ],
         "line": {
          "color": "red",
          "width": 1
         },
         "lon": [
          -89.386107,
          -89.378801
         ],
         "mode": "lines",
         "type": "scattergeo"
        },
        {
         "lat": [
          43.074933,
          43.075183
         ],
         "line": {
          "color": "red",
          "width": 1
         },
         "lon": [
          -89.386107,
          -89.497947
         ],
         "mode": "lines",
         "type": "scattergeo"
        },
        {
         "lat": [
          43.076388,
          43.098138
         ],
         "line": {
          "color": "red",
          "width": 1
         },
         "lon": [
          -89.381564,
          -89.326231
         ],
         "mode": "lines",
         "type": "scattergeo"
        },
        {
         "lat": [
          43.106881,
          43.098507
         ],
         "line": {
          "color": "red",
          "width": 1
         },
         "lon": [
          -89.345137,
          -89.350738
         ],
         "mode": "lines",
         "type": "scattergeo"
        },
        {
         "lat": [
          43.106881,
          43.08238
         ],
         "line": {
          "color": "red",
          "width": 1
         },
         "lon": [
          -89.345137,
          -89.373012
         ],
         "mode": "lines",
         "type": "scattergeo"
        },
        {
         "lat": [
          43.095276,
          43.080257
         ],
         "line": {
          "color": "red",
          "width": 1
         },
         "lon": [
          -89.352591,
          -89.366954
         ],
         "mode": "lines",
         "type": "scattergeo"
        },
        {
         "lat": [
          43.095276,
          43.075451
         ],
         "line": {
          "color": "red",
          "width": 1
         },
         "lon": [
          -89.352591,
          -89.456624
         ],
         "mode": "lines",
         "type": "scattergeo"
        },
        {
         "lat": [
          43.095276,
          43.072384
         ],
         "line": {
          "color": "red",
          "width": 1
         },
         "lon": [
          -89.352591,
          -89.520026
         ],
         "mode": "lines",
         "type": "scattergeo"
        },
        {
         "lat": [
          43.114269,
          43.080257
         ],
         "line": {
          "color": "red",
          "width": 1
         },
         "lon": [
          -89.357265,
          -89.366954
         ],
         "mode": "lines",
         "type": "scattergeo"
        },
        {
         "lat": [
          43.081273,
          43.075898
         ],
         "line": {
          "color": "red",
          "width": 1
         },
         "lon": [
          -89.375129,
          -89.376695
         ],
         "mode": "lines",
         "type": "scattergeo"
        },
        {
         "lat": [
          43.081273,
          43.07876
         ],
         "line": {
          "color": "red",
          "width": 1
         },
         "lon": [
          -89.375129,
          -89.378724
         ],
         "mode": "lines",
         "type": "scattergeo"
        },
        {
         "lat": [
          43.081273,
          43.074208
         ],
         "line": {
          "color": "red",
          "width": 1
         },
         "lon": [
          -89.375129,
          -89.47383
         ],
         "mode": "lines",
         "type": "scattergeo"
        },
        {
         "lat": [
          43.106876,
          43.038541
         ],
         "line": {
          "color": "red",
          "width": 1
         },
         "lon": [
          -89.351865,
          -89.401184
         ],
         "mode": "lines",
         "type": "scattergeo"
        },
        {
         "lat": [
          43.106876,
          43.041663
         ],
         "line": {
          "color": "red",
          "width": 1
         },
         "lon": [
          -89.351865,
          -89.404071
         ],
         "mode": "lines",
         "type": "scattergeo"
        },
        {
         "lat": [
          43.106876,
          43.10016
         ],
         "line": {
          "color": "red",
          "width": 1
         },
         "lon": [
          -89.351865,
          -89.349162
         ],
         "mode": "lines",
         "type": "scattergeo"
        },
        {
         "lat": [
          43.090108,
          43.074073
         ],
         "line": {
          "color": "red",
          "width": 1
         },
         "lon": [
          -89.362594,
          -89.392419
         ],
         "mode": "lines",
         "type": "scattergeo"
        },
        {
         "lat": [
          43.07695,
          43.044443
         ],
         "line": {
          "color": "red",
          "width": 1
         },
         "lon": [
          -89.373573,
          -89.403831
         ],
         "mode": "lines",
         "type": "scattergeo"
        },
        {
         "lat": [
          43.07695,
          43.080257
         ],
         "line": {
          "color": "red",
          "width": 1
         },
         "lon": [
          -89.373573,
          -89.366954
         ],
         "mode": "lines",
         "type": "scattergeo"
        },
        {
         "lat": [
          43.099981,
          43.080257
         ],
         "line": {
          "color": "red",
          "width": 1
         },
         "lon": [
          -89.341378,
          -89.366954
         ],
         "mode": "lines",
         "type": "scattergeo"
        },
        {
         "lat": [
          43.099981,
          43.090519
         ],
         "line": {
          "color": "red",
          "width": 1
         },
         "lon": [
          -89.341378,
          -89.435668
         ],
         "mode": "lines",
         "type": "scattergeo"
        },
        {
         "lat": [
          43.081232,
          43.07481
         ],
         "line": {
          "color": "red",
          "width": 1
         },
         "lon": [
          -89.365346,
          -89.393712
         ],
         "mode": "lines",
         "type": "scattergeo"
        },
        {
         "lat": [
          43.081232,
          43.098507
         ],
         "line": {
          "color": "red",
          "width": 1
         },
         "lon": [
          -89.365346,
          -89.350738
         ],
         "mode": "lines",
         "type": "scattergeo"
        },
        {
         "lat": [
          43.081232,
          43.094233
         ],
         "line": {
          "color": "red",
          "width": 1
         },
         "lon": [
          -89.365346,
          -89.35359
         ],
         "mode": "lines",
         "type": "scattergeo"
        },
        {
         "lat": [
          43.081232,
          43.089334
         ],
         "line": {
          "color": "red",
          "width": 1
         },
         "lon": [
          -89.365346,
          -89.433693
         ],
         "mode": "lines",
         "type": "scattergeo"
        },
        {
         "lat": [
          43.083716,
          43.073353
         ],
         "line": {
          "color": "red",
          "width": 1
         },
         "lon": [
          -89.362013,
          -89.401358
         ],
         "mode": "lines",
         "type": "scattergeo"
        },
        {
         "lat": [
          43.083716,
          43.076457
         ],
         "line": {
          "color": "red",
          "width": 1
         },
         "lon": [
          -89.362013,
          -89.423976
         ],
         "mode": "lines",
         "type": "scattergeo"
        },
        {
         "lat": [
          43.083716,
          43.086348
         ],
         "line": {
          "color": "red",
          "width": 1
         },
         "lon": [
          -89.362013,
          -89.433704
         ],
         "mode": "lines",
         "type": "scattergeo"
        },
        {
         "lat": [
          43.083716,
          43.086325
         ],
         "line": {
          "color": "red",
          "width": 1
         },
         "lon": [
          -89.362013,
          -89.438598
         ],
         "mode": "lines",
         "type": "scattergeo"
        },
        {
         "lat": [
          43.078962,
          43.075181
         ],
         "line": {
          "color": "red",
          "width": 1
         },
         "lon": [
          -89.368721,
          -89.410405
         ],
         "mode": "lines",
         "type": "scattergeo"
        },
        {
         "lat": [
          43.078962,
          43.099848
         ],
         "line": {
          "color": "red",
          "width": 1
         },
         "lon": [
          -89.368721,
          -89.335432
         ],
         "mode": "lines",
         "type": "scattergeo"
        },
        {
         "lat": [
          43.08238,
          43.074391
         ],
         "line": {
          "color": "red",
          "width": 1
         },
         "lon": [
          -89.373012,
          -89.378801
         ],
         "mode": "lines",
         "type": "scattergeo"
        },
        {
         "lat": [
          43.08238,
          43.08245
         ],
         "line": {
          "color": "red",
          "width": 1
         },
         "lon": [
          -89.373012,
          -89.363518
         ],
         "mode": "lines",
         "type": "scattergeo"
        },
        {
         "lat": [
          43.087276,
          43.054058
         ],
         "line": {
          "color": "red",
          "width": 1
         },
         "lon": [
          -89.366583,
          -89.39913
         ],
         "mode": "lines",
         "type": "scattergeo"
        },
        {
         "lat": [
          43.104027,
          43.075181
         ],
         "line": {
          "color": "red",
          "width": 1
         },
         "lon": [
          -89.343202,
          -89.410405
         ],
         "mode": "lines",
         "type": "scattergeo"
        },
        {
         "lat": [
          43.104027,
          43.098615
         ],
         "line": {
          "color": "red",
          "width": 1
         },
         "lon": [
          -89.343202,
          -89.329604
         ],
         "mode": "lines",
         "type": "scattergeo"
        },
        {
         "lat": [
          43.104027,
          43.085865
         ],
         "line": {
          "color": "red",
          "width": 1
         },
         "lon": [
          -89.343202,
          -89.360575
         ],
         "mode": "lines",
         "type": "scattergeo"
        },
        {
         "lat": [
          43.090551,
          43.075451
         ],
         "line": {
          "color": "red",
          "width": 1
         },
         "lon": [
          -89.356518,
          -89.456624
         ],
         "mode": "lines",
         "type": "scattergeo"
        },
        {
         "lat": [
          43.089334,
          43.10016
         ],
         "line": {
          "color": "red",
          "width": 1
         },
         "lon": [
          -89.433693,
          -89.349162
         ],
         "mode": "lines",
         "type": "scattergeo"
        },
        {
         "lat": [
          43.089334,
          43.086637
         ],
         "line": {
          "color": "red",
          "width": 1
         },
         "lon": [
          -89.433693,
          -89.441761
         ],
         "mode": "lines",
         "type": "scattergeo"
        },
        {
         "lat": [
          43.089334,
          43.07894
         ],
         "line": {
          "color": "red",
          "width": 1
         },
         "lon": [
          -89.433693,
          -89.426722
         ],
         "mode": "lines",
         "type": "scattergeo"
        },
        {
         "lat": [
          43.086257,
          43.071687
         ],
         "line": {
          "color": "red",
          "width": 1
         },
         "lon": [
          -89.434878,
          -89.392872
         ],
         "mode": "lines",
         "type": "scattergeo"
        },
        {
         "lat": [
          43.086257,
          43.076046
         ],
         "line": {
          "color": "red",
          "width": 1
         },
         "lon": [
          -89.434878,
          -89.384707
         ],
         "mode": "lines",
         "type": "scattergeo"
        },
        {
         "lat": [
          43.078849,
          43.051775
         ],
         "line": {
          "color": "red",
          "width": 1
         },
         "lon": [
          -89.429817,
          -89.399231
         ],
         "mode": "lines",
         "type": "scattergeo"
        },
        {
         "lat": [
          43.086191,
          43.062942
         ],
         "line": {
          "color": "red",
          "width": 1
         },
         "lon": [
          -89.436434,
          -89.404119
         ],
         "mode": "lines",
         "type": "scattergeo"
        },
        {
         "lat": [
          43.086191,
          43.073403
         ],
         "line": {
          "color": "red",
          "width": 1
         },
         "lon": [
          -89.436434,
          -89.403854
         ],
         "mode": "lines",
         "type": "scattergeo"
        },
        {
         "lat": [
          43.086191,
          43.07481
         ],
         "line": {
          "color": "red",
          "width": 1
         },
         "lon": [
          -89.436434,
          -89.393712
         ],
         "mode": "lines",
         "type": "scattergeo"
        },
        {
         "lat": [
          43.086191,
          43.080257
         ],
         "line": {
          "color": "red",
          "width": 1
         },
         "lon": [
          -89.436434,
          -89.366954
         ],
         "mode": "lines",
         "type": "scattergeo"
        },
        {
         "lat": [
          43.080289,
          43.079964
         ],
         "line": {
          "color": "red",
          "width": 1
         },
         "lon": [
          -89.428136,
          -89.509348
         ],
         "mode": "lines",
         "type": "scattergeo"
        },
        {
         "lat": [
          43.086348,
          43.073403
         ],
         "line": {
          "color": "red",
          "width": 1
         },
         "lon": [
          -89.433704,
          -89.403854
         ],
         "mode": "lines",
         "type": "scattergeo"
        },
        {
         "lat": [
          43.086348,
          43.096919
         ],
         "line": {
          "color": "red",
          "width": 1
         },
         "lon": [
          -89.433704,
          -89.35142
         ],
         "mode": "lines",
         "type": "scattergeo"
        },
        {
         "lat": [
          43.086348,
          43.076728
         ],
         "line": {
          "color": "red",
          "width": 1
         },
         "lon": [
          -89.433704,
          -89.502157
         ],
         "mode": "lines",
         "type": "scattergeo"
        },
        {
         "lat": [
          43.089087,
          43.077878
         ],
         "line": {
          "color": "red",
          "width": 1
         },
         "lon": [
          -89.438266,
          -89.370083
         ],
         "mode": "lines",
         "type": "scattergeo"
        },
        {
         "lat": [
          43.084275,
          43.041663
         ],
         "line": {
          "color": "red",
          "width": 1
         },
         "lon": [
          -89.433568,
          -89.404071
         ],
         "mode": "lines",
         "type": "scattergeo"
        },
        {
         "lat": [
          43.084275,
          43.078849
         ],
         "line": {
          "color": "red",
          "width": 1
         },
         "lon": [
          -89.433568,
          -89.429817
         ],
         "mode": "lines",
         "type": "scattergeo"
        },
        {
         "lat": [
          43.086637,
          43.041663
         ],
         "line": {
          "color": "red",
          "width": 1
         },
         "lon": [
          -89.441761,
          -89.404071
         ],
         "mode": "lines",
         "type": "scattergeo"
        },
        {
         "lat": [
          43.089721,
          43.074849
         ],
         "line": {
          "color": "red",
          "width": 1
         },
         "lon": [
          -89.437322,
          -89.3914
         ],
         "mode": "lines",
         "type": "scattergeo"
        },
        {
         "lat": [
          43.089721,
          43.076388
         ],
         "line": {
          "color": "red",
          "width": 1
         },
         "lon": [
          -89.437322,
          -89.381564
         ],
         "mode": "lines",
         "type": "scattergeo"
        },
        {
         "lat": [
          43.089721,
          43.075156
         ],
         "line": {
          "color": "red",
          "width": 1
         },
         "lon": [
          -89.437322,
          -89.488765
         ],
         "mode": "lines",
         "type": "scattergeo"
        },
        {
         "lat": [
          43.090519,
          43.038506
         ],
         "line": {
          "color": "red",
          "width": 1
         },
         "lon": [
          -89.435668,
          -89.398039
         ],
         "mode": "lines",
         "type": "scattergeo"
        },
        {
         "lat": [
          43.090519,
          43.0874
         ],
         "line": {
          "color": "red",
          "width": 1
         },
         "lon": [
          -89.435668,
          -89.359165
         ],
         "mode": "lines",
         "type": "scattergeo"
        },
        {
         "lat": [
          43.090519,
          43.114269
         ],
         "line": {
          "color": "red",
          "width": 1
         },
         "lon": [
          -89.435668,
          -89.357265
         ],
         "mode": "lines",
         "type": "scattergeo"
        },
        {
         "lat": [
          43.090519,
          43.090108
         ],
         "line": {
          "color": "red",
          "width": 1
         },
         "lon": [
          -89.435668,
          -89.362594
         ],
         "mode": "lines",
         "type": "scattergeo"
        },
        {
         "lat": [
          43.090519,
          43.086637
         ],
         "line": {
          "color": "red",
          "width": 1
         },
         "lon": [
          -89.435668,
          -89.441761
         ],
         "mode": "lines",
         "type": "scattergeo"
        },
        {
         "lat": [
          43.090519,
          43.075148
         ],
         "line": {
          "color": "red",
          "width": 1
         },
         "lon": [
          -89.435668,
          -89.512563
         ],
         "mode": "lines",
         "type": "scattergeo"
        },
        {
         "lat": [
          43.086325,
          43.081137
         ],
         "line": {
          "color": "red",
          "width": 1
         },
         "lon": [
          -89.438598,
          -89.502575
         ],
         "mode": "lines",
         "type": "scattergeo"
        },
        {
         "lat": [
          43.07703,
          43.078849
         ],
         "line": {
          "color": "red",
          "width": 1
         },
         "lon": [
          -89.428301,
          -89.429817
         ],
         "mode": "lines",
         "type": "scattergeo"
        },
        {
         "lat": [
          43.07703,
          43.080289
         ],
         "line": {
          "color": "red",
          "width": 1
         },
         "lon": [
          -89.428301,
          -89.428136
         ],
         "mode": "lines",
         "type": "scattergeo"
        },
        {
         "lat": [
          43.076409,
          43.076046
         ],
         "line": {
          "color": "red",
          "width": 1
         },
         "lon": [
          -89.413023,
          -89.384707
         ],
         "mode": "lines",
         "type": "scattergeo"
        },
        {
         "lat": [
          43.076409,
          43.074933
         ],
         "line": {
          "color": "red",
          "width": 1
         },
         "lon": [
          -89.413023,
          -89.386107
         ],
         "mode": "lines",
         "type": "scattergeo"
        },
        {
         "lat": [
          43.076409,
          43.090519
         ],
         "line": {
          "color": "red",
          "width": 1
         },
         "lon": [
          -89.413023,
          -89.435668
         ],
         "mode": "lines",
         "type": "scattergeo"
        },
        {
         "lat": [
          43.076409,
          43.075451
         ],
         "line": {
          "color": "red",
          "width": 1
         },
         "lon": [
          -89.413023,
          -89.456624
         ],
         "mode": "lines",
         "type": "scattergeo"
        },
        {
         "lat": [
          43.076409,
          43.073376
         ],
         "line": {
          "color": "red",
          "width": 1
         },
         "lon": [
          -89.413023,
          -89.43397
         ],
         "mode": "lines",
         "type": "scattergeo"
        },
        {
         "lat": [
          43.076409,
          43.075156
         ],
         "line": {
          "color": "red",
          "width": 1
         },
         "lon": [
          -89.413023,
          -89.488765
         ],
         "mode": "lines",
         "type": "scattergeo"
        },
        {
         "lat": [
          43.075163,
          43.099848
         ],
         "line": {
          "color": "red",
          "width": 1
         },
         "lon": [
          -89.450399,
          -89.335432
         ],
         "mode": "lines",
         "type": "scattergeo"
        },
        {
         "lat": [
          43.075163,
          43.074673
         ],
         "line": {
          "color": "red",
          "width": 1
         },
         "lon": [
          -89.450399,
          -89.464546
         ],
         "mode": "lines",
         "type": "scattergeo"
        },
        {
         "lat": [
          43.075163,
          43.075156
         ],
         "line": {
          "color": "red",
          "width": 1
         },
         "lon": [
          -89.450399,
          -89.488765
         ],
         "mode": "lines",
         "type": "scattergeo"
        },
        {
         "lat": [
          43.074208,
          43.081137
         ],
         "line": {
          "color": "red",
          "width": 1
         },
         "lon": [
          -89.47383,
          -89.502575
         ],
         "mode": "lines",
         "type": "scattergeo"
        },
        {
         "lat": [
          43.074097,
          43.078849
         ],
         "line": {
          "color": "red",
          "width": 1
         },
         "lon": [
          -89.467913,
          -89.429817
         ],
         "mode": "lines",
         "type": "scattergeo"
        },
        {
         "lat": [
          43.074097,
          43.07703
         ],
         "line": {
          "color": "red",
          "width": 1
         },
         "lon": [
          -89.467913,
          -89.428301
         ],
         "mode": "lines",
         "type": "scattergeo"
        },
        {
         "lat": [
          43.0754,
          43.074745
         ],
         "line": {
          "color": "red",
          "width": 1
         },
         "lon": [
          -89.447056,
          -89.388354
         ],
         "mode": "lines",
         "type": "scattergeo"
        },
        {
         "lat": [
          43.0754,
          43.075183
         ],
         "line": {
          "color": "red",
          "width": 1
         },
         "lon": [
          -89.447056,
          -89.497947
         ],
         "mode": "lines",
         "type": "scattergeo"
        },
        {
         "lat": [
          43.074878,
          43.062942
         ],
         "line": {
          "color": "red",
          "width": 1
         },
         "lon": [
          -89.438444,
          -89.404119
         ],
         "mode": "lines",
         "type": "scattergeo"
        },
        {
         "lat": [
          43.074878,
          43.07876
         ],
         "line": {
          "color": "red",
          "width": 1
         },
         "lon": [
          -89.438444,
          -89.378724
         ],
         "mode": "lines",
         "type": "scattergeo"
        },
        {
         "lat": [
          43.075451,
          43.07481
         ],
         "line": {
          "color": "red",
          "width": 1
         },
         "lon": [
          -89.456624,
          -89.393712
         ],
         "mode": "lines",
         "type": "scattergeo"
        },
        {
         "lat": [
          43.073376,
          43.074837
         ],
         "line": {
          "color": "red",
          "width": 1
         },
         "lon": [
          -89.43397,
          -89.396803
         ],
         "mode": "lines",
         "type": "scattergeo"
        },
        {
         "lat": [
          43.074673,
          43.104027
         ],
         "line": {
          "color": "red",
          "width": 1
         },
         "lon": [
          -89.464546,
          -89.343202
         ],
         "mode": "lines",
         "type": "scattergeo"
        },
        {
         "lat": [
          43.074673,
          43.07894
         ],
         "line": {
          "color": "red",
          "width": 1
         },
         "lon": [
          -89.464546,
          -89.426722
         ],
         "mode": "lines",
         "type": "scattergeo"
        },
        {
         "lat": [
          43.075113,
          43.070977
         ],
         "line": {
          "color": "red",
          "width": 1
         },
         "lon": [
          -89.443898,
          -89.403744
         ],
         "mode": "lines",
         "type": "scattergeo"
        },
        {
         "lat": [
          43.075113,
          43.073353
         ],
         "line": {
          "color": "red",
          "width": 1
         },
         "lon": [
          -89.443898,
          -89.401358
         ],
         "mode": "lines",
         "type": "scattergeo"
        },
        {
         "lat": [
          43.075113,
          43.08245
         ],
         "line": {
          "color": "red",
          "width": 1
         },
         "lon": [
          -89.443898,
          -89.363518
         ],
         "mode": "lines",
         "type": "scattergeo"
        },
        {
         "lat": [
          43.084239,
          43.075087
         ],
         "line": {
          "color": "red",
          "width": 1
         },
         "lon": [
          -89.428972,
          -89.509374
         ],
         "mode": "lines",
         "type": "scattergeo"
        },
        {
         "lat": [
          43.039,
          43.075897
         ],
         "line": {
          "color": "red",
          "width": 1
         },
         "lon": [
          -89.3948,
          -89.400235
         ],
         "mode": "lines",
         "type": "scattergeo"
        },
        {
         "lat": [
          43.039,
          43.074837
         ],
         "line": {
          "color": "red",
          "width": 1
         },
         "lon": [
          -89.3948,
          -89.396803
         ],
         "mode": "lines",
         "type": "scattergeo"
        },
        {
         "lat": [
          43.039,
          43.073288
         ],
         "line": {
          "color": "red",
          "width": 1
         },
         "lon": [
          -89.3948,
          -89.396135
         ],
         "mode": "lines",
         "type": "scattergeo"
        },
        {
         "lat": [
          43.11295,
          43.076457
         ],
         "line": {
          "color": "red",
          "width": 1
         },
         "lon": [
          -89.35855,
          -89.423976
         ],
         "mode": "lines",
         "type": "scattergeo"
        },
        {
         "lat": [
          43.075183,
          43.07607
         ],
         "line": {
          "color": "red",
          "width": 1
         },
         "lon": [
          -89.497947,
          -89.405625
         ],
         "mode": "lines",
         "type": "scattergeo"
        },
        {
         "lat": [
          43.075183,
          43.044443
         ],
         "line": {
          "color": "red",
          "width": 1
         },
         "lon": [
          -89.497947,
          -89.403831
         ],
         "mode": "lines",
         "type": "scattergeo"
        },
        {
         "lat": [
          43.075183,
          43.071687
         ],
         "line": {
          "color": "red",
          "width": 1
         },
         "lon": [
          -89.497947,
          -89.392872
         ],
         "mode": "lines",
         "type": "scattergeo"
        },
        {
         "lat": [
          43.075183,
          43.0874
         ],
         "line": {
          "color": "red",
          "width": 1
         },
         "lon": [
          -89.497947,
          -89.359165
         ],
         "mode": "lines",
         "type": "scattergeo"
        },
        {
         "lat": [
          43.075183,
          43.089721
         ],
         "line": {
          "color": "red",
          "width": 1
         },
         "lon": [
          -89.497947,
          -89.437322
         ],
         "mode": "lines",
         "type": "scattergeo"
        },
        {
         "lat": [
          43.072384,
          43.073506
         ],
         "line": {
          "color": "red",
          "width": 1
         },
         "lon": [
          -89.520026,
          -89.409433
         ],
         "mode": "lines",
         "type": "scattergeo"
        },
        {
         "lat": [
          43.072384,
          43.089334
         ],
         "line": {
          "color": "red",
          "width": 1
         },
         "lon": [
          -89.520026,
          -89.433693
         ],
         "mode": "lines",
         "type": "scattergeo"
        },
        {
         "lat": [
          43.072384,
          43.081137
         ],
         "line": {
          "color": "red",
          "width": 1
         },
         "lon": [
          -89.520026,
          -89.502575
         ],
         "mode": "lines",
         "type": "scattergeo"
        },
        {
         "lat": [
          43.075164,
          43.070914
         ],
         "line": {
          "color": "red",
          "width": 1
         },
         "lon": [
          -89.481637,
          -89.399689
         ],
         "mode": "lines",
         "type": "scattergeo"
        },
        {
         "lat": [
          43.075164,
          43.081273
         ],
         "line": {
          "color": "red",
          "width": 1
         },
         "lon": [
          -89.481637,
          -89.375129
         ],
         "mode": "lines",
         "type": "scattergeo"
        },
        {
         "lat": [
          43.075164,
          43.090108
         ],
         "line": {
          "color": "red",
          "width": 1
         },
         "lon": [
          -89.481637,
          -89.362594
         ],
         "mode": "lines",
         "type": "scattergeo"
        },
        {
         "lat": [
          43.075164,
          43.089721
         ],
         "line": {
          "color": "red",
          "width": 1
         },
         "lon": [
          -89.481637,
          -89.437322
         ],
         "mode": "lines",
         "type": "scattergeo"
        },
        {
         "lat": [
          43.075164,
          43.073376
         ],
         "line": {
          "color": "red",
          "width": 1
         },
         "lon": [
          -89.481637,
          -89.43397
         ],
         "mode": "lines",
         "type": "scattergeo"
        },
        {
         "lat": [
          43.076728,
          43.062942
         ],
         "line": {
          "color": "red",
          "width": 1
         },
         "lon": [
          -89.502157,
          -89.404119
         ],
         "mode": "lines",
         "type": "scattergeo"
        },
        {
         "lat": [
          43.076728,
          43.094233
         ],
         "line": {
          "color": "red",
          "width": 1
         },
         "lon": [
          -89.502157,
          -89.35359
         ],
         "mode": "lines",
         "type": "scattergeo"
        },
        {
         "lat": [
          43.076728,
          43.086257
         ],
         "line": {
          "color": "red",
          "width": 1
         },
         "lon": [
          -89.502157,
          -89.434878
         ],
         "mode": "lines",
         "type": "scattergeo"
        },
        {
         "lat": [
          43.076728,
          43.084275
         ],
         "line": {
          "color": "red",
          "width": 1
         },
         "lon": [
          -89.502157,
          -89.433568
         ],
         "mode": "lines",
         "type": "scattergeo"
        },
        {
         "lat": [
          43.074948,
          43.07607
         ],
         "line": {
          "color": "red",
          "width": 1
         },
         "lon": [
          -89.518262,
          -89.405625
         ],
         "mode": "lines",
         "type": "scattergeo"
        },
        {
         "lat": [
          43.074948,
          43.074837
         ],
         "line": {
          "color": "red",
          "width": 1
         },
         "lon": [
          -89.518262,
          -89.396803
         ],
         "mode": "lines",
         "type": "scattergeo"
        },
        {
         "lat": [
          43.075156,
          43.074837
         ],
         "line": {
          "color": "red",
          "width": 1
         },
         "lon": [
          -89.488765,
          -89.396803
         ],
         "mode": "lines",
         "type": "scattergeo"
        },
        {
         "lat": [
          43.075156,
          43.091766
         ],
         "line": {
          "color": "red",
          "width": 1
         },
         "lon": [
          -89.488765,
          -89.355489
         ],
         "mode": "lines",
         "type": "scattergeo"
        },
        {
         "lat": [
          43.075156,
          43.083716
         ],
         "line": {
          "color": "red",
          "width": 1
         },
         "lon": [
          -89.488765,
          -89.362013
         ],
         "mode": "lines",
         "type": "scattergeo"
        },
        {
         "lat": [
          43.075156,
          43.08238
         ],
         "line": {
          "color": "red",
          "width": 1
         },
         "lon": [
          -89.488765,
          -89.373012
         ],
         "mode": "lines",
         "type": "scattergeo"
        },
        {
         "lat": [
          43.075087,
          43.054058
         ],
         "line": {
          "color": "red",
          "width": 1
         },
         "lon": [
          -89.509374,
          -89.39913
         ],
         "mode": "lines",
         "type": "scattergeo"
        },
        {
         "lat": [
          43.063945,
          43.070977
         ],
         "line": {
          "color": "red",
          "width": 1
         },
         "lon": [
          -89.512543,
          -89.403744
         ],
         "mode": "lines",
         "type": "scattergeo"
        },
        {
         "lat": [
          43.063945,
          43.083716
         ],
         "line": {
          "color": "red",
          "width": 1
         },
         "lon": [
          -89.512543,
          -89.362013
         ],
         "mode": "lines",
         "type": "scattergeo"
        },
        {
         "lat": [
          43.063945,
          43.074948
         ],
         "line": {
          "color": "red",
          "width": 1
         },
         "lon": [
          -89.512543,
          -89.518262
         ],
         "mode": "lines",
         "type": "scattergeo"
        },
        {
         "lat": [
          43.064351,
          43.07408
         ],
         "line": {
          "color": "red",
          "width": 1
         },
         "lon": [
          -89.51728,
          -89.406253
         ],
         "mode": "lines",
         "type": "scattergeo"
        },
        {
         "lat": [
          43.064351,
          43.099848
         ],
         "line": {
          "color": "red",
          "width": 1
         },
         "lon": [
          -89.51728,
          -89.335432
         ],
         "mode": "lines",
         "type": "scattergeo"
        },
        {
         "lat": [
          43.075148,
          43.064351
         ],
         "line": {
          "color": "red",
          "width": 1
         },
         "lon": [
          -89.512563,
          -89.51728
         ],
         "mode": "lines",
         "type": "scattergeo"
        },
        {
         "lat": [
          43.081137,
          43.078962
         ],
         "line": {
          "color": "red",
          "width": 1
         },
         "lon": [
          -89.502575,
          -89.368721
         ],
         "mode": "lines",
         "type": "scattergeo"
        },
        {
         "lat": [
          43.081137,
          43.100083
         ],
         "line": {
          "color": "red",
          "width": 1
         },
         "lon": [
          -89.502575,
          -89.346548
         ],
         "mode": "lines",
         "type": "scattergeo"
        },
        {
         "lat": [
          43.081137,
          43.07894
         ],
         "line": {
          "color": "red",
          "width": 1
         },
         "lon": [
          -89.502575,
          -89.426722
         ],
         "mode": "lines",
         "type": "scattergeo"
        },
        {
         "lat": [
          43.068066,
          43.044443
         ],
         "line": {
          "color": "red",
          "width": 1
         },
         "lon": [
          -89.517531,
          -89.403831
         ],
         "mode": "lines",
         "type": "scattergeo"
        },
        {
         "lat": [
          43.068066,
          43.07408
         ],
         "line": {
          "color": "red",
          "width": 1
         },
         "lon": [
          -89.517531,
          -89.406253
         ],
         "mode": "lines",
         "type": "scattergeo"
        },
        {
         "lat": [
          43.068066,
          43.075898
         ],
         "line": {
          "color": "red",
          "width": 1
         },
         "lon": [
          -89.517531,
          -89.376695
         ],
         "mode": "lines",
         "type": "scattergeo"
        },
        {
         "lat": [
          43.068066,
          43.089087
         ],
         "line": {
          "color": "red",
          "width": 1
         },
         "lon": [
          -89.517531,
          -89.438266
         ],
         "mode": "lines",
         "type": "scattergeo"
        },
        {
         "lat": [
          43.068066,
          43.090519
         ],
         "line": {
          "color": "red",
          "width": 1
         },
         "lon": [
          -89.517531,
          -89.435668
         ],
         "mode": "lines",
         "type": "scattergeo"
        },
        {
         "lat": [
          43.068066,
          43.075451
         ],
         "line": {
          "color": "red",
          "width": 1
         },
         "lon": [
          -89.517531,
          -89.456624
         ],
         "mode": "lines",
         "type": "scattergeo"
        },
        {
         "lat": [
          43.068066,
          43.075156
         ],
         "line": {
          "color": "red",
          "width": 1
         },
         "lon": [
          -89.517531,
          -89.488765
         ],
         "mode": "lines",
         "type": "scattergeo"
        },
        {
         "lat": [
          43.081154,
          43.106729
         ],
         "line": {
          "color": "red",
          "width": 1
         },
         "lon": [
          -89.507003,
          -89.343158
         ],
         "mode": "lines",
         "type": "scattergeo"
        },
        {
         "lat": [
          43.081154,
          43.084239
         ],
         "line": {
          "color": "red",
          "width": 1
         },
         "lon": [
          -89.507003,
          -89.428972
         ],
         "mode": "lines",
         "type": "scattergeo"
        }
       ],
       "layout": {
        "geo": {
         "countrycolor": "rgb(204, 204, 204)",
         "landcolor": "rgb(243, 243, 243)",
         "projection": {
          "type": "azimuthal equal area"
         },
         "scope": "north america",
         "showland": true
        },
        "showlegend": false,
        "template": {
         "data": {
          "bar": [
           {
            "error_x": {
             "color": "#2a3f5f"
            },
            "error_y": {
             "color": "#2a3f5f"
            },
            "marker": {
             "line": {
              "color": "#E5ECF6",
              "width": 0.5
             },
             "pattern": {
              "fillmode": "overlay",
              "size": 10,
              "solidity": 0.2
             }
            },
            "type": "bar"
           }
          ],
          "barpolar": [
           {
            "marker": {
             "line": {
              "color": "#E5ECF6",
              "width": 0.5
             },
             "pattern": {
              "fillmode": "overlay",
              "size": 10,
              "solidity": 0.2
             }
            },
            "type": "barpolar"
           }
          ],
          "carpet": [
           {
            "aaxis": {
             "endlinecolor": "#2a3f5f",
             "gridcolor": "white",
             "linecolor": "white",
             "minorgridcolor": "white",
             "startlinecolor": "#2a3f5f"
            },
            "baxis": {
             "endlinecolor": "#2a3f5f",
             "gridcolor": "white",
             "linecolor": "white",
             "minorgridcolor": "white",
             "startlinecolor": "#2a3f5f"
            },
            "type": "carpet"
           }
          ],
          "choropleth": [
           {
            "colorbar": {
             "outlinewidth": 0,
             "ticks": ""
            },
            "type": "choropleth"
           }
          ],
          "contour": [
           {
            "colorbar": {
             "outlinewidth": 0,
             "ticks": ""
            },
            "colorscale": [
             [
              0,
              "#0d0887"
             ],
             [
              0.1111111111111111,
              "#46039f"
             ],
             [
              0.2222222222222222,
              "#7201a8"
             ],
             [
              0.3333333333333333,
              "#9c179e"
             ],
             [
              0.4444444444444444,
              "#bd3786"
             ],
             [
              0.5555555555555556,
              "#d8576b"
             ],
             [
              0.6666666666666666,
              "#ed7953"
             ],
             [
              0.7777777777777778,
              "#fb9f3a"
             ],
             [
              0.8888888888888888,
              "#fdca26"
             ],
             [
              1,
              "#f0f921"
             ]
            ],
            "type": "contour"
           }
          ],
          "contourcarpet": [
           {
            "colorbar": {
             "outlinewidth": 0,
             "ticks": ""
            },
            "type": "contourcarpet"
           }
          ],
          "heatmap": [
           {
            "colorbar": {
             "outlinewidth": 0,
             "ticks": ""
            },
            "colorscale": [
             [
              0,
              "#0d0887"
             ],
             [
              0.1111111111111111,
              "#46039f"
             ],
             [
              0.2222222222222222,
              "#7201a8"
             ],
             [
              0.3333333333333333,
              "#9c179e"
             ],
             [
              0.4444444444444444,
              "#bd3786"
             ],
             [
              0.5555555555555556,
              "#d8576b"
             ],
             [
              0.6666666666666666,
              "#ed7953"
             ],
             [
              0.7777777777777778,
              "#fb9f3a"
             ],
             [
              0.8888888888888888,
              "#fdca26"
             ],
             [
              1,
              "#f0f921"
             ]
            ],
            "type": "heatmap"
           }
          ],
          "heatmapgl": [
           {
            "colorbar": {
             "outlinewidth": 0,
             "ticks": ""
            },
            "colorscale": [
             [
              0,
              "#0d0887"
             ],
             [
              0.1111111111111111,
              "#46039f"
             ],
             [
              0.2222222222222222,
              "#7201a8"
             ],
             [
              0.3333333333333333,
              "#9c179e"
             ],
             [
              0.4444444444444444,
              "#bd3786"
             ],
             [
              0.5555555555555556,
              "#d8576b"
             ],
             [
              0.6666666666666666,
              "#ed7953"
             ],
             [
              0.7777777777777778,
              "#fb9f3a"
             ],
             [
              0.8888888888888888,
              "#fdca26"
             ],
             [
              1,
              "#f0f921"
             ]
            ],
            "type": "heatmapgl"
           }
          ],
          "histogram": [
           {
            "marker": {
             "pattern": {
              "fillmode": "overlay",
              "size": 10,
              "solidity": 0.2
             }
            },
            "type": "histogram"
           }
          ],
          "histogram2d": [
           {
            "colorbar": {
             "outlinewidth": 0,
             "ticks": ""
            },
            "colorscale": [
             [
              0,
              "#0d0887"
             ],
             [
              0.1111111111111111,
              "#46039f"
             ],
             [
              0.2222222222222222,
              "#7201a8"
             ],
             [
              0.3333333333333333,
              "#9c179e"
             ],
             [
              0.4444444444444444,
              "#bd3786"
             ],
             [
              0.5555555555555556,
              "#d8576b"
             ],
             [
              0.6666666666666666,
              "#ed7953"
             ],
             [
              0.7777777777777778,
              "#fb9f3a"
             ],
             [
              0.8888888888888888,
              "#fdca26"
             ],
             [
              1,
              "#f0f921"
             ]
            ],
            "type": "histogram2d"
           }
          ],
          "histogram2dcontour": [
           {
            "colorbar": {
             "outlinewidth": 0,
             "ticks": ""
            },
            "colorscale": [
             [
              0,
              "#0d0887"
             ],
             [
              0.1111111111111111,
              "#46039f"
             ],
             [
              0.2222222222222222,
              "#7201a8"
             ],
             [
              0.3333333333333333,
              "#9c179e"
             ],
             [
              0.4444444444444444,
              "#bd3786"
             ],
             [
              0.5555555555555556,
              "#d8576b"
             ],
             [
              0.6666666666666666,
              "#ed7953"
             ],
             [
              0.7777777777777778,
              "#fb9f3a"
             ],
             [
              0.8888888888888888,
              "#fdca26"
             ],
             [
              1,
              "#f0f921"
             ]
            ],
            "type": "histogram2dcontour"
           }
          ],
          "mesh3d": [
           {
            "colorbar": {
             "outlinewidth": 0,
             "ticks": ""
            },
            "type": "mesh3d"
           }
          ],
          "parcoords": [
           {
            "line": {
             "colorbar": {
              "outlinewidth": 0,
              "ticks": ""
             }
            },
            "type": "parcoords"
           }
          ],
          "pie": [
           {
            "automargin": true,
            "type": "pie"
           }
          ],
          "scatter": [
           {
            "fillpattern": {
             "fillmode": "overlay",
             "size": 10,
             "solidity": 0.2
            },
            "type": "scatter"
           }
          ],
          "scatter3d": [
           {
            "line": {
             "colorbar": {
              "outlinewidth": 0,
              "ticks": ""
             }
            },
            "marker": {
             "colorbar": {
              "outlinewidth": 0,
              "ticks": ""
             }
            },
            "type": "scatter3d"
           }
          ],
          "scattercarpet": [
           {
            "marker": {
             "colorbar": {
              "outlinewidth": 0,
              "ticks": ""
             }
            },
            "type": "scattercarpet"
           }
          ],
          "scattergeo": [
           {
            "marker": {
             "colorbar": {
              "outlinewidth": 0,
              "ticks": ""
             }
            },
            "type": "scattergeo"
           }
          ],
          "scattergl": [
           {
            "marker": {
             "colorbar": {
              "outlinewidth": 0,
              "ticks": ""
             }
            },
            "type": "scattergl"
           }
          ],
          "scattermapbox": [
           {
            "marker": {
             "colorbar": {
              "outlinewidth": 0,
              "ticks": ""
             }
            },
            "type": "scattermapbox"
           }
          ],
          "scatterpolar": [
           {
            "marker": {
             "colorbar": {
              "outlinewidth": 0,
              "ticks": ""
             }
            },
            "type": "scatterpolar"
           }
          ],
          "scatterpolargl": [
           {
            "marker": {
             "colorbar": {
              "outlinewidth": 0,
              "ticks": ""
             }
            },
            "type": "scatterpolargl"
           }
          ],
          "scatterternary": [
           {
            "marker": {
             "colorbar": {
              "outlinewidth": 0,
              "ticks": ""
             }
            },
            "type": "scatterternary"
           }
          ],
          "surface": [
           {
            "colorbar": {
             "outlinewidth": 0,
             "ticks": ""
            },
            "colorscale": [
             [
              0,
              "#0d0887"
             ],
             [
              0.1111111111111111,
              "#46039f"
             ],
             [
              0.2222222222222222,
              "#7201a8"
             ],
             [
              0.3333333333333333,
              "#9c179e"
             ],
             [
              0.4444444444444444,
              "#bd3786"
             ],
             [
              0.5555555555555556,
              "#d8576b"
             ],
             [
              0.6666666666666666,
              "#ed7953"
             ],
             [
              0.7777777777777778,
              "#fb9f3a"
             ],
             [
              0.8888888888888888,
              "#fdca26"
             ],
             [
              1,
              "#f0f921"
             ]
            ],
            "type": "surface"
           }
          ],
          "table": [
           {
            "cells": {
             "fill": {
              "color": "#EBF0F8"
             },
             "line": {
              "color": "white"
             }
            },
            "header": {
             "fill": {
              "color": "#C8D4E3"
             },
             "line": {
              "color": "white"
             }
            },
            "type": "table"
           }
          ]
         },
         "layout": {
          "annotationdefaults": {
           "arrowcolor": "#2a3f5f",
           "arrowhead": 0,
           "arrowwidth": 1
          },
          "autotypenumbers": "strict",
          "coloraxis": {
           "colorbar": {
            "outlinewidth": 0,
            "ticks": ""
           }
          },
          "colorscale": {
           "diverging": [
            [
             0,
             "#8e0152"
            ],
            [
             0.1,
             "#c51b7d"
            ],
            [
             0.2,
             "#de77ae"
            ],
            [
             0.3,
             "#f1b6da"
            ],
            [
             0.4,
             "#fde0ef"
            ],
            [
             0.5,
             "#f7f7f7"
            ],
            [
             0.6,
             "#e6f5d0"
            ],
            [
             0.7,
             "#b8e186"
            ],
            [
             0.8,
             "#7fbc41"
            ],
            [
             0.9,
             "#4d9221"
            ],
            [
             1,
             "#276419"
            ]
           ],
           "sequential": [
            [
             0,
             "#0d0887"
            ],
            [
             0.1111111111111111,
             "#46039f"
            ],
            [
             0.2222222222222222,
             "#7201a8"
            ],
            [
             0.3333333333333333,
             "#9c179e"
            ],
            [
             0.4444444444444444,
             "#bd3786"
            ],
            [
             0.5555555555555556,
             "#d8576b"
            ],
            [
             0.6666666666666666,
             "#ed7953"
            ],
            [
             0.7777777777777778,
             "#fb9f3a"
            ],
            [
             0.8888888888888888,
             "#fdca26"
            ],
            [
             1,
             "#f0f921"
            ]
           ],
           "sequentialminus": [
            [
             0,
             "#0d0887"
            ],
            [
             0.1111111111111111,
             "#46039f"
            ],
            [
             0.2222222222222222,
             "#7201a8"
            ],
            [
             0.3333333333333333,
             "#9c179e"
            ],
            [
             0.4444444444444444,
             "#bd3786"
            ],
            [
             0.5555555555555556,
             "#d8576b"
            ],
            [
             0.6666666666666666,
             "#ed7953"
            ],
            [
             0.7777777777777778,
             "#fb9f3a"
            ],
            [
             0.8888888888888888,
             "#fdca26"
            ],
            [
             1,
             "#f0f921"
            ]
           ]
          },
          "colorway": [
           "#636efa",
           "#EF553B",
           "#00cc96",
           "#ab63fa",
           "#FFA15A",
           "#19d3f3",
           "#FF6692",
           "#B6E880",
           "#FF97FF",
           "#FECB52"
          ],
          "font": {
           "color": "#2a3f5f"
          },
          "geo": {
           "bgcolor": "white",
           "lakecolor": "white",
           "landcolor": "#E5ECF6",
           "showlakes": true,
           "showland": true,
           "subunitcolor": "white"
          },
          "hoverlabel": {
           "align": "left"
          },
          "hovermode": "closest",
          "mapbox": {
           "style": "light"
          },
          "paper_bgcolor": "white",
          "plot_bgcolor": "#E5ECF6",
          "polar": {
           "angularaxis": {
            "gridcolor": "white",
            "linecolor": "white",
            "ticks": ""
           },
           "bgcolor": "#E5ECF6",
           "radialaxis": {
            "gridcolor": "white",
            "linecolor": "white",
            "ticks": ""
           }
          },
          "scene": {
           "xaxis": {
            "backgroundcolor": "#E5ECF6",
            "gridcolor": "white",
            "gridwidth": 2,
            "linecolor": "white",
            "showbackground": true,
            "ticks": "",
            "zerolinecolor": "white"
           },
           "yaxis": {
            "backgroundcolor": "#E5ECF6",
            "gridcolor": "white",
            "gridwidth": 2,
            "linecolor": "white",
            "showbackground": true,
            "ticks": "",
            "zerolinecolor": "white"
           },
           "zaxis": {
            "backgroundcolor": "#E5ECF6",
            "gridcolor": "white",
            "gridwidth": 2,
            "linecolor": "white",
            "showbackground": true,
            "ticks": "",
            "zerolinecolor": "white"
           }
          },
          "shapedefaults": {
           "line": {
            "color": "#2a3f5f"
           }
          },
          "ternary": {
           "aaxis": {
            "gridcolor": "white",
            "linecolor": "white",
            "ticks": ""
           },
           "baxis": {
            "gridcolor": "white",
            "linecolor": "white",
            "ticks": ""
           },
           "bgcolor": "#E5ECF6",
           "caxis": {
            "gridcolor": "white",
            "linecolor": "white",
            "ticks": ""
           }
          },
          "title": {
           "x": 0.05
          },
          "xaxis": {
           "automargin": true,
           "gridcolor": "white",
           "linecolor": "white",
           "ticks": "",
           "title": {
            "standoff": 15
           },
           "zerolinecolor": "white",
           "zerolinewidth": 2
          },
          "yaxis": {
           "automargin": true,
           "gridcolor": "white",
           "linecolor": "white",
           "ticks": "",
           "title": {
            "standoff": 15
           },
           "zerolinecolor": "white",
           "zerolinewidth": 2
          }
         }
        },
        "title": {
         "text": "Feb. 2011 American Airline flight paths<br>(Hover for airport names)"
        },
        "xaxis": {
         "range": [
          100,
          100000
         ]
        },
        "yaxis": {
         "range": [
          1000,
          1000000000
         ]
        }
       }
      }
     },
     "metadata": {},
     "output_type": "display_data"
    }
   ],
   "source": [
    "import plotly.graph_objects as go\n",
    "import pandas as pd\n",
    "\n",
    "# df_airports = pd.read_csv('https://raw.githubusercontent.com/plotly/datasets/master/2011_february_us_airport_traffic.csv')\n",
    "# df_airports.head()\n",
    "\n",
    "# df_flight_paths = pd.read_csv('https://raw.githubusercontent.com/plotly/datasets/master/2011_february_aa_flight_paths.csv')\n",
    "# df_flight_paths.head()\n",
    "\n",
    "\n",
    "df_airports = pd.read_csv('BusStops.csv')\n",
    "df_flight_paths = pd.read_csv('Connections.csv')\n",
    "\n",
    "layout = go.Layout(\n",
    "    yaxis=dict(\n",
    "        range=[1000, 1000000000]\n",
    "\n",
    "    ),\n",
    "    xaxis=dict(\n",
    "        range=[100, 100000]\n",
    "    )\n",
    ")\n",
    "\n",
    "fig = go.Figure(layout=layout)\n",
    "\n",
    "fig.add_trace(go.Scattergeo(\n",
    "    # locationmode = 'USA-states',\n",
    "    lon = df_airports['lon'],\n",
    "    lat = df_airports['lat'],\n",
    "    hoverinfo = 'text',\n",
    "    text = df_airports['node'],\n",
    "    mode = 'markers',\n",
    "    marker = dict(\n",
    "        size = 2,\n",
    "        color = 'rgb(255, 0, 0)',\n",
    "        line = dict(\n",
    "            width = 3,\n",
    "            color = 'rgba(68, 68, 68, 0)'\n",
    "        )\n",
    "    )))\n",
    "\n",
    "flight_paths = []\n",
    "for i in range(len(df_flight_paths)):\n",
    "    fig.add_trace(\n",
    "        go.Scattergeo(\n",
    "            # locationmode = 'USA-states',\n",
    "            lon = [df_flight_paths['start_lon'][i], df_flight_paths['end_lon'][i]],\n",
    "            lat = [df_flight_paths['start_lat'][i], df_flight_paths['end_lat'][i]],\n",
    "            mode = 'lines',\n",
    "            line = dict(width = 1,color = 'red')\n",
    "            # opacity = float(df_flight_paths['cnt'][i]) / float(df_flight_paths['cnt'].max()),\n",
    "        )\n",
    "    )\n",
    "    \n",
    "\n",
    "fig.update_layout(\n",
    "    title_text = 'Feb. 2011 American Airline flight paths<br>(Hover for airport names)',\n",
    "    showlegend = False,\n",
    "    geo = dict(\n",
    "        scope = 'north america',\n",
    "        \n",
    "        projection_type = 'azimuthal equal area',\n",
    "        showland = True,\n",
    "        landcolor = 'rgb(243, 243, 243)',\n",
    "        countrycolor = 'rgb(204, 204, 204)',\n",
    "    ),\n",
    ")\n",
    "\n",
    "fig.show()"
   ]
  },
  {
   "cell_type": "code",
   "execution_count": null,
   "id": "31c50cc9",
   "metadata": {},
   "outputs": [],
   "source": []
  }
 ],
 "metadata": {
  "kernelspec": {
   "display_name": "Python 3 (ipykernel)",
   "language": "python",
   "name": "python3"
  },
  "language_info": {
   "codemirror_mode": {
    "name": "ipython",
    "version": 3
   },
   "file_extension": ".py",
   "mimetype": "text/x-python",
   "name": "python",
   "nbconvert_exporter": "python",
   "pygments_lexer": "ipython3",
   "version": "3.9.12"
  }
 },
 "nbformat": 4,
 "nbformat_minor": 5
}
